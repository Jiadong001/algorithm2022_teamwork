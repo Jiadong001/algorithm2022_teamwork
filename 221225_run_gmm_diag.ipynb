{
 "cells": [
  {
   "attachments": {},
   "cell_type": "markdown",
   "metadata": {},
   "source": [
    "Prepare audioset"
   ]
  },
  {
   "cell_type": "code",
   "execution_count": 27,
   "metadata": {},
   "outputs": [],
   "source": [
    "import pandas as pd\n",
    "\n",
    "datapath = \"/data/lujd/algorithm2022/audioset/\"\n",
    "train_df = pd.read_csv(datapath+\"train.csv\", sep=\"\\t\")\n",
    "dev_df = pd.read_csv(datapath+\"dev.csv\", sep=\"\\t\")\n",
    "eval_df = pd.read_csv(datapath+\"eval.csv\", sep=\"\\t\")\n",
    "\n",
    "unique_labels = ['airport', 'bus', 'metro', 'metro_station',\n",
    "                'park', 'public_square', 'shopping_mall',\n",
    "                'street_pedestrian', 'street_traffic', 'tram']\n",
    "label_dict = {}\n",
    "for ind, c in enumerate(unique_labels):\n",
    "    label_dict[c] = ind"
   ]
  },
  {
   "attachments": {},
   "cell_type": "markdown",
   "metadata": {},
   "source": [
    "Train"
   ]
  },
  {
   "cell_type": "code",
   "execution_count": 28,
   "metadata": {},
   "outputs": [
    {
     "name": "stdout",
     "output_type": "stream",
     "text": [
      "train feature size: (3008, 6487)\n",
      "dev feature size: (379, 6487)\n"
     ]
    }
   ],
   "source": [
    "# extract feature\n",
    "import numpy as np\n",
    "from Extract_feature import extract_mfcc\n",
    "\n",
    "# train set\n",
    "train_files = list(train_df.filename)\n",
    "train_labels = list(train_df.scene_label)\n",
    "train_features = []\n",
    "for filename in train_files:\n",
    "    wav_file_path = datapath+filename\n",
    "    mfcc_feature = extract_mfcc(wav_file_path, option=\"mfcc\")\n",
    "    train_features.append(mfcc_feature.reshape(1,-1))           # [1, frames*n_features] (flatten)\n",
    "train_features = np.concatenate(train_features, axis=0)\n",
    "print(f\"train feature size: {train_features.shape}\")\n",
    "\n",
    "# dev set\n",
    "dev_files = list(dev_df.filename)\n",
    "dev_labels = list(dev_df.scene_label)\n",
    "dev_labels = [label_dict[c] for c in dev_labels]\n",
    "dev_features = []\n",
    "for filename in dev_files:\n",
    "    wav_file_path = datapath+filename\n",
    "    mfcc_feature = extract_mfcc(wav_file_path, option=\"mfcc\")\n",
    "    dev_features.append(mfcc_feature.reshape(1,-1))             # [1, frames*n_features] (flatten)\n",
    "dev_features = np.concatenate(dev_features, axis=0)\n",
    "print(f\"dev feature size: {dev_features.shape}\")"
   ]
  },
  {
   "cell_type": "code",
   "execution_count": 29,
   "metadata": {},
   "outputs": [
    {
     "name": "stderr",
     "output_type": "stream",
     "text": [
      "e:\\Programming_Language\\Python\\anaconda\\ANACONDA3_2021_11\\envs\\pytorch_170\\lib\\site-packages\\sklearn\\cluster\\_kmeans.py:1332: UserWarning: KMeans is known to have a memory leak on Windows with MKL, when there are less chunks than available threads. You can avoid it by setting the environment variable OMP_NUM_THREADS=2.\n",
      "  warnings.warn(\n",
      "e:\\Programming_Language\\Python\\anaconda\\ANACONDA3_2021_11\\envs\\pytorch_170\\lib\\site-packages\\sklearn\\cluster\\_kmeans.py:1332: UserWarning: KMeans is known to have a memory leak on Windows with MKL, when there are less chunks than available threads. You can avoid it by setting the environment variable OMP_NUM_THREADS=2.\n",
      "  warnings.warn(\n",
      "e:\\Programming_Language\\Python\\anaconda\\ANACONDA3_2021_11\\envs\\pytorch_170\\lib\\site-packages\\sklearn\\cluster\\_kmeans.py:1332: UserWarning: KMeans is known to have a memory leak on Windows with MKL, when there are less chunks than available threads. You can avoid it by setting the environment variable OMP_NUM_THREADS=2.\n",
      "  warnings.warn(\n"
     ]
    },
    {
     "name": "stdout",
     "output_type": "stream",
     "text": [
      "12\n"
     ]
    },
    {
     "name": "stderr",
     "output_type": "stream",
     "text": [
      "e:\\Programming_Language\\Python\\anaconda\\ANACONDA3_2021_11\\envs\\pytorch_170\\lib\\site-packages\\sklearn\\cluster\\_kmeans.py:1332: UserWarning: KMeans is known to have a memory leak on Windows with MKL, when there are less chunks than available threads. You can avoid it by setting the environment variable OMP_NUM_THREADS=2.\n",
      "  warnings.warn(\n",
      "e:\\Programming_Language\\Python\\anaconda\\ANACONDA3_2021_11\\envs\\pytorch_170\\lib\\site-packages\\sklearn\\cluster\\_kmeans.py:1332: UserWarning: KMeans is known to have a memory leak on Windows with MKL, when there are less chunks than available threads. You can avoid it by setting the environment variable OMP_NUM_THREADS=2.\n",
      "  warnings.warn(\n",
      "e:\\Programming_Language\\Python\\anaconda\\ANACONDA3_2021_11\\envs\\pytorch_170\\lib\\site-packages\\sklearn\\cluster\\_kmeans.py:1332: UserWarning: KMeans is known to have a memory leak on Windows with MKL, when there are less chunks than available threads. You can avoid it by setting the environment variable OMP_NUM_THREADS=2.\n",
      "  warnings.warn(\n"
     ]
    },
    {
     "name": "stdout",
     "output_type": "stream",
     "text": [
      "10\n"
     ]
    },
    {
     "name": "stderr",
     "output_type": "stream",
     "text": [
      "e:\\Programming_Language\\Python\\anaconda\\ANACONDA3_2021_11\\envs\\pytorch_170\\lib\\site-packages\\sklearn\\cluster\\_kmeans.py:1332: UserWarning: KMeans is known to have a memory leak on Windows with MKL, when there are less chunks than available threads. You can avoid it by setting the environment variable OMP_NUM_THREADS=2.\n",
      "  warnings.warn(\n",
      "e:\\Programming_Language\\Python\\anaconda\\ANACONDA3_2021_11\\envs\\pytorch_170\\lib\\site-packages\\sklearn\\cluster\\_kmeans.py:1332: UserWarning: KMeans is known to have a memory leak on Windows with MKL, when there are less chunks than available threads. You can avoid it by setting the environment variable OMP_NUM_THREADS=2.\n",
      "  warnings.warn(\n",
      "e:\\Programming_Language\\Python\\anaconda\\ANACONDA3_2021_11\\envs\\pytorch_170\\lib\\site-packages\\sklearn\\cluster\\_kmeans.py:1332: UserWarning: KMeans is known to have a memory leak on Windows with MKL, when there are less chunks than available threads. You can avoid it by setting the environment variable OMP_NUM_THREADS=2.\n",
      "  warnings.warn(\n"
     ]
    },
    {
     "name": "stdout",
     "output_type": "stream",
     "text": [
      "6\n"
     ]
    },
    {
     "name": "stderr",
     "output_type": "stream",
     "text": [
      "e:\\Programming_Language\\Python\\anaconda\\ANACONDA3_2021_11\\envs\\pytorch_170\\lib\\site-packages\\sklearn\\cluster\\_kmeans.py:1332: UserWarning: KMeans is known to have a memory leak on Windows with MKL, when there are less chunks than available threads. You can avoid it by setting the environment variable OMP_NUM_THREADS=2.\n",
      "  warnings.warn(\n",
      "e:\\Programming_Language\\Python\\anaconda\\ANACONDA3_2021_11\\envs\\pytorch_170\\lib\\site-packages\\sklearn\\cluster\\_kmeans.py:1332: UserWarning: KMeans is known to have a memory leak on Windows with MKL, when there are less chunks than available threads. You can avoid it by setting the environment variable OMP_NUM_THREADS=2.\n",
      "  warnings.warn(\n",
      "e:\\Programming_Language\\Python\\anaconda\\ANACONDA3_2021_11\\envs\\pytorch_170\\lib\\site-packages\\sklearn\\cluster\\_kmeans.py:1332: UserWarning: KMeans is known to have a memory leak on Windows with MKL, when there are less chunks than available threads. You can avoid it by setting the environment variable OMP_NUM_THREADS=2.\n",
      "  warnings.warn(\n"
     ]
    },
    {
     "name": "stdout",
     "output_type": "stream",
     "text": [
      "23\n"
     ]
    },
    {
     "name": "stderr",
     "output_type": "stream",
     "text": [
      "e:\\Programming_Language\\Python\\anaconda\\ANACONDA3_2021_11\\envs\\pytorch_170\\lib\\site-packages\\sklearn\\cluster\\_kmeans.py:1332: UserWarning: KMeans is known to have a memory leak on Windows with MKL, when there are less chunks than available threads. You can avoid it by setting the environment variable OMP_NUM_THREADS=2.\n",
      "  warnings.warn(\n",
      "e:\\Programming_Language\\Python\\anaconda\\ANACONDA3_2021_11\\envs\\pytorch_170\\lib\\site-packages\\sklearn\\cluster\\_kmeans.py:1332: UserWarning: KMeans is known to have a memory leak on Windows with MKL, when there are less chunks than available threads. You can avoid it by setting the environment variable OMP_NUM_THREADS=2.\n",
      "  warnings.warn(\n",
      "e:\\Programming_Language\\Python\\anaconda\\ANACONDA3_2021_11\\envs\\pytorch_170\\lib\\site-packages\\sklearn\\cluster\\_kmeans.py:1332: UserWarning: KMeans is known to have a memory leak on Windows with MKL, when there are less chunks than available threads. You can avoid it by setting the environment variable OMP_NUM_THREADS=2.\n",
      "  warnings.warn(\n",
      "e:\\Programming_Language\\Python\\anaconda\\ANACONDA3_2021_11\\envs\\pytorch_170\\lib\\site-packages\\sklearn\\cluster\\_kmeans.py:1332: UserWarning: KMeans is known to have a memory leak on Windows with MKL, when there are less chunks than available threads. You can avoid it by setting the environment variable OMP_NUM_THREADS=2.\n",
      "  warnings.warn(\n"
     ]
    },
    {
     "name": "stdout",
     "output_type": "stream",
     "text": [
      "9\n"
     ]
    },
    {
     "name": "stderr",
     "output_type": "stream",
     "text": [
      "e:\\Programming_Language\\Python\\anaconda\\ANACONDA3_2021_11\\envs\\pytorch_170\\lib\\site-packages\\sklearn\\cluster\\_kmeans.py:1332: UserWarning: KMeans is known to have a memory leak on Windows with MKL, when there are less chunks than available threads. You can avoid it by setting the environment variable OMP_NUM_THREADS=2.\n",
      "  warnings.warn(\n",
      "e:\\Programming_Language\\Python\\anaconda\\ANACONDA3_2021_11\\envs\\pytorch_170\\lib\\site-packages\\sklearn\\cluster\\_kmeans.py:1332: UserWarning: KMeans is known to have a memory leak on Windows with MKL, when there are less chunks than available threads. You can avoid it by setting the environment variable OMP_NUM_THREADS=2.\n",
      "  warnings.warn(\n",
      "e:\\Programming_Language\\Python\\anaconda\\ANACONDA3_2021_11\\envs\\pytorch_170\\lib\\site-packages\\sklearn\\cluster\\_kmeans.py:1332: UserWarning: KMeans is known to have a memory leak on Windows with MKL, when there are less chunks than available threads. You can avoid it by setting the environment variable OMP_NUM_THREADS=2.\n",
      "  warnings.warn(\n"
     ]
    },
    {
     "name": "stdout",
     "output_type": "stream",
     "text": [
      "6\n"
     ]
    },
    {
     "name": "stderr",
     "output_type": "stream",
     "text": [
      "e:\\Programming_Language\\Python\\anaconda\\ANACONDA3_2021_11\\envs\\pytorch_170\\lib\\site-packages\\sklearn\\cluster\\_kmeans.py:1332: UserWarning: KMeans is known to have a memory leak on Windows with MKL, when there are less chunks than available threads. You can avoid it by setting the environment variable OMP_NUM_THREADS=2.\n",
      "  warnings.warn(\n",
      "e:\\Programming_Language\\Python\\anaconda\\ANACONDA3_2021_11\\envs\\pytorch_170\\lib\\site-packages\\sklearn\\cluster\\_kmeans.py:1332: UserWarning: KMeans is known to have a memory leak on Windows with MKL, when there are less chunks than available threads. You can avoid it by setting the environment variable OMP_NUM_THREADS=2.\n",
      "  warnings.warn(\n"
     ]
    },
    {
     "name": "stdout",
     "output_type": "stream",
     "text": [
      "7\n"
     ]
    },
    {
     "name": "stderr",
     "output_type": "stream",
     "text": [
      "e:\\Programming_Language\\Python\\anaconda\\ANACONDA3_2021_11\\envs\\pytorch_170\\lib\\site-packages\\sklearn\\cluster\\_kmeans.py:1332: UserWarning: KMeans is known to have a memory leak on Windows with MKL, when there are less chunks than available threads. You can avoid it by setting the environment variable OMP_NUM_THREADS=2.\n",
      "  warnings.warn(\n",
      "e:\\Programming_Language\\Python\\anaconda\\ANACONDA3_2021_11\\envs\\pytorch_170\\lib\\site-packages\\sklearn\\cluster\\_kmeans.py:1332: UserWarning: KMeans is known to have a memory leak on Windows with MKL, when there are less chunks than available threads. You can avoid it by setting the environment variable OMP_NUM_THREADS=2.\n",
      "  warnings.warn(\n",
      "e:\\Programming_Language\\Python\\anaconda\\ANACONDA3_2021_11\\envs\\pytorch_170\\lib\\site-packages\\sklearn\\cluster\\_kmeans.py:1332: UserWarning: KMeans is known to have a memory leak on Windows with MKL, when there are less chunks than available threads. You can avoid it by setting the environment variable OMP_NUM_THREADS=2.\n",
      "  warnings.warn(\n"
     ]
    },
    {
     "name": "stdout",
     "output_type": "stream",
     "text": [
      "7\n"
     ]
    },
    {
     "name": "stderr",
     "output_type": "stream",
     "text": [
      "e:\\Programming_Language\\Python\\anaconda\\ANACONDA3_2021_11\\envs\\pytorch_170\\lib\\site-packages\\sklearn\\cluster\\_kmeans.py:1332: UserWarning: KMeans is known to have a memory leak on Windows with MKL, when there are less chunks than available threads. You can avoid it by setting the environment variable OMP_NUM_THREADS=2.\n",
      "  warnings.warn(\n",
      "e:\\Programming_Language\\Python\\anaconda\\ANACONDA3_2021_11\\envs\\pytorch_170\\lib\\site-packages\\sklearn\\cluster\\_kmeans.py:1332: UserWarning: KMeans is known to have a memory leak on Windows with MKL, when there are less chunks than available threads. You can avoid it by setting the environment variable OMP_NUM_THREADS=2.\n",
      "  warnings.warn(\n",
      "e:\\Programming_Language\\Python\\anaconda\\ANACONDA3_2021_11\\envs\\pytorch_170\\lib\\site-packages\\sklearn\\cluster\\_kmeans.py:1332: UserWarning: KMeans is known to have a memory leak on Windows with MKL, when there are less chunks than available threads. You can avoid it by setting the environment variable OMP_NUM_THREADS=2.\n",
      "  warnings.warn(\n"
     ]
    },
    {
     "name": "stdout",
     "output_type": "stream",
     "text": [
      "7\n"
     ]
    },
    {
     "name": "stderr",
     "output_type": "stream",
     "text": [
      "e:\\Programming_Language\\Python\\anaconda\\ANACONDA3_2021_11\\envs\\pytorch_170\\lib\\site-packages\\sklearn\\cluster\\_kmeans.py:1332: UserWarning: KMeans is known to have a memory leak on Windows with MKL, when there are less chunks than available threads. You can avoid it by setting the environment variable OMP_NUM_THREADS=2.\n",
      "  warnings.warn(\n",
      "e:\\Programming_Language\\Python\\anaconda\\ANACONDA3_2021_11\\envs\\pytorch_170\\lib\\site-packages\\sklearn\\cluster\\_kmeans.py:1332: UserWarning: KMeans is known to have a memory leak on Windows with MKL, when there are less chunks than available threads. You can avoid it by setting the environment variable OMP_NUM_THREADS=2.\n",
      "  warnings.warn(\n",
      "e:\\Programming_Language\\Python\\anaconda\\ANACONDA3_2021_11\\envs\\pytorch_170\\lib\\site-packages\\sklearn\\cluster\\_kmeans.py:1332: UserWarning: KMeans is known to have a memory leak on Windows with MKL, when there are less chunks than available threads. You can avoid it by setting the environment variable OMP_NUM_THREADS=2.\n",
      "  warnings.warn(\n"
     ]
    },
    {
     "name": "stdout",
     "output_type": "stream",
     "text": [
      "8\n"
     ]
    }
   ],
   "source": [
    "# train GMMs for each class\n",
    "import numpy as np\n",
    "from sklearn.mixture import GaussianMixture\n",
    "\n",
    "gmm_classifier_dict = {}\n",
    "start_pos, end_pos = 0, 0\n",
    "for ind, c in enumerate(unique_labels):\n",
    "    target_df = train_df[train_df.scene_label==c]\n",
    "    end_pos += len(target_df)\n",
    "    # print(start_pos, end_pos)\n",
    "    gmm = GaussianMixture(n_components=8, max_iter=50, n_init=3, tol=1e-3,\n",
    "                        covariance_type='full', init_params=\"kmeans\", random_state=0)\n",
    "    gmm.fit(train_features[start_pos:end_pos,:])\n",
    "    start_pos = end_pos\n",
    "    print(gmm.n_iter_)\n",
    "    gmm_classifier_dict[ind] = gmm"
   ]
  },
  {
   "cell_type": "code",
   "execution_count": 30,
   "metadata": {},
   "outputs": [
    {
     "data": {
      "text/html": [
       "<div>\n",
       "<style scoped>\n",
       "    .dataframe tbody tr th:only-of-type {\n",
       "        vertical-align: middle;\n",
       "    }\n",
       "\n",
       "    .dataframe tbody tr th {\n",
       "        vertical-align: top;\n",
       "    }\n",
       "\n",
       "    .dataframe thead th {\n",
       "        text-align: right;\n",
       "    }\n",
       "</style>\n",
       "<table border=\"1\" class=\"dataframe\">\n",
       "  <thead>\n",
       "    <tr style=\"text-align: right;\">\n",
       "      <th></th>\n",
       "      <th>airport</th>\n",
       "      <th>bus</th>\n",
       "      <th>metro</th>\n",
       "      <th>metro_station</th>\n",
       "      <th>park</th>\n",
       "      <th>public_square</th>\n",
       "      <th>shopping_mall</th>\n",
       "      <th>street_pedestrian</th>\n",
       "      <th>street_traffic</th>\n",
       "      <th>tram</th>\n",
       "    </tr>\n",
       "  </thead>\n",
       "  <tbody>\n",
       "    <tr>\n",
       "      <th>airport</th>\n",
       "      <td>27</td>\n",
       "      <td>0</td>\n",
       "      <td>0</td>\n",
       "      <td>4</td>\n",
       "      <td>0</td>\n",
       "      <td>1</td>\n",
       "      <td>2</td>\n",
       "      <td>3</td>\n",
       "      <td>0</td>\n",
       "      <td>0</td>\n",
       "    </tr>\n",
       "    <tr>\n",
       "      <th>bus</th>\n",
       "      <td>0</td>\n",
       "      <td>33</td>\n",
       "      <td>2</td>\n",
       "      <td>1</td>\n",
       "      <td>1</td>\n",
       "      <td>0</td>\n",
       "      <td>1</td>\n",
       "      <td>1</td>\n",
       "      <td>0</td>\n",
       "      <td>1</td>\n",
       "    </tr>\n",
       "    <tr>\n",
       "      <th>metro</th>\n",
       "      <td>0</td>\n",
       "      <td>4</td>\n",
       "      <td>22</td>\n",
       "      <td>8</td>\n",
       "      <td>0</td>\n",
       "      <td>0</td>\n",
       "      <td>0</td>\n",
       "      <td>0</td>\n",
       "      <td>0</td>\n",
       "      <td>3</td>\n",
       "    </tr>\n",
       "    <tr>\n",
       "      <th>metro_station</th>\n",
       "      <td>2</td>\n",
       "      <td>2</td>\n",
       "      <td>5</td>\n",
       "      <td>14</td>\n",
       "      <td>1</td>\n",
       "      <td>4</td>\n",
       "      <td>4</td>\n",
       "      <td>4</td>\n",
       "      <td>1</td>\n",
       "      <td>0</td>\n",
       "    </tr>\n",
       "    <tr>\n",
       "      <th>park</th>\n",
       "      <td>0</td>\n",
       "      <td>2</td>\n",
       "      <td>0</td>\n",
       "      <td>0</td>\n",
       "      <td>34</td>\n",
       "      <td>1</td>\n",
       "      <td>0</td>\n",
       "      <td>0</td>\n",
       "      <td>1</td>\n",
       "      <td>1</td>\n",
       "    </tr>\n",
       "    <tr>\n",
       "      <th>public_square</th>\n",
       "      <td>2</td>\n",
       "      <td>3</td>\n",
       "      <td>1</td>\n",
       "      <td>1</td>\n",
       "      <td>4</td>\n",
       "      <td>13</td>\n",
       "      <td>1</td>\n",
       "      <td>12</td>\n",
       "      <td>2</td>\n",
       "      <td>0</td>\n",
       "    </tr>\n",
       "    <tr>\n",
       "      <th>shopping_mall</th>\n",
       "      <td>5</td>\n",
       "      <td>0</td>\n",
       "      <td>0</td>\n",
       "      <td>2</td>\n",
       "      <td>0</td>\n",
       "      <td>4</td>\n",
       "      <td>23</td>\n",
       "      <td>2</td>\n",
       "      <td>0</td>\n",
       "      <td>0</td>\n",
       "    </tr>\n",
       "    <tr>\n",
       "      <th>street_pedestrian</th>\n",
       "      <td>10</td>\n",
       "      <td>0</td>\n",
       "      <td>0</td>\n",
       "      <td>1</td>\n",
       "      <td>0</td>\n",
       "      <td>6</td>\n",
       "      <td>0</td>\n",
       "      <td>20</td>\n",
       "      <td>0</td>\n",
       "      <td>1</td>\n",
       "    </tr>\n",
       "    <tr>\n",
       "      <th>street_traffic</th>\n",
       "      <td>0</td>\n",
       "      <td>0</td>\n",
       "      <td>0</td>\n",
       "      <td>0</td>\n",
       "      <td>1</td>\n",
       "      <td>4</td>\n",
       "      <td>0</td>\n",
       "      <td>0</td>\n",
       "      <td>32</td>\n",
       "      <td>2</td>\n",
       "    </tr>\n",
       "    <tr>\n",
       "      <th>tram</th>\n",
       "      <td>0</td>\n",
       "      <td>6</td>\n",
       "      <td>4</td>\n",
       "      <td>3</td>\n",
       "      <td>1</td>\n",
       "      <td>2</td>\n",
       "      <td>0</td>\n",
       "      <td>0</td>\n",
       "      <td>0</td>\n",
       "      <td>21</td>\n",
       "    </tr>\n",
       "  </tbody>\n",
       "</table>\n",
       "</div>"
      ],
      "text/plain": [
       "                   airport  bus  metro  metro_station  park  public_square  \\\n",
       "airport                 27    0      0              4     0              1   \n",
       "bus                      0   33      2              1     1              0   \n",
       "metro                    0    4     22              8     0              0   \n",
       "metro_station            2    2      5             14     1              4   \n",
       "park                     0    2      0              0    34              1   \n",
       "public_square            2    3      1              1     4             13   \n",
       "shopping_mall            5    0      0              2     0              4   \n",
       "street_pedestrian       10    0      0              1     0              6   \n",
       "street_traffic           0    0      0              0     1              4   \n",
       "tram                     0    6      4              3     1              2   \n",
       "\n",
       "                   shopping_mall  street_pedestrian  street_traffic  tram  \n",
       "airport                        2                  3               0     0  \n",
       "bus                            1                  1               0     1  \n",
       "metro                          0                  0               0     3  \n",
       "metro_station                  4                  4               1     0  \n",
       "park                           0                  0               1     1  \n",
       "public_square                  1                 12               2     0  \n",
       "shopping_mall                 23                  2               0     0  \n",
       "street_pedestrian              0                 20               0     1  \n",
       "street_traffic                 0                  0              32     2  \n",
       "tram                           0                  0               0    21  "
      ]
     },
     "execution_count": 30,
     "metadata": {},
     "output_type": "execute_result"
    }
   ],
   "source": [
    "# dev\n",
    "from sklearn.metrics import confusion_matrix\n",
    "\n",
    "# find max score\n",
    "pre_scores_list = []\n",
    "for i in label_dict.values():\n",
    "    pre_scores = gmm_classifier_dict[i].score_samples(dev_features)\n",
    "    pre_scores_list.append(pre_scores.reshape(1,-1))\n",
    "    # print(pre_scores.shape)\n",
    "pre_scores_list = np.concatenate(pre_scores_list, axis=0)\n",
    "dev_pre_labels = np.argmax(pre_scores_list, axis=0)\n",
    "\n",
    "dev_true_labels = np.asarray(dev_labels)\n",
    "dev_cm = confusion_matrix(dev_true_labels, dev_pre_labels)\n",
    "dev_cm_df = pd.DataFrame(dev_cm, columns=label_dict.keys(), index=label_dict.keys())\n",
    "dev_cm_df"
   ]
  },
  {
   "cell_type": "code",
   "execution_count": 31,
   "metadata": {},
   "outputs": [
    {
     "data": {
      "text/html": [
       "<div>\n",
       "<style scoped>\n",
       "    .dataframe tbody tr th:only-of-type {\n",
       "        vertical-align: middle;\n",
       "    }\n",
       "\n",
       "    .dataframe tbody tr th {\n",
       "        vertical-align: top;\n",
       "    }\n",
       "\n",
       "    .dataframe thead th {\n",
       "        text-align: right;\n",
       "    }\n",
       "</style>\n",
       "<table border=\"1\" class=\"dataframe\">\n",
       "  <thead>\n",
       "    <tr style=\"text-align: right;\">\n",
       "      <th></th>\n",
       "      <th>airport</th>\n",
       "      <th>bus</th>\n",
       "      <th>metro</th>\n",
       "      <th>metro_station</th>\n",
       "      <th>park</th>\n",
       "      <th>public_square</th>\n",
       "      <th>shopping_mall</th>\n",
       "      <th>street_pedestrian</th>\n",
       "      <th>street_traffic</th>\n",
       "      <th>tram</th>\n",
       "      <th>average</th>\n",
       "    </tr>\n",
       "  </thead>\n",
       "  <tbody>\n",
       "    <tr>\n",
       "      <th>0</th>\n",
       "      <td>0.72973</td>\n",
       "      <td>0.825</td>\n",
       "      <td>0.594595</td>\n",
       "      <td>0.378378</td>\n",
       "      <td>0.871795</td>\n",
       "      <td>0.333333</td>\n",
       "      <td>0.638889</td>\n",
       "      <td>0.526316</td>\n",
       "      <td>0.820513</td>\n",
       "      <td>0.567568</td>\n",
       "      <td>0.628612</td>\n",
       "    </tr>\n",
       "  </tbody>\n",
       "</table>\n",
       "</div>"
      ],
      "text/plain": [
       "   airport    bus     metro  metro_station      park  public_square  \\\n",
       "0  0.72973  0.825  0.594595       0.378378  0.871795       0.333333   \n",
       "\n",
       "   shopping_mall  street_pedestrian  street_traffic      tram   average  \n",
       "0       0.638889           0.526316        0.820513  0.567568  0.628612  "
      ]
     },
     "execution_count": 31,
     "metadata": {},
     "output_type": "execute_result"
    }
   ],
   "source": [
    "dev_acc_df = pd.DataFrame()\n",
    "for c, i in label_dict.items():\n",
    "    acc = dev_cm[i,i] / np.sum(dev_cm[i])\n",
    "    dev_acc_df[c] = [acc]\n",
    "dev_acc_df[\"average\"] = sum(dev_acc_df.iloc[0])/len(dev_acc_df.iloc[0])\n",
    "dev_acc_df"
   ]
  },
  {
   "attachments": {},
   "cell_type": "markdown",
   "metadata": {},
   "source": [
    "Test on eval set"
   ]
  },
  {
   "cell_type": "code",
   "execution_count": 32,
   "metadata": {},
   "outputs": [
    {
     "name": "stdout",
     "output_type": "stream",
     "text": [
      "eval feature size: (330, 6487)\n"
     ]
    }
   ],
   "source": [
    "# extract feature\n",
    "eval_files = list(eval_df.filename)\n",
    "eval_labels = list(eval_df.scene_label)\n",
    "eval_labels = [label_dict[c] for c in eval_labels]\n",
    "eval_features = []\n",
    "for filename in eval_files:\n",
    "    wav_file_path = datapath+filename\n",
    "    mfcc_feature = extract_mfcc(wav_file_path, option=\"mfcc\")\n",
    "    eval_features.append(mfcc_feature.reshape(1,-1))             # [1, frames*n_features] (flatten)\n",
    "eval_features = np.concatenate(eval_features, axis=0)\n",
    "print(f\"eval feature size: {eval_features.shape}\")"
   ]
  },
  {
   "cell_type": "code",
   "execution_count": 33,
   "metadata": {},
   "outputs": [
    {
     "data": {
      "text/html": [
       "<div>\n",
       "<style scoped>\n",
       "    .dataframe tbody tr th:only-of-type {\n",
       "        vertical-align: middle;\n",
       "    }\n",
       "\n",
       "    .dataframe tbody tr th {\n",
       "        vertical-align: top;\n",
       "    }\n",
       "\n",
       "    .dataframe thead th {\n",
       "        text-align: right;\n",
       "    }\n",
       "</style>\n",
       "<table border=\"1\" class=\"dataframe\">\n",
       "  <thead>\n",
       "    <tr style=\"text-align: right;\">\n",
       "      <th></th>\n",
       "      <th>airport</th>\n",
       "      <th>bus</th>\n",
       "      <th>metro</th>\n",
       "      <th>metro_station</th>\n",
       "      <th>park</th>\n",
       "      <th>public_square</th>\n",
       "      <th>shopping_mall</th>\n",
       "      <th>street_pedestrian</th>\n",
       "      <th>street_traffic</th>\n",
       "      <th>tram</th>\n",
       "    </tr>\n",
       "  </thead>\n",
       "  <tbody>\n",
       "    <tr>\n",
       "      <th>airport</th>\n",
       "      <td>17</td>\n",
       "      <td>0</td>\n",
       "      <td>0</td>\n",
       "      <td>0</td>\n",
       "      <td>0</td>\n",
       "      <td>2</td>\n",
       "      <td>7</td>\n",
       "      <td>7</td>\n",
       "      <td>0</td>\n",
       "      <td>0</td>\n",
       "    </tr>\n",
       "    <tr>\n",
       "      <th>bus</th>\n",
       "      <td>0</td>\n",
       "      <td>21</td>\n",
       "      <td>6</td>\n",
       "      <td>0</td>\n",
       "      <td>1</td>\n",
       "      <td>0</td>\n",
       "      <td>0</td>\n",
       "      <td>0</td>\n",
       "      <td>0</td>\n",
       "      <td>5</td>\n",
       "    </tr>\n",
       "    <tr>\n",
       "      <th>metro</th>\n",
       "      <td>2</td>\n",
       "      <td>3</td>\n",
       "      <td>12</td>\n",
       "      <td>6</td>\n",
       "      <td>0</td>\n",
       "      <td>0</td>\n",
       "      <td>0</td>\n",
       "      <td>1</td>\n",
       "      <td>1</td>\n",
       "      <td>8</td>\n",
       "    </tr>\n",
       "    <tr>\n",
       "      <th>metro_station</th>\n",
       "      <td>2</td>\n",
       "      <td>0</td>\n",
       "      <td>5</td>\n",
       "      <td>9</td>\n",
       "      <td>1</td>\n",
       "      <td>4</td>\n",
       "      <td>1</td>\n",
       "      <td>4</td>\n",
       "      <td>2</td>\n",
       "      <td>5</td>\n",
       "    </tr>\n",
       "    <tr>\n",
       "      <th>park</th>\n",
       "      <td>0</td>\n",
       "      <td>1</td>\n",
       "      <td>0</td>\n",
       "      <td>2</td>\n",
       "      <td>26</td>\n",
       "      <td>1</td>\n",
       "      <td>0</td>\n",
       "      <td>0</td>\n",
       "      <td>2</td>\n",
       "      <td>1</td>\n",
       "    </tr>\n",
       "    <tr>\n",
       "      <th>public_square</th>\n",
       "      <td>1</td>\n",
       "      <td>0</td>\n",
       "      <td>0</td>\n",
       "      <td>0</td>\n",
       "      <td>4</td>\n",
       "      <td>16</td>\n",
       "      <td>0</td>\n",
       "      <td>5</td>\n",
       "      <td>5</td>\n",
       "      <td>2</td>\n",
       "    </tr>\n",
       "    <tr>\n",
       "      <th>shopping_mall</th>\n",
       "      <td>11</td>\n",
       "      <td>0</td>\n",
       "      <td>0</td>\n",
       "      <td>3</td>\n",
       "      <td>0</td>\n",
       "      <td>1</td>\n",
       "      <td>15</td>\n",
       "      <td>3</td>\n",
       "      <td>0</td>\n",
       "      <td>0</td>\n",
       "    </tr>\n",
       "    <tr>\n",
       "      <th>street_pedestrian</th>\n",
       "      <td>5</td>\n",
       "      <td>1</td>\n",
       "      <td>0</td>\n",
       "      <td>2</td>\n",
       "      <td>0</td>\n",
       "      <td>9</td>\n",
       "      <td>5</td>\n",
       "      <td>10</td>\n",
       "      <td>1</td>\n",
       "      <td>0</td>\n",
       "    </tr>\n",
       "    <tr>\n",
       "      <th>street_traffic</th>\n",
       "      <td>0</td>\n",
       "      <td>1</td>\n",
       "      <td>0</td>\n",
       "      <td>0</td>\n",
       "      <td>0</td>\n",
       "      <td>3</td>\n",
       "      <td>0</td>\n",
       "      <td>1</td>\n",
       "      <td>28</td>\n",
       "      <td>0</td>\n",
       "    </tr>\n",
       "    <tr>\n",
       "      <th>tram</th>\n",
       "      <td>0</td>\n",
       "      <td>9</td>\n",
       "      <td>6</td>\n",
       "      <td>7</td>\n",
       "      <td>0</td>\n",
       "      <td>0</td>\n",
       "      <td>0</td>\n",
       "      <td>0</td>\n",
       "      <td>0</td>\n",
       "      <td>11</td>\n",
       "    </tr>\n",
       "  </tbody>\n",
       "</table>\n",
       "</div>"
      ],
      "text/plain": [
       "                   airport  bus  metro  metro_station  park  public_square  \\\n",
       "airport                 17    0      0              0     0              2   \n",
       "bus                      0   21      6              0     1              0   \n",
       "metro                    2    3     12              6     0              0   \n",
       "metro_station            2    0      5              9     1              4   \n",
       "park                     0    1      0              2    26              1   \n",
       "public_square            1    0      0              0     4             16   \n",
       "shopping_mall           11    0      0              3     0              1   \n",
       "street_pedestrian        5    1      0              2     0              9   \n",
       "street_traffic           0    1      0              0     0              3   \n",
       "tram                     0    9      6              7     0              0   \n",
       "\n",
       "                   shopping_mall  street_pedestrian  street_traffic  tram  \n",
       "airport                        7                  7               0     0  \n",
       "bus                            0                  0               0     5  \n",
       "metro                          0                  1               1     8  \n",
       "metro_station                  1                  4               2     5  \n",
       "park                           0                  0               2     1  \n",
       "public_square                  0                  5               5     2  \n",
       "shopping_mall                 15                  3               0     0  \n",
       "street_pedestrian              5                 10               1     0  \n",
       "street_traffic                 0                  1              28     0  \n",
       "tram                           0                  0               0    11  "
      ]
     },
     "execution_count": 33,
     "metadata": {},
     "output_type": "execute_result"
    }
   ],
   "source": [
    "from sklearn.metrics import confusion_matrix\n",
    "\n",
    "# find max score\n",
    "pre_scores_list = []\n",
    "for i in label_dict.values():\n",
    "    pre_scores = gmm_classifier_dict[i].score_samples(eval_features)\n",
    "    pre_scores_list.append(pre_scores.reshape(1,-1))\n",
    "    # print(pre_scores.shape)\n",
    "pre_scores_list = np.concatenate(pre_scores_list, axis=0)\n",
    "eval_pre_labels = np.argmax(pre_scores_list, axis=0)\n",
    "\n",
    "eval_true_labels = np.asarray(eval_labels)\n",
    "eval_cm = confusion_matrix(eval_true_labels, eval_pre_labels)\n",
    "eval_cm_df = pd.DataFrame(eval_cm, columns=label_dict.keys(), index=label_dict.keys())\n",
    "eval_cm_df"
   ]
  },
  {
   "cell_type": "code",
   "execution_count": 34,
   "metadata": {},
   "outputs": [
    {
     "data": {
      "text/html": [
       "<div>\n",
       "<style scoped>\n",
       "    .dataframe tbody tr th:only-of-type {\n",
       "        vertical-align: middle;\n",
       "    }\n",
       "\n",
       "    .dataframe tbody tr th {\n",
       "        vertical-align: top;\n",
       "    }\n",
       "\n",
       "    .dataframe thead th {\n",
       "        text-align: right;\n",
       "    }\n",
       "</style>\n",
       "<table border=\"1\" class=\"dataframe\">\n",
       "  <thead>\n",
       "    <tr style=\"text-align: right;\">\n",
       "      <th></th>\n",
       "      <th>airport</th>\n",
       "      <th>bus</th>\n",
       "      <th>metro</th>\n",
       "      <th>metro_station</th>\n",
       "      <th>park</th>\n",
       "      <th>public_square</th>\n",
       "      <th>shopping_mall</th>\n",
       "      <th>street_pedestrian</th>\n",
       "      <th>street_traffic</th>\n",
       "      <th>tram</th>\n",
       "      <th>average</th>\n",
       "    </tr>\n",
       "  </thead>\n",
       "  <tbody>\n",
       "    <tr>\n",
       "      <th>0</th>\n",
       "      <td>0.515152</td>\n",
       "      <td>0.636364</td>\n",
       "      <td>0.363636</td>\n",
       "      <td>0.272727</td>\n",
       "      <td>0.787879</td>\n",
       "      <td>0.484848</td>\n",
       "      <td>0.454545</td>\n",
       "      <td>0.30303</td>\n",
       "      <td>0.848485</td>\n",
       "      <td>0.333333</td>\n",
       "      <td>0.5</td>\n",
       "    </tr>\n",
       "  </tbody>\n",
       "</table>\n",
       "</div>"
      ],
      "text/plain": [
       "    airport       bus     metro  metro_station      park  public_square  \\\n",
       "0  0.515152  0.636364  0.363636       0.272727  0.787879       0.484848   \n",
       "\n",
       "   shopping_mall  street_pedestrian  street_traffic      tram  average  \n",
       "0       0.454545            0.30303        0.848485  0.333333      0.5  "
      ]
     },
     "execution_count": 34,
     "metadata": {},
     "output_type": "execute_result"
    }
   ],
   "source": [
    "eval_acc_df = pd.DataFrame()\n",
    "for c, i in label_dict.items():\n",
    "    acc = eval_cm[i,i] / np.sum(eval_cm[i])\n",
    "    eval_acc_df[c] = [acc]\n",
    "eval_acc_df[\"average\"] = sum(eval_acc_df.iloc[0])/len(eval_acc_df.iloc[0])\n",
    "eval_acc_df"
   ]
  }
 ],
 "metadata": {
  "kernelspec": {
   "display_name": "phla",
   "language": "python",
   "name": "python3"
  },
  "language_info": {
   "codemirror_mode": {
    "name": "ipython",
    "version": 3
   },
   "file_extension": ".py",
   "mimetype": "text/x-python",
   "name": "python",
   "nbconvert_exporter": "python",
   "pygments_lexer": "ipython3",
   "version": "3.8.13 (default, Mar 28 2022, 11:38:47) \n[GCC 7.5.0]"
  },
  "orig_nbformat": 4,
  "vscode": {
   "interpreter": {
    "hash": "b0469df6e709a2df7221cf6a41b4e84b201802bdff0592e7cbfef445384a2896"
   }
  }
 },
 "nbformat": 4,
 "nbformat_minor": 2
}
