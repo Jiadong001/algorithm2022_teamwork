{
 "cells": [
  {
   "attachments": {},
   "cell_type": "markdown",
   "metadata": {},
   "source": [
    "### Simplest DNN"
   ]
  },
  {
   "cell_type": "code",
   "execution_count": 1,
   "metadata": {},
   "outputs": [
    {
     "name": "stdout",
     "output_type": "stream",
     "text": [
      "train:\t3008, 12\n",
      "dev:\t379, 2\n",
      "eval:\t330, 2\n",
      "Data preparing done\n",
      "model preparing done\n"
     ]
    }
   ],
   "source": [
    "import torch\n",
    "from dnn_model import DNN1\n",
    "from dnn_utils import prepare_dataloader\n",
    "\n",
    "configs = {\n",
    "    \"window_duration\": 0.04,\n",
    "    \"window_shift\": 0.02,\n",
    "    \"n_frames\": 499,\n",
    "    \"n_mels\": 26,\n",
    "    \"n_feature\": 13,\n",
    "    \"feature_type\": \"mfcc\",\n",
    "    \"learing_rate\": 0.005,\n",
    "    \"batch_size\": 256,\n",
    "    \"model_type\": \"dnn\"\n",
    "}\n",
    "device = torch.device(\"cuda:1\" if torch.cuda.is_available() else \"cpu\")\n",
    "\n",
    "train_loader, dev_loader, eval_loader = prepare_dataloader(configs[\"batch_size\"])\n",
    "print(\"Data preparing done\")\n",
    "model = DNN1(configs[\"n_frames\"]*configs[\"n_feature\"], 10).to(device)\n",
    "print(\"model preparing done\")"
   ]
  },
  {
   "cell_type": "code",
   "execution_count": 2,
   "metadata": {},
   "outputs": [
    {
     "name": "stderr",
     "output_type": "stream",
     "text": [
      "Traininng: 100%|██████████| 12/12 [03:58<00:00, 19.89s/it]\n",
      "evalinng: 100%|██████████| 2/2 [00:30<00:00, 15.00s/it]\n"
     ]
    },
    {
     "name": "stdout",
     "output_type": "stream",
     "text": [
      "Epoch-1: train loss=2.2779, dev accurary=0.1372 | Model saving...\n"
     ]
    },
    {
     "name": "stderr",
     "output_type": "stream",
     "text": [
      "Traininng: 100%|██████████| 12/12 [03:40<00:00, 18.37s/it]\n",
      "evalinng: 100%|██████████| 2/2 [00:27<00:00, 13.75s/it]\n"
     ]
    },
    {
     "name": "stdout",
     "output_type": "stream",
     "text": [
      "Epoch-2: train loss=2.2471, dev accurary=0.1662 | Model saving...\n"
     ]
    },
    {
     "name": "stderr",
     "output_type": "stream",
     "text": [
      "Traininng: 100%|██████████| 12/12 [03:42<00:00, 18.53s/it]\n",
      "evalinng: 100%|██████████| 2/2 [00:28<00:00, 14.41s/it]\n"
     ]
    },
    {
     "name": "stdout",
     "output_type": "stream",
     "text": [
      "Epoch-3: train loss=2.2272, dev accurary=0.1847 | Model saving...\n"
     ]
    },
    {
     "name": "stderr",
     "output_type": "stream",
     "text": [
      "Traininng: 100%|██████████| 12/12 [03:45<00:00, 18.79s/it]\n",
      "evalinng: 100%|██████████| 2/2 [00:28<00:00, 14.01s/it]\n"
     ]
    },
    {
     "name": "stdout",
     "output_type": "stream",
     "text": [
      "Epoch-4: train loss=2.2104, dev accurary=0.2480 | Model saving...\n"
     ]
    },
    {
     "name": "stderr",
     "output_type": "stream",
     "text": [
      "Traininng: 100%|██████████| 12/12 [03:38<00:00, 18.21s/it]\n",
      "evalinng: 100%|██████████| 2/2 [00:30<00:00, 15.15s/it]\n"
     ]
    },
    {
     "name": "stdout",
     "output_type": "stream",
     "text": [
      "Epoch-5: train loss=2.1936, dev accurary=0.2348\n"
     ]
    },
    {
     "name": "stderr",
     "output_type": "stream",
     "text": [
      "Traininng: 100%|██████████| 12/12 [03:38<00:00, 18.18s/it]\n",
      "evalinng: 100%|██████████| 2/2 [00:30<00:00, 15.13s/it]\n"
     ]
    },
    {
     "name": "stdout",
     "output_type": "stream",
     "text": [
      "Epoch-6: train loss=2.1757, dev accurary=0.2559 | Model saving...\n"
     ]
    },
    {
     "name": "stderr",
     "output_type": "stream",
     "text": [
      "Traininng: 100%|██████████| 12/12 [03:37<00:00, 18.11s/it]\n",
      "evalinng: 100%|██████████| 2/2 [00:26<00:00, 13.14s/it]\n"
     ]
    },
    {
     "name": "stdout",
     "output_type": "stream",
     "text": [
      "Epoch-7: train loss=2.1596, dev accurary=0.2797 | Model saving...\n"
     ]
    },
    {
     "name": "stderr",
     "output_type": "stream",
     "text": [
      "Traininng: 100%|██████████| 12/12 [03:34<00:00, 17.84s/it]\n",
      "evalinng: 100%|██████████| 2/2 [00:26<00:00, 13.36s/it]\n"
     ]
    },
    {
     "name": "stdout",
     "output_type": "stream",
     "text": [
      "Epoch-8: train loss=2.1430, dev accurary=0.2586\n"
     ]
    },
    {
     "name": "stderr",
     "output_type": "stream",
     "text": [
      "Traininng: 100%|██████████| 12/12 [03:35<00:00, 17.93s/it]\n",
      "evalinng: 100%|██████████| 2/2 [00:28<00:00, 14.32s/it]\n"
     ]
    },
    {
     "name": "stdout",
     "output_type": "stream",
     "text": [
      "Epoch-9: train loss=2.1264, dev accurary=0.2770\n"
     ]
    },
    {
     "name": "stderr",
     "output_type": "stream",
     "text": [
      "Traininng: 100%|██████████| 12/12 [03:36<00:00, 18.07s/it]\n",
      "evalinng: 100%|██████████| 2/2 [00:27<00:00, 13.82s/it]\n"
     ]
    },
    {
     "name": "stdout",
     "output_type": "stream",
     "text": [
      "Epoch-10: train loss=2.1125, dev accurary=0.3034 | Model saving...\n"
     ]
    },
    {
     "name": "stderr",
     "output_type": "stream",
     "text": [
      "Traininng: 100%|██████████| 12/12 [03:37<00:00, 18.11s/it]\n",
      "evalinng: 100%|██████████| 2/2 [00:27<00:00, 13.77s/it]\n"
     ]
    },
    {
     "name": "stdout",
     "output_type": "stream",
     "text": [
      "Epoch-11: train loss=2.0971, dev accurary=0.3219 | Model saving...\n"
     ]
    },
    {
     "name": "stderr",
     "output_type": "stream",
     "text": [
      "Traininng: 100%|██████████| 12/12 [03:39<00:00, 18.31s/it]\n",
      "evalinng: 100%|██████████| 2/2 [00:27<00:00, 13.78s/it]\n"
     ]
    },
    {
     "name": "stdout",
     "output_type": "stream",
     "text": [
      "Epoch-12: train loss=2.0828, dev accurary=0.3113\n"
     ]
    },
    {
     "name": "stderr",
     "output_type": "stream",
     "text": [
      "Traininng: 100%|██████████| 12/12 [03:38<00:00, 18.21s/it]\n",
      "evalinng: 100%|██████████| 2/2 [00:27<00:00, 13.73s/it]\n"
     ]
    },
    {
     "name": "stdout",
     "output_type": "stream",
     "text": [
      "Epoch-13: train loss=2.0670, dev accurary=0.2902\n"
     ]
    },
    {
     "name": "stderr",
     "output_type": "stream",
     "text": [
      "Traininng: 100%|██████████| 12/12 [03:39<00:00, 18.32s/it]\n",
      "evalinng: 100%|██████████| 2/2 [00:28<00:00, 14.06s/it]\n"
     ]
    },
    {
     "name": "stdout",
     "output_type": "stream",
     "text": [
      "Epoch-14: train loss=2.0502, dev accurary=0.3351 | Model saving...\n"
     ]
    },
    {
     "name": "stderr",
     "output_type": "stream",
     "text": [
      "Traininng: 100%|██████████| 12/12 [03:54<00:00, 19.55s/it]\n",
      "evalinng: 100%|██████████| 2/2 [00:30<00:00, 15.38s/it]\n"
     ]
    },
    {
     "name": "stdout",
     "output_type": "stream",
     "text": [
      "Epoch-15: train loss=2.0366, dev accurary=0.3087\n"
     ]
    },
    {
     "name": "stderr",
     "output_type": "stream",
     "text": [
      "Traininng: 100%|██████████| 12/12 [03:55<00:00, 19.59s/it]\n",
      "evalinng: 100%|██████████| 2/2 [00:30<00:00, 15.28s/it]\n"
     ]
    },
    {
     "name": "stdout",
     "output_type": "stream",
     "text": [
      "Epoch-16: train loss=2.0243, dev accurary=0.3377 | Model saving...\n"
     ]
    },
    {
     "name": "stderr",
     "output_type": "stream",
     "text": [
      "Traininng: 100%|██████████| 12/12 [03:53<00:00, 19.49s/it]\n",
      "evalinng: 100%|██████████| 2/2 [00:32<00:00, 16.12s/it]\n"
     ]
    },
    {
     "name": "stdout",
     "output_type": "stream",
     "text": [
      "Epoch-17: train loss=2.0078, dev accurary=0.2982\n"
     ]
    },
    {
     "name": "stderr",
     "output_type": "stream",
     "text": [
      "Traininng: 100%|██████████| 12/12 [03:55<00:00, 19.58s/it]\n",
      "evalinng: 100%|██████████| 2/2 [00:29<00:00, 14.70s/it]\n"
     ]
    },
    {
     "name": "stdout",
     "output_type": "stream",
     "text": [
      "Epoch-18: train loss=1.9927, dev accurary=0.3140\n"
     ]
    },
    {
     "name": "stderr",
     "output_type": "stream",
     "text": [
      "Traininng: 100%|██████████| 12/12 [03:48<00:00, 19.04s/it]\n",
      "evalinng: 100%|██████████| 2/2 [00:28<00:00, 14.33s/it]\n"
     ]
    },
    {
     "name": "stdout",
     "output_type": "stream",
     "text": [
      "Epoch-19: train loss=1.9750, dev accurary=0.3641 | Model saving...\n"
     ]
    },
    {
     "name": "stderr",
     "output_type": "stream",
     "text": [
      "Traininng: 100%|██████████| 12/12 [03:58<00:00, 19.83s/it]\n",
      "evalinng: 100%|██████████| 2/2 [00:30<00:00, 15.15s/it]\n"
     ]
    },
    {
     "name": "stdout",
     "output_type": "stream",
     "text": [
      "Epoch-20: train loss=1.9606, dev accurary=0.3958 | Model saving...\n"
     ]
    },
    {
     "name": "stderr",
     "output_type": "stream",
     "text": [
      "Traininng: 100%|██████████| 12/12 [03:54<00:00, 19.58s/it]\n",
      "evalinng: 100%|██████████| 2/2 [00:31<00:00, 15.87s/it]\n"
     ]
    },
    {
     "name": "stdout",
     "output_type": "stream",
     "text": [
      "Epoch-21: train loss=1.9417, dev accurary=0.3588\n"
     ]
    },
    {
     "name": "stderr",
     "output_type": "stream",
     "text": [
      "Traininng: 100%|██████████| 12/12 [03:50<00:00, 19.17s/it]\n",
      "evalinng: 100%|██████████| 2/2 [00:29<00:00, 14.84s/it]\n"
     ]
    },
    {
     "name": "stdout",
     "output_type": "stream",
     "text": [
      "Epoch-22: train loss=1.9225, dev accurary=0.3694\n"
     ]
    },
    {
     "name": "stderr",
     "output_type": "stream",
     "text": [
      "Traininng: 100%|██████████| 12/12 [03:55<00:00, 19.65s/it]\n",
      "evalinng: 100%|██████████| 2/2 [00:30<00:00, 15.49s/it]"
     ]
    },
    {
     "name": "stdout",
     "output_type": "stream",
     "text": [
      "Epoch-23: train loss=1.9078, dev accurary=0.3641\n",
      "EARLY STOP TRIGGERED\n"
     ]
    },
    {
     "name": "stderr",
     "output_type": "stream",
     "text": [
      "\n"
     ]
    }
   ],
   "source": [
    "from dnn_utils import train\n",
    "\n",
    "modelpath = \"/data/lujd/algorithm2022/model/dnn/\"\n",
    "(train_loss_list, train_acc_list,\n",
    " dev_loss_list, dev_acc_list) = train(\n",
    "                                    model, train_loader, dev_loader,\n",
    "                                    configs, device, modelpath)"
   ]
  }
 ],
 "metadata": {
  "kernelspec": {
   "display_name": "phla",
   "language": "python",
   "name": "python3"
  },
  "language_info": {
   "codemirror_mode": {
    "name": "ipython",
    "version": 3
   },
   "file_extension": ".py",
   "mimetype": "text/x-python",
   "name": "python",
   "nbconvert_exporter": "python",
   "pygments_lexer": "ipython3",
   "version": "3.8.13"
  },
  "orig_nbformat": 4,
  "vscode": {
   "interpreter": {
    "hash": "b0469df6e709a2df7221cf6a41b4e84b201802bdff0592e7cbfef445384a2896"
   }
  }
 },
 "nbformat": 4,
 "nbformat_minor": 2
}
