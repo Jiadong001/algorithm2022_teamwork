{
 "cells": [
  {
   "attachments": {},
   "cell_type": "markdown",
   "metadata": {},
   "source": [
    "### 1. Simplest Deep Neural Network"
   ]
  },
  {
   "cell_type": "code",
   "execution_count": 1,
   "metadata": {},
   "outputs": [],
   "source": [
    "import torch\n",
    "import torch.nn as nn\n",
    "\n",
    "class DNN1(nn.Module):\n",
    "    def __init__(self, input_size: int, num_labels: int):\n",
    "        super().__init__()\n",
    "        self.classifier = nn.Sequential(\n",
    "                                        nn.Linear(input_size, 512), nn.ReLU(True),\n",
    "                                        nn.Linear(512, 512), nn.ReLU(True),\n",
    "                                        nn.Linear(512, num_labels),\n",
    "                                        )\n",
    "    def forward(self, input):\n",
    "        outputs = self.classifier(input)\n",
    "        return outputs"
   ]
  },
  {
   "cell_type": "code",
   "execution_count": 2,
   "metadata": {},
   "outputs": [
    {
     "name": "stdout",
     "output_type": "stream",
     "text": [
      "dev feature size: (379, 6487)\n"
     ]
    }
   ],
   "source": [
    "import pandas as pd\n",
    "datapath = \"/data/lujd/algorithm2022/audioset/\"\n",
    "dev_df = pd.read_csv(datapath+\"dev.csv\", sep=\"\\t\")\n",
    "\n",
    "# dev set\n",
    "import numpy as np\n",
    "from Extract_feature import extract_mfcc\n",
    "\n",
    "n_mels = 26\n",
    "feature_option = \"mfcc\"\n",
    "dev_files = list(dev_df.filename)\n",
    "dev_labels = list(dev_df.scene_label)\n",
    "dev_features = []\n",
    "for filename in dev_files:\n",
    "    wav_file_path = datapath+filename\n",
    "    mfcc_feature = extract_mfcc(wav_file_path, n_mels=n_mels, option=feature_option)\n",
    "    dev_features.append(mfcc_feature.reshape(1,-1))             # [1, frames*n_features] (flatten)\n",
    "dev_features = np.concatenate(dev_features, axis=0)\n",
    "print(f\"dev feature size: {dev_features.shape}\")"
   ]
  },
  {
   "cell_type": "code",
   "execution_count": 3,
   "metadata": {},
   "outputs": [
    {
     "name": "stdout",
     "output_type": "stream",
     "text": [
      "0 128\n",
      "output size: torch.Size([128, 10])\n",
      "128 256\n",
      "output size: torch.Size([128, 10])\n",
      "256 379\n",
      "output size: torch.Size([123, 10])\n"
     ]
    }
   ],
   "source": [
    "unique_labels = ['airport', 'bus', 'metro', 'metro_station',\n",
    "                'park', 'public_square', 'shopping_mall',\n",
    "                'street_pedestrian', 'street_traffic', 'tram']\n",
    "\n",
    "device = torch.device(\"cuda:0\" if torch.cuda.is_available() else \"cpu\")\n",
    "model = DNN1(dev_features.shape[1], len(unique_labels)).to(device)\n",
    "model.eval()\n",
    "\n",
    "batch_size = 128\n",
    "start_pos, end_pos = 0, 0\n",
    "with torch.no_grad():\n",
    "    while end_pos < len(dev_features):\n",
    "        end_pos = end_pos+batch_size if (end_pos+batch_size)<len(dev_features) else len(dev_features)\n",
    "        input = torch.Tensor(dev_features[start_pos:end_pos]).to(device)\n",
    "        print(start_pos, end_pos)\n",
    "        output = model(input)\n",
    "        start_pos = end_pos\n",
    "        print(f\"output size: {output.shape}\")"
   ]
  },
  {
   "cell_type": "code",
   "execution_count": 4,
   "metadata": {},
   "outputs": [
    {
     "data": {
      "text/plain": [
       "tensor([[ 0.0091, -0.0346,  0.1381, -0.4813,  0.0720,  0.0573,  0.3161, -0.2161,\n",
       "          0.0751, -0.2733],\n",
       "        [ 0.0067, -0.0158,  0.1083, -0.2737,  0.0704,  0.0213,  0.1434, -0.1082,\n",
       "          0.0572, -0.1698],\n",
       "        [ 0.0231, -0.0075,  0.1276, -0.3178,  0.0343,  0.0272,  0.1563, -0.1500,\n",
       "          0.0561, -0.1808],\n",
       "        [ 0.0095,  0.0069,  0.0847, -0.2723,  0.0374,  0.0187,  0.1507, -0.1352,\n",
       "          0.0151, -0.1853],\n",
       "        [ 0.0011, -0.0277,  0.1109, -0.2673,  0.0473,  0.0580,  0.1613, -0.1307,\n",
       "          0.0427, -0.1590]], device='cuda:0', grad_fn=<SliceBackward>)"
      ]
     },
     "execution_count": 4,
     "metadata": {},
     "output_type": "execute_result"
    }
   ],
   "source": [
    "output[:5]"
   ]
  },
  {
   "cell_type": "code",
   "execution_count": 5,
   "metadata": {},
   "outputs": [
    {
     "data": {
      "text/plain": [
       "tensor([6, 6, 6, 6, 6], device='cuda:0')"
      ]
     },
     "execution_count": 5,
     "metadata": {},
     "output_type": "execute_result"
    }
   ],
   "source": [
    "pre_labels = torch.argmax(output, dim=1)\n",
    "pre_labels[:5]"
   ]
  },
  {
   "cell_type": "code",
   "execution_count": null,
   "metadata": {},
   "outputs": [],
   "source": [
    "import torch.nn as nn\n",
    "import torch.optim as optim\n",
    "\n",
    "criterion = nn.CrossEntropyLoss()\n",
    "optimizer = optim.SGD(model.parameters(), lr=0.0005)"
   ]
  },
  {
   "cell_type": "code",
   "execution_count": 12,
   "metadata": {},
   "outputs": [
    {
     "data": {
      "text/plain": [
       "tensor(2.7730, grad_fn=<NllLossBackward>)"
      ]
     },
     "execution_count": 12,
     "metadata": {},
     "output_type": "execute_result"
    }
   ],
   "source": [
    "loss = nn.CrossEntropyLoss()\n",
    "input = torch.randn(3, 5, requires_grad=True)           # [3, 5]\n",
    "target = torch.empty(3, dtype=torch.long).random_(5)    # [3]\n",
    "output = loss(input, target)\n",
    "output"
   ]
  },
  {
   "attachments": {},
   "cell_type": "markdown",
   "metadata": {},
   "source": [
    "process data for training DNN"
   ]
  },
  {
   "cell_type": "code",
   "execution_count": 24,
   "metadata": {},
   "outputs": [],
   "source": [
    "from Extract_feature import extract_mfcc\n",
    "\n",
    "datapath = \"/data/lujd/algorithm2022/audioset/\"\n",
    "\n",
    "class Audio_Dataset(torch.utils.data.Dataset):\n",
    "    def __init__(self, audio_df, label_dict, feature_type):\n",
    "        super(Audio_Dataset, self).__init__()\n",
    "        self.file_list = audio_df.filename.to_list()\n",
    "        self.label_list = audio_df.scene_label.to_list()\n",
    "        self.label_dict = label_dict\n",
    "        \n",
    "        feature_list = []\n",
    "        for filename in self.file_list:\n",
    "            wav_file_path = datapath + filename\n",
    "            if feature_type==\"mfcc\" or feature_type==\"fbanks\":\n",
    "                feature = extract_mfcc(wav_file_path, option=feature_type)\n",
    "            feature_list.append(feature.reshape(1,-1))             # [1, frames*n_features] (flatten)\n",
    "        self.feature_array = np.concatenate(feature_list, axis=0)\n",
    "        print(self.feature_array.shape)\n",
    "\n",
    "    def __getitem__(self, index):\n",
    "        feature, label = self.feature_array[index], self.label_list[index]\n",
    "        label = self.label_dict[label]\n",
    "        return feature, label\n",
    "\n",
    "    def __len__(self):\n",
    "        return len(self.label_list)"
   ]
  },
  {
   "cell_type": "code",
   "execution_count": 25,
   "metadata": {},
   "outputs": [
    {
     "name": "stdout",
     "output_type": "stream",
     "text": [
      "(379, 6487)\n"
     ]
    }
   ],
   "source": [
    "import pandas as pd\n",
    "dev_df = pd.read_csv(datapath+\"dev.csv\", sep=\"\\t\")\n",
    "\n",
    "unique_labels = ['airport', 'bus', 'metro', 'metro_station', 'park', 'public_square',\n",
    "                 'shopping_mall', 'street_pedestrian', 'street_traffic', 'tram']\n",
    "label_dict = {}\n",
    "for ind, c in enumerate(unique_labels):\n",
    "    label_dict[c] = ind\n",
    "\n",
    "feature_option = \"mfcc\"\n",
    "dataset = Audio_Dataset(dev_df, label_dict, feature_option)"
   ]
  },
  {
   "cell_type": "code",
   "execution_count": 26,
   "metadata": {},
   "outputs": [],
   "source": [
    "dev_loader = torch.utils.data.DataLoader(\n",
    "            dataset,\n",
    "            batch_size=64,\n",
    "            shuffle=True,\n",
    "            num_workers=0\n",
    "        )"
   ]
  },
  {
   "cell_type": "code",
   "execution_count": 28,
   "metadata": {},
   "outputs": [
    {
     "name": "stdout",
     "output_type": "stream",
     "text": [
      "tensor([[-4.8444,  1.3241,  0.7179,  ...,  0.2825,  0.1520,  0.3084],\n",
      "        [-8.3584,  2.8215,  0.3826,  ...,  0.2616,  0.0447,  0.1551],\n",
      "        [-4.2064,  1.8694,  0.6441,  ...,  0.2537, -0.1173, -0.0734],\n",
      "        [-3.8532,  1.1509, -0.4405,  ...,  0.0849,  0.0238, -0.0204],\n",
      "        [-2.3669,  2.2008, -0.3398,  ...,  0.1766, -0.0520, -0.1226]],\n",
      "       dtype=torch.float64)\n"
     ]
    }
   ],
   "source": [
    "for feature_list, label_list in dev_loader:\n",
    "    print(feature_list[:5])\n",
    "    break"
   ]
  },
  {
   "cell_type": "code",
   "execution_count": 29,
   "metadata": {},
   "outputs": [
    {
     "name": "stdout",
     "output_type": "stream",
     "text": [
      "tensor([3, 6, 1, 2, 8])\n"
     ]
    }
   ],
   "source": [
    "for feature_list, label_list in dev_loader:\n",
    "    print(label_list[:5])\n",
    "    break"
   ]
  },
  {
   "cell_type": "code",
   "execution_count": 66,
   "metadata": {},
   "outputs": [
    {
     "name": "stdout",
     "output_type": "stream",
     "text": [
      "dev feature size: torch.Size([64, 6487])\n",
      "output size: torch.Size([64, 10])\n",
      "dev feature size: torch.Size([64, 6487])\n",
      "output size: torch.Size([64, 10])\n",
      "dev feature size: torch.Size([64, 6487])\n",
      "output size: torch.Size([64, 10])\n",
      "dev feature size: torch.Size([64, 6487])\n",
      "output size: torch.Size([64, 10])\n",
      "dev feature size: torch.Size([64, 6487])\n",
      "output size: torch.Size([64, 10])\n",
      "dev feature size: torch.Size([59, 6487])\n",
      "output size: torch.Size([59, 10])\n"
     ]
    }
   ],
   "source": [
    "import numpy as np\n",
    "from Extract_feature import extract_mfcc\n",
    "import torch.nn as nn\n",
    "import torch.optim as optim\n",
    "\n",
    "n_mels = 26\n",
    "n_frames = 499\n",
    "n_features = 13\n",
    "\n",
    "device = torch.device(\"cuda:3\" if torch.cuda.is_available() else \"cpu\")\n",
    "model = DNN1(n_frames*n_features, len(unique_labels)).to(device)\n",
    "model.train()\n",
    "\n",
    "criterion = nn.CrossEntropyLoss()\n",
    "optimizer = optim.SGD(model.parameters(), lr=0.005)\n",
    "\n",
    "train_loss_list, true_label_list, pre_label_list = [], [], []\n",
    "for feature_list, label_list in dev_loader:\n",
    "    \n",
    "    print(f\"dev feature size: {feature_list.shape}\")\n",
    "\n",
    "    # forward\n",
    "    train_inputs = torch.Tensor(feature_list.float()).to(device)\n",
    "    train_labels = torch.LongTensor(label_list).to(device)\n",
    "    train_outputs = model(train_inputs)\n",
    "    train_loss = criterion(train_outputs, train_labels)\n",
    "\n",
    "    # backward\n",
    "    optimizer.zero_grad()\n",
    "    train_loss.backward()\n",
    "    optimizer.step()\n",
    "\n",
    "    pre_labels = torch.argmax(train_outputs, dim=1)\n",
    "    train_loss_list.append(train_loss.cpu().detach().numpy().item())\n",
    "    true_label_list.append(train_labels.cpu().detach().numpy())\n",
    "    pre_label_list.append(pre_labels.cpu().detach().numpy())\n",
    "    \n",
    "    print(f\"output size: {train_outputs.shape}\")"
   ]
  },
  {
   "cell_type": "code",
   "execution_count": 67,
   "metadata": {},
   "outputs": [
    {
     "data": {
      "text/plain": [
       "[2.2866268157958984,\n",
       " 2.2864463329315186,\n",
       " 2.2715611457824707,\n",
       " 2.2785751819610596,\n",
       " 2.2386128902435303,\n",
       " 2.297173500061035]"
      ]
     },
     "execution_count": 67,
     "metadata": {},
     "output_type": "execute_result"
    }
   ],
   "source": [
    "train_loss_list"
   ]
  },
  {
   "cell_type": "code",
   "execution_count": 72,
   "metadata": {},
   "outputs": [],
   "source": [
    "true_label_list = np.concatenate(true_label_list)\n",
    "pre_label_list = np.concatenate(pre_label_list)"
   ]
  },
  {
   "cell_type": "code",
   "execution_count": 82,
   "metadata": {},
   "outputs": [
    {
     "data": {
      "text/plain": [
       "array([4, 6, 8, 8, 1, 9, 5, 0, 6, 6, 3, 7, 9, 3, 3, 5, 4, 0, 5, 6, 2, 1,\n",
       "       2, 4, 3, 2, 8, 3, 1, 7, 6, 1, 7, 6, 9, 5, 2, 9, 6, 1, 3, 1, 4, 3,\n",
       "       0, 2, 5, 5, 8, 3, 9, 8, 7, 0, 5, 9, 7, 5, 0, 3, 9, 8, 6, 0, 7, 5,\n",
       "       3, 0, 6, 8, 7, 2, 9, 2, 7, 8, 2, 9, 8, 3, 6, 5, 8, 5, 8, 1, 0, 4,\n",
       "       3, 9, 5, 1, 4, 4, 7, 8, 7, 1, 1, 1])"
      ]
     },
     "execution_count": 82,
     "metadata": {},
     "output_type": "execute_result"
    }
   ],
   "source": [
    "true_label_list[:100]"
   ]
  },
  {
   "cell_type": "code",
   "execution_count": 81,
   "metadata": {},
   "outputs": [
    {
     "data": {
      "text/plain": [
       "array([5, 5, 5, 5, 5, 5, 5, 5, 5, 5, 5, 5, 5, 5, 5, 5, 5, 5, 5, 5, 5, 5,\n",
       "       5, 5, 5, 5, 6, 5, 5, 5, 5, 5, 5, 5, 5, 5, 5, 5, 5, 5, 5, 5, 5, 5,\n",
       "       5, 5, 5, 5, 5, 5, 5, 5, 5, 5, 5, 5, 5, 5, 5, 5, 5, 5, 5, 5, 5, 5,\n",
       "       5, 5, 5, 5, 5, 5, 5, 5, 5, 6, 5, 5, 5, 5, 5, 5, 5, 5, 5, 5, 5, 5,\n",
       "       5, 5, 5, 5, 5, 5, 5, 1, 5, 5, 5, 5])"
      ]
     },
     "execution_count": 81,
     "metadata": {},
     "output_type": "execute_result"
    }
   ],
   "source": [
    "pre_label_list[:100]"
   ]
  },
  {
   "cell_type": "code",
   "execution_count": 85,
   "metadata": {},
   "outputs": [
    {
     "data": {
      "text/plain": [
       "0.11609498680738786"
      ]
     },
     "execution_count": 85,
     "metadata": {},
     "output_type": "execute_result"
    }
   ],
   "source": [
    "np.sum(true_label_list == pre_label_list)/len(true_label_list)"
   ]
  },
  {
   "cell_type": "code",
   "execution_count": 86,
   "metadata": {},
   "outputs": [
    {
     "data": {
      "text/plain": [
       "6"
      ]
     },
     "execution_count": 86,
     "metadata": {},
     "output_type": "execute_result"
    }
   ],
   "source": [
    "len(dev_loader)"
   ]
  },
  {
   "cell_type": "code",
   "execution_count": 2,
   "metadata": {},
   "outputs": [
    {
     "data": {
      "text/plain": [
       "array([[1.],\n",
       "       [1.],\n",
       "       [1.],\n",
       "       [1.],\n",
       "       [1.]])"
      ]
     },
     "execution_count": 2,
     "metadata": {},
     "output_type": "execute_result"
    }
   ],
   "source": [
    "import numpy as np\n",
    "\n",
    "a = np.ones(5)\n",
    "np.expand_dims(a, axis=1)"
   ]
  },
  {
   "cell_type": "code",
   "execution_count": 1,
   "metadata": {},
   "outputs": [
    {
     "data": {
      "text/plain": [
       "array([[[1, 2],\n",
       "        [3, 4]],\n",
       "\n",
       "       [[5, 6],\n",
       "        [7, 8]]])"
      ]
     },
     "execution_count": 1,
     "metadata": {},
     "output_type": "execute_result"
    }
   ],
   "source": [
    "import numpy as np\n",
    "a=np.array([[[1,2],[3,4]],[[5,6],[7,8]]])\n",
    "a"
   ]
  },
  {
   "cell_type": "code",
   "execution_count": 2,
   "metadata": {},
   "outputs": [
    {
     "data": {
      "text/plain": [
       "array([[1, 2, 3, 4],\n",
       "       [5, 6, 7, 8]])"
      ]
     },
     "execution_count": 2,
     "metadata": {},
     "output_type": "execute_result"
    }
   ],
   "source": [
    "a.reshape(2,-1)"
   ]
  },
  {
   "cell_type": "code",
   "execution_count": 1,
   "metadata": {},
   "outputs": [
    {
     "data": {
      "text/plain": [
       "tensor([1, 2, 3, 4, 5])"
      ]
     },
     "execution_count": 1,
     "metadata": {},
     "output_type": "execute_result"
    }
   ],
   "source": [
    "import torch\n",
    "a=torch.LongTensor([1,2,3,4,5])\n",
    "a"
   ]
  },
  {
   "cell_type": "code",
   "execution_count": 3,
   "metadata": {},
   "outputs": [
    {
     "data": {
      "text/plain": [
       "tensor([[1, 2, 3, 4, 5],\n",
       "        [1, 2, 3, 4, 5],\n",
       "        [1, 2, 3, 4, 5],\n",
       "        [1, 2, 3, 4, 5],\n",
       "        [1, 2, 3, 4, 5],\n",
       "        [1, 2, 3, 4, 5],\n",
       "        [1, 2, 3, 4, 5],\n",
       "        [1, 2, 3, 4, 5],\n",
       "        [1, 2, 3, 4, 5],\n",
       "        [1, 2, 3, 4, 5]])"
      ]
     },
     "execution_count": 3,
     "metadata": {},
     "output_type": "execute_result"
    }
   ],
   "source": [
    "b=a.repeat((10,1))\n",
    "b"
   ]
  },
  {
   "cell_type": "code",
   "execution_count": 7,
   "metadata": {},
   "outputs": [
    {
     "data": {
      "text/plain": [
       "tensor([1, 1, 1, 1, 1, 1, 1, 1, 1, 1, 2, 2, 2, 2, 2, 2, 2, 2, 2, 2, 3, 3, 3, 3,\n",
       "        3, 3, 3, 3, 3, 3, 4, 4, 4, 4, 4, 4, 4, 4, 4, 4, 5, 5, 5, 5, 5, 5, 5, 5,\n",
       "        5, 5])"
      ]
     },
     "execution_count": 7,
     "metadata": {},
     "output_type": "execute_result"
    }
   ],
   "source": [
    "b.permute(1,0).reshape(-1)"
   ]
  },
  {
   "cell_type": "code",
   "execution_count": 11,
   "metadata": {},
   "outputs": [
    {
     "data": {
      "text/plain": [
       "array([[1, 1, 1, 1, 1, 1, 1, 1, 1, 1],\n",
       "       [2, 2, 2, 2, 2, 2, 2, 2, 2, 2],\n",
       "       [3, 3, 3, 3, 3, 3, 3, 3, 3, 3],\n",
       "       [4, 4, 4, 4, 4, 4, 4, 4, 4, 4],\n",
       "       [5, 5, 5, 5, 5, 5, 5, 5, 5, 5]])"
      ]
     },
     "execution_count": 11,
     "metadata": {},
     "output_type": "execute_result"
    }
   ],
   "source": [
    "c=a.repeat((10,1)).permute(1,0).reshape(-1).numpy()\n",
    "c.reshape(-1,10)"
   ]
  },
  {
   "attachments": {},
   "cell_type": "markdown",
   "metadata": {},
   "source": [
    "---\n",
    "#### CNN"
   ]
  },
  {
   "cell_type": "code",
   "execution_count": 11,
   "metadata": {},
   "outputs": [
    {
     "data": {
      "text/plain": [
       "(tensor([[[ 0.0830,  1.2401,  1.2569,  ...,  0.5619,  0.5436,  1.2856],\n",
       "          [-0.8057, -0.7899, -0.4259,  ..., -2.1947,  0.8941, -0.3048],\n",
       "          [-1.4934,  0.0231, -0.0458,  ...,  1.0432, -1.2269,  0.1303],\n",
       "          ...,\n",
       "          [-0.9848,  0.8359, -0.8844,  ..., -0.5607, -0.4978,  0.5743],\n",
       "          [-0.1280, -0.7402, -0.8203,  ..., -0.2425,  0.7120,  0.6893],\n",
       "          [-0.3238, -1.3476, -1.2397,  ..., -1.0251, -0.4712, -0.4028]]]),\n",
       " torch.Size([10, 1, 49, 40]))"
      ]
     },
     "execution_count": 11,
     "metadata": {},
     "output_type": "execute_result"
    }
   ],
   "source": [
    "import torch\n",
    "from torch import nn\n",
    "\n",
    "input = torch.randn((10, 1, 49, 40))\n",
    "input[1], input.shape"
   ]
  },
  {
   "cell_type": "code",
   "execution_count": 12,
   "metadata": {},
   "outputs": [
    {
     "data": {
      "text/plain": [
       "(tensor([[[ 0.0727,  1.2332,  1.2501,  ...,  0.5530,  0.5346,  1.2789],\n",
       "          [-0.8185, -0.8027, -0.4376,  ..., -2.2116,  0.8862, -0.3162],\n",
       "          [-1.5082,  0.0127, -0.0565,  ...,  1.0357, -1.2410,  0.1202],\n",
       "          ...,\n",
       "          [-0.9982,  0.8278, -0.8975,  ..., -0.5729, -0.5097,  0.5655],\n",
       "          [-0.1389, -0.7529, -0.8332,  ..., -0.2537,  0.7035,  0.6808],\n",
       "          [-0.3353, -1.3620, -1.2538,  ..., -1.0386, -0.4831, -0.4145]]],\n",
       "        grad_fn=<SelectBackward>),\n",
       " torch.Size([10, 1, 49, 40]))"
      ]
     },
     "execution_count": 12,
     "metadata": {},
     "output_type": "execute_result"
    }
   ],
   "source": [
    "bn = nn.BatchNorm2d(1)\n",
    "output1 = bn(input)\n",
    "output1[1], output1.shape"
   ]
  },
  {
   "cell_type": "code",
   "execution_count": 13,
   "metadata": {},
   "outputs": [
    {
     "data": {
      "text/plain": [
       "(tensor([[[ 2.3429e-01, -3.2614e-01,  2.5552e-01,  ...,  7.8907e-02,\n",
       "            1.3424e-01,  3.5770e-01],\n",
       "          [ 6.9168e-01,  4.6772e-01,  2.0887e-01,  ..., -5.0911e-01,\n",
       "           -6.8798e-01, -9.6675e-02],\n",
       "          [ 1.4883e-01,  2.2471e-01, -5.7965e-01,  ..., -4.3458e-01,\n",
       "           -4.5151e-01,  2.0097e-01],\n",
       "          ...,\n",
       "          [ 8.3697e-01,  1.0310e+00,  1.0765e+00,  ..., -6.6169e-01,\n",
       "           -3.5074e-01, -1.3733e-01],\n",
       "          [ 5.8132e-01, -6.9508e-01, -1.7622e-01,  ..., -2.9722e-01,\n",
       "            6.9068e-01,  1.2362e-01],\n",
       "          [-1.5263e-01,  5.0952e-01, -1.4035e-02,  ...,  5.6680e-02,\n",
       "            4.4436e-01, -1.4924e-01]],\n",
       " \n",
       "         [[ 2.0813e-01, -5.2340e-01,  7.9214e-01,  ..., -1.7131e-01,\n",
       "            1.3149e-01,  8.5680e-02],\n",
       "          [ 4.4741e-01,  4.3043e-01, -8.3380e-01,  ..., -1.0920e-01,\n",
       "            1.0095e+00,  1.0611e-02],\n",
       "          [ 3.7180e-01,  1.4497e-02,  4.8354e-01,  ...,  2.9547e-01,\n",
       "            9.2717e-01,  7.7353e-02],\n",
       "          ...,\n",
       "          [ 7.2438e-01, -5.1649e-01,  2.9839e-01,  ...,  8.5285e-01,\n",
       "            5.8013e-01,  1.1241e+00],\n",
       "          [-5.3246e-01, -2.9218e-02,  3.3835e-01,  ...,  3.5985e-01,\n",
       "           -5.8517e-01, -5.5398e-01],\n",
       "          [ 3.0416e-01, -5.8226e-01,  9.2873e-01,  ...,  3.3368e-01,\n",
       "           -9.2996e-01,  6.3618e-01]],\n",
       " \n",
       "         [[-6.1922e-01, -4.0493e-01, -1.4981e-01,  ...,  4.2181e-01,\n",
       "           -4.5736e-01, -7.4316e-01],\n",
       "          [ 2.4097e-01, -7.0798e-01, -1.2289e-01,  ..., -5.0812e-01,\n",
       "           -6.3164e-01, -8.0641e-02],\n",
       "          [-4.8765e-03, -2.4161e-01, -4.5914e-01,  ..., -5.3112e-01,\n",
       "           -1.0486e+00,  1.4710e-01],\n",
       "          ...,\n",
       "          [ 1.2406e-01,  3.0710e-01,  5.9710e-01,  ...,  1.9427e-01,\n",
       "            8.6595e-01,  2.6437e-01],\n",
       "          [ 4.3283e-01, -5.7335e-01, -9.4667e-01,  ..., -6.5559e-01,\n",
       "           -4.0086e-02,  2.0522e-03],\n",
       "          [-7.5588e-01, -2.6748e-02, -6.4909e-01,  ...,  4.9583e-01,\n",
       "            5.1457e-01,  7.9093e-03]],\n",
       " \n",
       "         ...,\n",
       " \n",
       "         [[-2.0617e-02,  8.1561e-02, -2.6055e-01,  ..., -3.6544e-01,\n",
       "           -7.7535e-01, -2.7427e-01],\n",
       "          [-4.7322e-01, -2.4823e-01,  8.5439e-02,  ..., -1.7333e-01,\n",
       "           -3.2917e-01, -1.1461e-01],\n",
       "          [ 1.0977e-01,  3.3539e-02, -4.2792e-01,  ..., -3.4976e-01,\n",
       "           -5.3158e-01, -7.8981e-02],\n",
       "          ...,\n",
       "          [-7.1714e-01,  2.6631e-01,  2.0631e-01,  ..., -2.0664e-01,\n",
       "           -2.7588e-01, -4.3535e-01],\n",
       "          [ 1.2295e+00,  4.5085e-01,  7.5398e-01,  ..., -1.3889e-01,\n",
       "            8.9949e-01, -2.0217e-01],\n",
       "          [ 1.0825e-01,  2.2900e-01, -1.9233e-01,  ..., -1.1380e-02,\n",
       "           -3.0188e-01, -9.6650e-01]],\n",
       " \n",
       "         [[-1.0647e-01,  1.2148e-02, -2.9218e-01,  ...,  1.4431e-01,\n",
       "           -8.1393e-01, -2.8388e-01],\n",
       "          [ 2.9602e-02, -6.2959e-01, -4.2977e-01,  ...,  5.5969e-01,\n",
       "            5.6899e-01,  1.8367e-01],\n",
       "          [ 6.9360e-01, -6.7985e-02,  1.3740e-01,  ...,  4.9086e-01,\n",
       "           -3.1396e-01,  1.1627e-04],\n",
       "          ...,\n",
       "          [-5.3968e-02,  3.2278e-01,  8.6663e-01,  ...,  6.1722e-01,\n",
       "            6.5674e-01,  8.6357e-01],\n",
       "          [ 4.2675e-01,  1.9014e+00,  3.2574e-01,  ...,  1.6934e-01,\n",
       "           -2.0010e-01,  1.5559e-01],\n",
       "          [ 6.1732e-01, -1.0294e-01, -6.4719e-01,  ...,  1.6499e-01,\n",
       "            1.1185e-01, -5.8821e-01]],\n",
       " \n",
       "         [[ 3.5420e-01,  7.8598e-02,  7.5171e-01,  ...,  9.2125e-03,\n",
       "            2.2827e-01, -2.7418e-01],\n",
       "          [ 2.9471e-01,  2.9086e-01,  5.3498e-02,  ..., -5.8015e-01,\n",
       "            8.7640e-01, -1.0246e+00],\n",
       "          [ 1.0162e-01, -2.1084e-01,  2.1992e-01,  ...,  6.0562e-01,\n",
       "            6.5860e-01, -1.5371e-01],\n",
       "          ...,\n",
       "          [ 2.3137e+00, -5.4014e-01,  4.1028e-01,  ...,  1.1199e+00,\n",
       "           -7.2539e-01,  1.7228e-01],\n",
       "          [-3.8039e-01, -6.6316e-02, -3.7267e-01,  ...,  6.0962e-01,\n",
       "           -1.5606e+00, -9.7627e-02],\n",
       "          [-1.2380e+00, -4.3047e-01, -2.6979e-01,  ..., -6.3735e-02,\n",
       "           -1.5644e-01,  3.4954e-01]]], grad_fn=<SelectBackward>),\n",
       " torch.Size([10, 96, 24, 19]))"
      ]
     },
     "execution_count": 13,
     "metadata": {},
     "output_type": "execute_result"
    }
   ],
   "source": [
    "conv1 = nn.Conv2d(1, 96, kernel_size=5, stride=2, padding=1)\n",
    "output2 = conv1(output1)\n",
    "output2[1], output2.shape"
   ]
  },
  {
   "cell_type": "code",
   "execution_count": 19,
   "metadata": {},
   "outputs": [
    {
     "data": {
      "text/plain": [
       "(tensor([[[0.6917, 0.9712, 0.9712,  ..., 1.0629, 1.0629, 0.9632],\n",
       "          [0.9991, 0.9991, 0.8375,  ..., 1.0629, 1.0629, 0.9632],\n",
       "          [0.9991, 0.9991, 1.5860,  ..., 1.1804, 1.1804, 0.9528],\n",
       "          ...,\n",
       "          [1.2292, 1.2292, 0.6592,  ..., 1.3920, 1.3920, 1.0350],\n",
       "          [0.9072, 0.9072, 0.6592,  ..., 1.2191, 0.9031, 1.3068],\n",
       "          [1.0765, 1.0765, 1.3608,  ..., 1.0150, 0.7969, 1.3068]],\n",
       " \n",
       "         [[1.2583, 1.1477, 1.1740,  ..., 1.0985, 1.0985, 1.0955],\n",
       "          [1.4524, 1.4524, 1.2429,  ..., 1.6752, 1.6752, 1.4318],\n",
       "          [1.4524, 1.4524, 1.2429,  ..., 1.6752, 1.6752, 1.4318],\n",
       "          ...,\n",
       "          [1.0261, 1.0576, 1.3149,  ..., 1.3835, 1.4349, 1.4349],\n",
       "          [1.1192, 1.1192, 1.3069,  ..., 1.3835, 1.4349, 1.4349],\n",
       "          [1.1192, 1.1192, 1.3069,  ..., 0.9079, 1.4349, 1.4349]],\n",
       " \n",
       "         [[1.0223, 1.0223, 0.6883,  ..., 0.4957, 0.9427, 0.9427],\n",
       "          [1.0223, 1.0223, 0.8323,  ..., 0.5744, 0.9427, 0.9427],\n",
       "          [1.0223, 1.7117, 1.7117,  ..., 0.7884, 0.9427, 0.9427],\n",
       "          ...,\n",
       "          [0.6537, 0.6537, 1.1743,  ..., 0.4886, 0.4641, 0.4971],\n",
       "          [0.7259, 0.7259, 1.1743,  ..., 0.5689, 0.5689, 0.5689],\n",
       "          [1.1438, 1.1438, 1.1438,  ..., 0.5689, 0.5689, 0.8660]],\n",
       " \n",
       "         ...,\n",
       " \n",
       "         [[1.0151, 1.0151, 1.0151,  ..., 0.9054, 0.9054, 0.8432],\n",
       "          [0.3471, 0.7851, 0.8948,  ..., 1.3399, 1.3399, 1.3399],\n",
       "          [0.4338, 0.7851, 0.9186,  ..., 1.3399, 1.3399, 1.3399],\n",
       "          ...,\n",
       "          [0.6222, 0.6222, 0.6222,  ..., 0.9288, 0.9288, 0.6883],\n",
       "          [0.6731, 0.6731, 0.4785,  ..., 0.9288, 1.1664, 1.1664],\n",
       "          [1.2295, 0.7540, 0.7891,  ..., 1.1079, 1.1664, 1.1664]],\n",
       " \n",
       "         [[1.1704, 1.5275, 1.5275,  ..., 1.1078, 1.7501, 1.7501],\n",
       "          [1.1704, 1.5275, 1.5275,  ..., 1.2942, 1.7501, 1.7501],\n",
       "          [1.0986, 1.5275, 1.5275,  ..., 1.2942, 1.7501, 1.7501],\n",
       "          ...,\n",
       "          [1.2589, 1.2589, 1.2589,  ..., 1.3840, 1.3389, 1.3389],\n",
       "          [1.3375, 1.3375, 1.3375,  ..., 1.3840, 1.3389, 1.3875],\n",
       "          [1.9014, 1.3375, 1.3375,  ..., 1.2789, 1.0077, 1.3875]],\n",
       " \n",
       "         [[0.8438, 1.0238, 1.0238,  ..., 1.4207, 1.4207, 1.4207],\n",
       "          [0.6428, 1.0238, 1.4501,  ..., 1.4207, 1.4207, 1.4207],\n",
       "          [1.0289, 0.9549, 1.4501,  ..., 0.9949, 1.0586, 1.0586],\n",
       "          ...,\n",
       "          [0.8516, 1.0438, 1.0438,  ..., 1.3102, 1.3669, 1.3669],\n",
       "          [0.9296, 1.0438, 1.0438,  ..., 1.3102, 1.3669, 1.3669],\n",
       "          [2.3137, 1.1912, 1.1912,  ..., 1.3102, 1.3102, 1.2192]]],\n",
       "        grad_fn=<SelectBackward>),\n",
       " torch.Size([10, 96, 10, 8]))"
      ]
     },
     "execution_count": 19,
     "metadata": {},
     "output_type": "execute_result"
    }
   ],
   "source": [
    "max1 = nn.MaxPool2d(kernel_size=5, stride=2)\n",
    "output3 = max1(output2)\n",
    "output3[1], output3.shape"
   ]
  },
  {
   "cell_type": "code",
   "execution_count": 17,
   "metadata": {},
   "outputs": [
    {
     "data": {
      "text/plain": [
       "(tensor([0.6917, 0.9712, 0.9712,  ..., 1.3102, 1.3102, 1.2192],\n",
       "        grad_fn=<SelectBackward>),\n",
       " torch.Size([10, 7680]))"
      ]
     },
     "execution_count": 17,
     "metadata": {},
     "output_type": "execute_result"
    }
   ],
   "source": [
    "flat = nn.Flatten()\n",
    "output4 = flat(output3)\n",
    "output4[1], output4.shape"
   ]
  },
  {
   "cell_type": "code",
   "execution_count": 74,
   "metadata": {},
   "outputs": [],
   "source": [
    "class ConvBlock(nn.Module):\n",
    "    def __init__(self, in_channels, out_channels, is_bn=True):\n",
    "        super(ConvBlock, self).__init__()\n",
    "\n",
    "        self.is_bn = is_bn\n",
    "        self.bn = nn.BatchNorm2d(in_channels)\n",
    "        self.conv = nn.Conv2d(in_channels=in_channels, out_channels=out_channels,\n",
    "                              kernel_size=5, stride=2, padding=2)\n",
    "        self.maxpool = nn.MaxPool2d(kernel_size=3, stride=1)\n",
    "        \n",
    "    def forward(self, input):\n",
    "        if self.is_bn:\n",
    "            output = self.bn(input)\n",
    "            output = self.conv(output)\n",
    "            output = self.maxpool(output)\n",
    "        else:\n",
    "            output = self.conv(input)\n",
    "            output = self.maxpool(output)\n",
    "        return output"
   ]
  },
  {
   "cell_type": "code",
   "execution_count": 78,
   "metadata": {},
   "outputs": [
    {
     "data": {
      "text/plain": [
       "(torch.Size([10, 1, 49, 40]), torch.Size([10, 8, 23, 18]))"
      ]
     },
     "execution_count": 78,
     "metadata": {},
     "output_type": "execute_result"
    }
   ],
   "source": [
    "cb1 = ConvBlock(1, 8)\n",
    "output1 = cb1(input)\n",
    "input.shape, output1.shape"
   ]
  },
  {
   "cell_type": "code",
   "execution_count": 79,
   "metadata": {},
   "outputs": [
    {
     "data": {
      "text/plain": [
       "torch.Size([10, 8, 10, 7])"
      ]
     },
     "execution_count": 79,
     "metadata": {},
     "output_type": "execute_result"
    }
   ],
   "source": [
    "cb2 = ConvBlock(8, 8)\n",
    "output2 = cb2(output1)\n",
    "output2.shape"
   ]
  },
  {
   "cell_type": "code",
   "execution_count": 80,
   "metadata": {},
   "outputs": [
    {
     "data": {
      "text/plain": [
       "torch.Size([10, 560])"
      ]
     },
     "execution_count": 80,
     "metadata": {},
     "output_type": "execute_result"
    }
   ],
   "source": [
    "output3 = flat(output2)\n",
    "output3.shape"
   ]
  },
  {
   "cell_type": "code",
   "execution_count": 84,
   "metadata": {},
   "outputs": [],
   "source": [
    "class CNN(nn.Module):\n",
    "    def __init__(self, num_labels=10, is_bn=True):\n",
    "        super(CNN, self).__init__()\n",
    "\n",
    "        self.cb1 = ConvBlock(10, 16, is_bn=is_bn)\n",
    "        self.cb2 = ConvBlock(16, 8, is_bn=is_bn)\n",
    "        self.flat = nn.Flatten()\n",
    "        self.classifier = nn.Sequential(\n",
    "                                        nn.BatchNorm1d(560),\n",
    "                                        nn.Linear(560, 128),\n",
    "                                        nn.ReLU(True),\n",
    "                                        nn.Linear(128, num_labels)\n",
    "        )\n",
    "        \n",
    "    def forward(self, input):\n",
    "        output = self.cb1(input)\n",
    "        output = self.cb2(output)\n",
    "\n",
    "        output = self.flat(output)\n",
    "        output = self.classifier(output)\n",
    "\n",
    "        return output"
   ]
  },
  {
   "cell_type": "code",
   "execution_count": 82,
   "metadata": {},
   "outputs": [
    {
     "data": {
      "text/plain": [
       "torch.Size([10, 10])"
      ]
     },
     "execution_count": 82,
     "metadata": {},
     "output_type": "execute_result"
    }
   ],
   "source": [
    "final_model = CNN()\n",
    "output = final_model(input)\n",
    "output.shape"
   ]
  },
  {
   "cell_type": "code",
   "execution_count": 87,
   "metadata": {},
   "outputs": [
    {
     "data": {
      "text/plain": [
       "(torch.Size([32, 10, 49, 40]), torch.Size([32, 10]))"
      ]
     },
     "execution_count": 87,
     "metadata": {},
     "output_type": "execute_result"
    }
   ],
   "source": [
    "input = torch.randn((32, 10, 49, 40))\n",
    "final_model = CNN()\n",
    "output = final_model(input)\n",
    "input.shape, output.shape"
   ]
  },
  {
   "cell_type": "code",
   "execution_count": 89,
   "metadata": {},
   "outputs": [
    {
     "data": {
      "text/plain": [
       "tensor([[[[-4.3566e-01, -1.1920e+00,  4.5311e-01,  ..., -5.8033e-02,\n",
       "           -1.3105e+00,  1.0425e+00],\n",
       "          [ 1.3800e+00, -8.6652e-01,  7.6536e-01,  ..., -1.7274e-01,\n",
       "            4.2595e-01, -5.9750e-01],\n",
       "          [ 1.1824e+00,  5.8274e-01,  1.8138e+00,  ..., -1.7031e+00,\n",
       "           -1.0004e+00, -5.6267e-02],\n",
       "          ...,\n",
       "          [-1.0465e-01, -7.0150e-01, -9.6694e-01,  ...,  8.8712e-01,\n",
       "           -5.2279e-01,  5.7661e-01],\n",
       "          [ 2.0852e-01,  9.0612e-01, -1.3937e-02,  ..., -1.8415e+00,\n",
       "            9.2284e-01, -1.4254e+00],\n",
       "          [ 9.3439e-02,  2.5655e-01,  3.0068e-02,  ..., -8.5392e-01,\n",
       "           -6.9665e-01,  6.1748e-01]],\n",
       "\n",
       "         [[ 1.4478e-01,  9.1604e-01,  6.0250e-01,  ..., -7.0077e-01,\n",
       "           -1.6857e-01, -1.0752e-01],\n",
       "          [ 6.5405e-01, -4.1792e-01, -3.8833e-01,  ...,  1.4104e+00,\n",
       "           -5.6232e-01, -8.9570e-01],\n",
       "          [-1.4413e+00,  4.2025e-02,  1.4221e-01,  ...,  1.3811e-01,\n",
       "            2.7101e-01,  1.5342e-01],\n",
       "          ...,\n",
       "          [ 4.0694e-01, -1.6365e-01, -3.6595e-01,  ...,  1.8911e+00,\n",
       "           -3.7356e-01,  1.0361e+00],\n",
       "          [-1.3765e+00,  1.0564e+00,  1.7148e+00,  ..., -4.2452e-01,\n",
       "           -1.0832e-01,  3.2177e-02],\n",
       "          [-8.8311e-01, -2.8337e-01,  3.0558e-01,  ...,  1.6226e+00,\n",
       "            9.4067e-01,  1.7862e+00]],\n",
       "\n",
       "         [[ 1.4873e+00,  1.9493e+00,  1.4122e+00,  ..., -6.3986e-02,\n",
       "            6.0838e-01,  1.6181e-01],\n",
       "          [ 2.4670e-02,  8.4816e-01,  5.4919e-01,  ..., -8.1898e-01,\n",
       "           -6.6724e-01,  9.1822e-01],\n",
       "          [ 2.9349e+00,  1.4640e-01,  1.2832e+00,  ...,  1.0378e+00,\n",
       "           -1.1323e+00,  1.5705e+00],\n",
       "          ...,\n",
       "          [-8.0843e-01,  1.3746e-01, -8.6251e-02,  ..., -2.2160e+00,\n",
       "           -6.6660e-01,  6.4075e-01],\n",
       "          [ 2.0877e+00, -1.4555e+00,  1.8636e+00,  ...,  7.8009e-01,\n",
       "            1.3079e+00, -1.2004e+00],\n",
       "          [ 1.9320e-01,  1.0951e+00, -9.5636e-02,  ...,  7.6964e-01,\n",
       "           -2.6948e-01,  7.0072e-02]],\n",
       "\n",
       "         ...,\n",
       "\n",
       "         [[-2.2215e+00, -6.6854e-02, -9.2293e-01,  ..., -3.2018e-01,\n",
       "            1.5361e+00, -4.0046e-01],\n",
       "          [ 9.3982e-01, -1.2881e+00, -1.4130e-01,  ..., -6.9574e-01,\n",
       "           -6.9637e-01, -8.7865e-01],\n",
       "          [ 2.4216e-01, -8.5339e-01,  8.1569e-01,  ..., -3.3039e-01,\n",
       "            5.5271e-01, -1.2711e+00],\n",
       "          ...,\n",
       "          [-9.2427e-01,  1.7703e+00, -3.7753e-01,  ..., -2.0410e-01,\n",
       "            2.2461e+00, -1.1785e+00],\n",
       "          [ 2.6651e-01, -2.1060e-01, -1.2543e+00,  ...,  4.3678e-01,\n",
       "           -3.2336e-01, -1.1992e-01],\n",
       "          [-2.5247e-02,  4.8255e-01, -1.5806e+00,  ...,  2.6009e-01,\n",
       "            6.2568e-01,  1.5138e+00]],\n",
       "\n",
       "         [[ 9.3402e-01, -7.7012e-01,  1.9174e+00,  ...,  1.0892e-01,\n",
       "            9.6443e-01, -8.1079e-01],\n",
       "          [ 3.3898e-01,  3.2969e-02, -5.9879e-01,  ..., -1.0390e+00,\n",
       "            1.2423e+00, -2.1152e+00],\n",
       "          [-1.3726e+00, -2.5470e-02,  7.6725e-01,  ...,  1.4005e+00,\n",
       "           -2.5520e-02, -1.0745e+00],\n",
       "          ...,\n",
       "          [-5.7035e-01, -7.0421e-02,  1.0829e+00,  ..., -9.6885e-01,\n",
       "           -1.8864e-01, -5.5162e-01],\n",
       "          [ 4.7956e-01, -2.5871e-01, -5.1183e-01,  ..., -5.5821e-01,\n",
       "           -3.5354e-01, -9.9976e-01],\n",
       "          [-1.0816e+00,  5.7221e-01, -5.7598e-01,  ..., -6.5635e-01,\n",
       "           -6.7785e-02, -9.9119e-01]],\n",
       "\n",
       "         [[-1.8239e-01, -3.2242e+00,  7.5322e-01,  ...,  1.2595e-01,\n",
       "            1.0336e-01, -1.2275e+00],\n",
       "          [-7.7352e-01,  4.2305e-01,  5.8762e-01,  ...,  2.7188e-01,\n",
       "            1.2347e-01, -6.5411e-02],\n",
       "          [-1.1768e-01, -2.8378e+00, -4.6501e-01,  ...,  1.0510e+00,\n",
       "            1.6116e+00,  6.4182e-01],\n",
       "          ...,\n",
       "          [ 5.7759e-01, -2.9533e-02,  1.9133e+00,  ...,  9.1700e-02,\n",
       "            8.0624e-01, -2.0617e-01],\n",
       "          [ 1.8669e-01,  1.3348e+00, -2.9814e+00,  ..., -1.4812e+00,\n",
       "            1.2779e-01,  9.3720e-01],\n",
       "          [-1.2685e-01,  4.0563e-02, -6.9982e-02,  ..., -1.4302e+00,\n",
       "           -5.5232e-01,  8.8882e-01]]],\n",
       "\n",
       "\n",
       "        [[[-2.7273e-01, -1.0984e+00,  2.7632e-01,  ...,  1.0624e+00,\n",
       "            1.0590e+00, -4.4496e-01],\n",
       "          [-3.7179e-01,  2.3862e-01, -1.2512e+00,  ...,  1.0411e+00,\n",
       "           -3.3164e-01, -1.3474e+00],\n",
       "          [-5.4805e-01, -3.5728e-01,  6.9221e-01,  ...,  1.4386e+00,\n",
       "            3.6137e-01, -1.7628e+00],\n",
       "          ...,\n",
       "          [ 3.7942e-01,  5.4860e-01, -3.4235e-01,  ..., -5.7745e-01,\n",
       "            4.4366e-01,  6.6088e-02],\n",
       "          [-1.8590e-01,  1.0521e+00,  4.0887e-01,  ...,  5.4338e-01,\n",
       "           -1.5297e+00,  1.5486e-01],\n",
       "          [-4.4680e-02,  7.7234e-01, -9.1521e-01,  ...,  9.6201e-01,\n",
       "            1.9860e+00,  1.4153e+00]],\n",
       "\n",
       "         [[ 3.9060e-01, -1.8166e+00, -5.5032e-01,  ..., -2.7106e+00,\n",
       "           -1.3271e+00,  8.5536e-01],\n",
       "          [-7.2984e-01,  1.0196e-01, -4.4028e-01,  ..., -1.1879e+00,\n",
       "           -1.6582e+00,  5.2430e-01],\n",
       "          [-1.2682e+00,  2.9456e-01, -1.1454e+00,  ...,  1.5273e+00,\n",
       "            9.6286e-01,  1.5466e+00],\n",
       "          ...,\n",
       "          [ 4.1000e-01,  2.6695e-01, -3.8531e-01,  ...,  3.4494e-01,\n",
       "            1.1069e+00,  1.9821e-01],\n",
       "          [-1.7405e+00, -4.1596e-01,  1.8146e+00,  ...,  8.9079e-01,\n",
       "           -5.9490e-01,  2.4221e+00],\n",
       "          [ 1.2274e+00,  1.4044e+00,  4.6852e-01,  ..., -1.0169e-01,\n",
       "            8.0458e-03, -1.2502e+00]],\n",
       "\n",
       "         [[-9.6803e-01,  3.9014e-01, -7.3296e-01,  ...,  2.1344e-01,\n",
       "           -1.1026e+00, -1.7191e-01],\n",
       "          [ 9.6346e-01,  5.4051e-01,  1.2362e-01,  ...,  2.0733e-02,\n",
       "            3.9426e-01,  7.7887e-01],\n",
       "          [-1.8931e-01, -3.6364e-01, -4.7901e-02,  ...,  1.3670e-01,\n",
       "            7.6262e-01,  3.7708e-01],\n",
       "          ...,\n",
       "          [ 6.6832e-02, -4.8781e-01, -1.8323e-01,  ...,  1.1366e+00,\n",
       "            1.0696e+00,  2.8963e-01],\n",
       "          [-1.8022e+00, -5.3368e-01,  1.5211e+00,  ...,  2.8336e-01,\n",
       "            6.4785e-01, -1.2836e+00],\n",
       "          [ 2.8258e-01,  6.1411e-01,  1.2683e+00,  ..., -5.7995e-01,\n",
       "           -7.0831e-01,  8.9009e-02]],\n",
       "\n",
       "         ...,\n",
       "\n",
       "         [[ 3.4489e-01, -8.5768e-01,  4.5268e-01,  ..., -5.2441e-01,\n",
       "           -1.9524e+00, -1.6293e-01],\n",
       "          [-2.0174e+00,  9.3244e-01, -7.7806e-01,  ..., -2.3939e-01,\n",
       "           -3.2284e-01, -2.2073e+00],\n",
       "          [-8.4698e-01, -1.0536e+00,  1.4227e+00,  ..., -6.0204e-01,\n",
       "            3.8525e-01,  1.2728e-01],\n",
       "          ...,\n",
       "          [ 1.3215e-01, -3.5179e-01,  8.6334e-02,  ..., -1.2241e+00,\n",
       "            1.2313e+00,  1.2997e-01],\n",
       "          [ 7.9703e-01, -4.5920e-02,  1.6645e+00,  ..., -5.1790e-01,\n",
       "           -2.7371e-01,  9.3807e-01],\n",
       "          [ 2.5754e-01,  5.9401e-01,  5.5209e-01,  ...,  4.5221e-01,\n",
       "           -9.0271e-01,  1.8326e-01]],\n",
       "\n",
       "         [[ 5.0444e-01, -2.1460e-01,  2.8121e-01,  ...,  9.5061e-01,\n",
       "           -1.7944e+00, -9.9655e-02],\n",
       "          [-1.5620e+00,  1.2694e+00,  5.9398e-01,  ..., -3.4252e-01,\n",
       "            9.6205e-01, -1.0159e+00],\n",
       "          [-1.2933e+00, -1.0096e-01, -9.2739e-01,  ...,  3.2990e-02,\n",
       "           -4.0581e-01,  2.5154e-01],\n",
       "          ...,\n",
       "          [ 5.1023e-01, -4.0904e-02, -8.6620e-01,  ..., -6.6636e-01,\n",
       "           -8.8415e-01, -7.4895e-01],\n",
       "          [ 2.8187e-01,  9.9926e-02, -8.3595e-02,  ...,  1.2461e+00,\n",
       "            9.7785e-01,  4.6329e-01],\n",
       "          [-1.3391e-01, -5.1190e-01,  8.1560e-01,  ..., -4.9351e-03,\n",
       "            4.3840e-02,  9.1367e-02]],\n",
       "\n",
       "         [[-5.7446e-01, -1.6000e+00,  1.5839e+00,  ..., -1.9693e+00,\n",
       "           -4.4259e-02, -1.3441e+00],\n",
       "          [ 1.1018e+00,  3.3064e-01, -8.2383e-01,  ...,  2.0858e-01,\n",
       "           -1.1716e+00,  1.3035e+00],\n",
       "          [ 1.4567e+00, -9.2703e-01, -7.4541e-01,  ...,  7.3471e-02,\n",
       "           -7.1007e-02,  3.6836e-01],\n",
       "          ...,\n",
       "          [-6.5420e-01, -1.3010e+00, -1.2648e+00,  ...,  1.4086e+00,\n",
       "            1.3019e+00,  2.5345e+00],\n",
       "          [ 4.0041e-01, -4.9133e-01,  5.5196e-01,  ..., -5.7804e-03,\n",
       "           -2.1069e+00, -5.7888e-01],\n",
       "          [-3.9078e-01,  6.3512e-02, -5.5534e-01,  ..., -5.4543e-01,\n",
       "           -1.3286e-01, -1.7301e-01]]],\n",
       "\n",
       "\n",
       "        [[[-1.1365e+00,  3.1048e-02, -5.8289e-01,  ..., -7.0193e-01,\n",
       "            1.9586e+00,  4.3658e-01],\n",
       "          [ 1.8454e+00, -6.9658e-01,  9.1391e-01,  ...,  2.1975e+00,\n",
       "            7.4872e-01,  5.2925e-01],\n",
       "          [-2.8386e-01,  1.1586e+00,  3.2565e-01,  ..., -8.4692e-01,\n",
       "           -3.1447e-02,  9.4738e-01],\n",
       "          ...,\n",
       "          [-1.0457e+00, -3.0099e-01, -7.6156e-01,  ..., -1.0251e+00,\n",
       "            7.4786e-01, -1.4249e+00],\n",
       "          [-6.7031e-01, -1.6335e+00, -1.1541e+00,  ..., -1.4507e+00,\n",
       "           -1.5867e-01,  8.8533e-02],\n",
       "          [-5.8991e-01, -5.6664e-01,  9.8988e-01,  ..., -7.7837e-02,\n",
       "           -9.4379e-01, -1.3452e+00]],\n",
       "\n",
       "         [[ 1.2710e+00,  8.0676e-01, -6.7682e-01,  ...,  1.0509e+00,\n",
       "           -1.1842e-01,  1.4517e+00],\n",
       "          [-7.2109e-01,  5.1380e-01, -3.5670e-01,  ..., -1.4091e-01,\n",
       "           -9.4209e-01, -4.9739e-01],\n",
       "          [-2.2965e-01, -5.7543e-01,  4.8356e-01,  ..., -4.8662e-01,\n",
       "           -9.4518e-01, -1.1721e+00],\n",
       "          ...,\n",
       "          [-8.0728e-01, -5.2929e-01,  1.2281e+00,  ...,  3.8428e-01,\n",
       "            1.2811e-01,  1.5081e+00],\n",
       "          [ 9.0192e-01,  1.0153e+00,  9.0161e-01,  ...,  1.7624e-03,\n",
       "            1.4273e+00, -9.3111e-02],\n",
       "          [ 2.1239e-01, -1.1881e-01, -6.3444e-01,  ...,  7.6787e-01,\n",
       "            2.2597e+00, -1.1441e+00]],\n",
       "\n",
       "         [[ 9.7086e-02,  2.3929e-01,  3.8401e-01,  ...,  6.6504e-01,\n",
       "           -4.7750e-02,  9.8618e-01],\n",
       "          [ 5.9424e-01,  2.3475e+00, -6.0651e-01,  ...,  1.0066e+00,\n",
       "            6.2140e-01,  7.8081e-01],\n",
       "          [-1.0890e+00,  2.8557e+00, -1.9595e+00,  ...,  5.3091e-02,\n",
       "           -7.4931e-01, -1.1238e-01],\n",
       "          ...,\n",
       "          [-1.4881e+00,  2.6921e-01,  1.3219e-01,  ...,  6.9715e-02,\n",
       "            8.3786e-02,  1.0184e+00],\n",
       "          [-3.4865e-01, -2.0417e-01,  3.2367e-01,  ...,  5.0327e-02,\n",
       "            4.9651e-01,  1.7125e+00],\n",
       "          [-3.8515e-01,  1.1510e+00,  9.1733e-01,  ...,  1.6742e-01,\n",
       "           -9.4301e-01, -1.2006e+00]],\n",
       "\n",
       "         ...,\n",
       "\n",
       "         [[-2.1940e+00,  1.0562e+00, -1.7462e+00,  ...,  5.3120e-01,\n",
       "            6.1024e-01, -1.0875e+00],\n",
       "          [-6.6446e-02,  1.5353e+00,  1.0105e+00,  ...,  1.2193e+00,\n",
       "            6.0241e-01, -1.5195e-01],\n",
       "          [-1.4165e-01, -4.1451e-01, -1.8163e+00,  ...,  8.8560e-01,\n",
       "            2.5670e-02,  2.3386e-01],\n",
       "          ...,\n",
       "          [ 4.0826e-01,  3.5589e-01, -1.2158e+00,  ..., -1.1664e+00,\n",
       "           -5.9519e-01,  6.9325e-01],\n",
       "          [-1.1334e+00, -4.2276e-01, -2.0790e+00,  ..., -8.5274e-02,\n",
       "            8.6613e-02, -6.8289e-01],\n",
       "          [-1.3319e+00, -3.6571e-01, -5.1352e-01,  ..., -1.4167e-01,\n",
       "           -1.6702e+00,  1.1710e-01]],\n",
       "\n",
       "         [[ 8.9839e-02,  6.5765e-01, -1.5613e-01,  ..., -2.2615e+00,\n",
       "            6.7927e-01,  1.3069e+00],\n",
       "          [ 1.1684e+00, -9.0660e-01, -1.3231e+00,  ...,  2.9164e-01,\n",
       "            5.3278e-01,  1.2846e-02],\n",
       "          [ 1.1478e+00, -6.8987e-02, -2.9539e-01,  ..., -1.5198e+00,\n",
       "            5.0814e-01, -8.0683e-01],\n",
       "          ...,\n",
       "          [ 2.9799e-02, -1.0921e+00,  9.1675e-01,  ..., -1.4370e-01,\n",
       "            1.4353e+00,  8.0333e-01],\n",
       "          [-1.3757e+00, -1.4400e+00,  8.9828e-01,  ...,  1.6370e+00,\n",
       "           -2.5113e-01,  2.1396e-01],\n",
       "          [-5.3031e-01,  1.5082e-01, -6.7590e-01,  ...,  3.4922e-01,\n",
       "           -1.4475e+00, -9.6453e-01]],\n",
       "\n",
       "         [[-1.1346e+00,  2.7558e+00, -8.3951e-01,  ...,  7.5709e-01,\n",
       "            1.6587e+00, -1.0908e-01],\n",
       "          [-1.9384e-01, -2.8508e+00, -1.3118e+00,  ...,  6.3812e-01,\n",
       "            3.7180e-01,  3.3395e-01],\n",
       "          [ 2.3757e+00, -6.6028e-01,  4.6780e-01,  ...,  2.0619e-01,\n",
       "           -3.3866e-01, -7.4251e-02],\n",
       "          ...,\n",
       "          [-6.9924e-01, -6.4599e-03,  4.0592e-01,  ..., -4.0345e-01,\n",
       "           -5.5261e-01, -1.1789e-01],\n",
       "          [ 3.2148e-01,  5.5717e-02,  3.6584e-01,  ...,  8.5961e-01,\n",
       "           -4.8469e-01, -4.8247e-01],\n",
       "          [-6.5158e-01,  4.1593e-02,  1.7101e+00,  ...,  5.2159e-01,\n",
       "            9.4150e-01, -2.6084e-01]]],\n",
       "\n",
       "\n",
       "        ...,\n",
       "\n",
       "\n",
       "        [[[ 5.0006e-01, -9.5732e-01, -2.3501e-01,  ..., -9.3460e-01,\n",
       "            1.8877e-02, -9.2829e-01],\n",
       "          [-7.6534e-01, -4.3706e-01,  1.2708e+00,  ..., -2.6917e-01,\n",
       "           -1.8149e+00,  1.0041e+00],\n",
       "          [ 1.7493e+00, -1.0724e-01, -6.1968e-01,  ..., -6.9194e-01,\n",
       "           -9.5707e-01, -1.7698e+00],\n",
       "          ...,\n",
       "          [-7.0936e-01,  5.7228e-01, -2.4671e-01,  ...,  1.8190e-01,\n",
       "           -1.4587e+00, -2.8515e+00],\n",
       "          [-1.7367e-01, -1.2511e+00, -2.4855e+00,  ..., -1.2191e+00,\n",
       "            1.5910e+00, -1.9408e-01],\n",
       "          [-7.4864e-01,  5.2275e-01,  5.2350e-01,  ...,  7.1257e-01,\n",
       "            1.1417e-01, -1.7204e+00]],\n",
       "\n",
       "         [[ 1.1155e+00, -5.8216e-01, -1.3774e-01,  ..., -8.5982e-01,\n",
       "            1.4978e+00,  9.5670e-01],\n",
       "          [ 5.5914e-02, -2.7341e-01, -1.0821e+00,  ..., -4.0875e-01,\n",
       "            4.3840e-01,  5.5261e-01],\n",
       "          [-2.8727e-01,  1.2331e-01, -2.1821e-01,  ..., -2.5246e+00,\n",
       "           -5.3351e-01, -9.2222e-01],\n",
       "          ...,\n",
       "          [ 6.2360e-01,  1.6120e+00, -2.0610e-01,  ...,  8.6193e-01,\n",
       "            9.9080e-02,  3.1671e-01],\n",
       "          [-2.2344e-01,  2.1973e-01,  2.5702e-01,  ...,  1.2635e+00,\n",
       "            9.9571e-01,  1.6323e-01],\n",
       "          [-1.6206e+00, -2.3315e-01, -3.6455e-01,  ..., -7.0459e-01,\n",
       "            4.3973e-01, -4.5304e-01]],\n",
       "\n",
       "         [[ 2.7924e-01, -1.9208e-01, -1.6484e-01,  ..., -6.2701e-01,\n",
       "            1.1511e+00,  1.3080e+00],\n",
       "          [-4.3489e-01,  5.0038e-01,  2.3336e-01,  ...,  9.5981e-01,\n",
       "            3.5578e+00,  1.6118e+00],\n",
       "          [ 3.2259e-01,  1.0634e+00,  8.1786e-01,  ..., -6.8402e-01,\n",
       "            4.1124e-01, -1.0794e+00],\n",
       "          ...,\n",
       "          [ 8.4975e-01, -1.9648e+00,  1.0118e+00,  ...,  5.8191e-01,\n",
       "            5.9354e-01,  1.2030e+00],\n",
       "          [ 1.7663e+00,  5.0259e-01,  3.4609e-01,  ..., -1.1078e+00,\n",
       "            6.3550e-01, -2.0962e+00],\n",
       "          [ 1.8981e+00, -7.9650e-01,  4.5262e-02,  ...,  1.3398e+00,\n",
       "           -6.0832e-01,  2.3271e-01]],\n",
       "\n",
       "         ...,\n",
       "\n",
       "         [[-1.1122e+00, -3.1380e-01, -7.7950e-01,  ...,  2.5014e-01,\n",
       "            8.3924e-01, -8.0514e-02],\n",
       "          [ 8.7362e-01, -1.1095e-01,  8.3606e-01,  ...,  1.0715e+00,\n",
       "           -1.0067e-01, -1.5731e+00],\n",
       "          [-2.8819e-02,  3.6324e-01,  9.4745e-01,  ...,  1.3423e-01,\n",
       "           -5.1062e-01,  1.4718e-01],\n",
       "          ...,\n",
       "          [ 1.0750e+00,  7.4448e-01,  7.3346e-01,  ..., -1.8331e-01,\n",
       "            8.4164e-01,  7.8730e-01],\n",
       "          [ 8.1622e-01,  2.1257e+00, -1.6050e+00,  ...,  3.6804e-01,\n",
       "            2.7912e-01,  1.4796e+00],\n",
       "          [ 9.3589e-01, -1.2650e+00,  6.8657e-01,  ...,  5.2577e-01,\n",
       "            4.0991e-01,  2.3068e+00]],\n",
       "\n",
       "         [[-4.0272e-01,  2.8555e-01,  8.7656e-01,  ..., -1.2372e+00,\n",
       "           -2.4683e-01,  3.9482e-01],\n",
       "          [-1.6320e+00, -4.7529e-01,  8.6962e-01,  ..., -3.3474e-01,\n",
       "            4.8450e-01,  1.4209e-01],\n",
       "          [-8.0683e-01, -9.2079e-01, -2.3011e-01,  ...,  3.8201e-01,\n",
       "           -1.4184e+00,  8.0294e-01],\n",
       "          ...,\n",
       "          [ 1.1515e+00, -8.2188e-01, -5.4127e-01,  ..., -1.5127e+00,\n",
       "           -1.2167e+00, -1.7463e-01],\n",
       "          [-1.1285e+00,  1.1627e-01, -6.2925e-01,  ..., -1.2622e-01,\n",
       "           -1.8171e+00,  1.3446e+00],\n",
       "          [ 2.0747e-01, -1.8945e-02, -1.5592e-01,  ...,  4.5713e-02,\n",
       "            5.0377e-02,  1.1463e-01]],\n",
       "\n",
       "         [[-2.0833e-01, -8.0167e-01,  1.4717e+00,  ..., -1.3025e+00,\n",
       "           -6.6995e-01, -1.4740e+00],\n",
       "          [ 1.5599e+00, -2.4245e-01,  1.9072e-01,  ...,  1.4217e-01,\n",
       "            1.3806e+00,  9.5025e-01],\n",
       "          [-4.9440e-01, -1.6415e+00,  1.0903e+00,  ...,  1.1840e+00,\n",
       "            6.5872e-01, -6.6657e-01],\n",
       "          ...,\n",
       "          [ 8.3330e-01, -1.5938e+00,  2.8786e-01,  ..., -1.6091e+00,\n",
       "            4.8936e-01,  5.2176e-01],\n",
       "          [ 5.8394e-02, -1.6478e+00,  4.0107e-01,  ...,  2.2154e-01,\n",
       "           -6.6073e-01,  6.6865e-01],\n",
       "          [-1.9203e-01, -1.3278e+00,  4.0948e-01,  ..., -8.4782e-01,\n",
       "           -2.6095e-02, -1.1121e-01]]],\n",
       "\n",
       "\n",
       "        [[[ 1.0844e+00, -5.2794e-01, -7.7164e-01,  ...,  1.2631e+00,\n",
       "           -1.4620e+00,  6.1206e-01],\n",
       "          [-1.1558e+00, -3.3699e-01,  1.9518e+00,  ...,  7.2361e-02,\n",
       "            2.2905e+00, -9.7574e-02],\n",
       "          [-6.1992e-01, -1.3600e+00,  2.8145e+00,  ..., -1.1666e+00,\n",
       "            2.1706e+00, -6.1362e-03],\n",
       "          ...,\n",
       "          [ 1.9570e-01,  4.6554e-01,  4.2918e-01,  ..., -9.2830e-02,\n",
       "           -1.2370e+00, -1.2218e+00],\n",
       "          [ 4.6133e-01,  8.9685e-02, -1.0379e+00,  ...,  1.1043e+00,\n",
       "           -4.4519e-01, -4.7419e-01],\n",
       "          [-1.1160e+00, -9.4469e-02,  3.4342e-01,  ...,  2.3929e-01,\n",
       "           -7.9715e-01,  2.1916e+00]],\n",
       "\n",
       "         [[-8.0589e-01, -2.5437e-01,  8.7043e-01,  ...,  1.4413e+00,\n",
       "           -2.8731e-01,  1.4550e+00],\n",
       "          [-1.3592e+00, -1.8516e-01,  1.3020e+00,  ...,  1.3662e+00,\n",
       "            9.4517e-01,  1.7367e-01],\n",
       "          [-5.2122e-01,  1.3524e+00,  2.5510e-01,  ..., -6.5297e-01,\n",
       "           -1.0810e-02,  1.2105e+00],\n",
       "          ...,\n",
       "          [ 1.2589e+00,  4.9504e-01,  6.9734e-01,  ...,  6.4287e-01,\n",
       "            4.6926e-01, -2.0023e+00],\n",
       "          [-2.4804e-01, -6.2287e-01, -4.7409e-01,  ..., -1.0764e+00,\n",
       "           -3.7759e-01,  1.2692e+00],\n",
       "          [ 7.1239e-01, -8.1070e-01, -9.4527e-01,  ...,  1.2128e+00,\n",
       "           -4.9752e-02,  1.0759e+00]],\n",
       "\n",
       "         [[ 1.6126e+00,  8.5157e-01, -3.9233e-01,  ..., -3.8762e-01,\n",
       "           -8.2933e-01, -1.7828e+00],\n",
       "          [-9.1182e-02,  2.9402e-01, -8.4385e-01,  ..., -1.4724e+00,\n",
       "            3.0155e-01, -1.8215e+00],\n",
       "          [ 3.2095e-01, -1.8909e+00,  2.0474e-01,  ..., -3.0657e-02,\n",
       "            9.4785e-01, -4.7091e-02],\n",
       "          ...,\n",
       "          [ 1.1156e+00, -5.5666e-01, -1.2890e-01,  ..., -1.4806e+00,\n",
       "            1.6681e+00,  4.9574e-01],\n",
       "          [-2.4723e+00, -9.9422e-01, -2.0614e-01,  ...,  8.3003e-01,\n",
       "           -7.5688e-01, -6.2562e-01],\n",
       "          [-2.8191e+00,  1.8598e+00,  3.7031e-01,  ...,  9.0319e-01,\n",
       "           -2.4608e-01, -1.4894e+00]],\n",
       "\n",
       "         ...,\n",
       "\n",
       "         [[-8.0880e-02,  1.1047e+00,  1.0625e+00,  ...,  9.5625e-01,\n",
       "           -3.2510e+00,  3.7150e-01],\n",
       "          [-1.2978e+00,  9.9590e-01,  8.6584e-01,  ..., -1.3781e+00,\n",
       "            1.3607e+00,  7.9251e-01],\n",
       "          [-1.3124e-01,  2.2460e+00,  1.0216e+00,  ...,  8.3984e-01,\n",
       "            3.8386e-02,  3.1649e-01],\n",
       "          ...,\n",
       "          [-8.4908e-01,  4.7158e-01,  1.7957e-01,  ...,  9.8939e-01,\n",
       "            1.5796e+00, -2.2278e-01],\n",
       "          [-1.7704e-01, -6.7743e-01, -1.3968e+00,  ..., -1.8104e+00,\n",
       "            3.6131e-01,  1.2941e+00],\n",
       "          [-2.2298e-01,  1.3039e-01, -9.5716e-01,  ..., -1.1607e+00,\n",
       "           -1.0077e+00, -3.0389e-03]],\n",
       "\n",
       "         [[-1.4137e+00,  3.3102e-01, -9.8534e-01,  ..., -4.5099e-01,\n",
       "           -1.6294e+00,  7.8694e-01],\n",
       "          [-1.0046e+00, -4.7009e-01, -1.1653e+00,  ...,  1.1467e+00,\n",
       "            1.1171e+00,  3.1250e-02],\n",
       "          [-9.7515e-01, -1.9838e-02,  1.5484e+00,  ...,  1.1330e+00,\n",
       "           -7.6101e-01,  2.5312e-01],\n",
       "          ...,\n",
       "          [ 1.8006e+00, -1.5837e+00, -4.5600e-01,  ...,  1.5878e+00,\n",
       "           -2.0289e+00,  1.9637e+00],\n",
       "          [ 1.2873e+00, -4.1039e-02, -7.8959e-01,  ..., -6.7333e-01,\n",
       "            1.0682e+00,  1.2526e-01],\n",
       "          [-1.5384e+00,  1.7744e+00, -1.1857e+00,  ...,  9.3943e-02,\n",
       "           -9.4043e-01,  6.3161e-01]],\n",
       "\n",
       "         [[-8.1029e-01, -5.9668e-01, -9.7243e-01,  ...,  8.8958e-01,\n",
       "           -2.1319e+00, -7.5932e-01],\n",
       "          [-4.5514e-01,  5.9465e-01,  5.4803e-01,  ...,  7.9139e-02,\n",
       "           -1.6473e-01, -6.8082e-03],\n",
       "          [-3.9702e-01, -6.5525e-01,  5.8011e-01,  ...,  1.3082e+00,\n",
       "            9.5069e-02,  6.2412e-01],\n",
       "          ...,\n",
       "          [-8.6075e-01, -5.3938e-01,  7.6870e-01,  ..., -3.5462e-01,\n",
       "            1.2683e-02, -1.4421e+00],\n",
       "          [-1.7402e+00, -9.4328e-01,  6.9255e-01,  ..., -1.1225e+00,\n",
       "            4.3878e-01,  3.2443e-03],\n",
       "          [ 2.1469e+00,  6.6118e-01,  3.9103e-01,  ...,  1.0476e+00,\n",
       "           -1.4169e+00,  4.5955e-01]]],\n",
       "\n",
       "\n",
       "        [[[-1.6574e-01,  7.3238e-01,  1.2673e+00,  ..., -7.3856e-01,\n",
       "           -9.7578e-01,  3.0588e-01],\n",
       "          [-1.2135e+00, -1.5063e+00, -7.6840e-01,  ...,  3.8145e-02,\n",
       "            9.8943e-01, -2.8342e-01],\n",
       "          [ 4.0435e-01, -8.2793e-01,  1.9755e+00,  ...,  7.1866e-01,\n",
       "           -3.5392e-01,  1.3934e+00],\n",
       "          ...,\n",
       "          [-9.0508e-02, -1.5544e+00, -1.1239e+00,  ..., -1.7306e+00,\n",
       "            9.4342e-01, -6.6803e-01],\n",
       "          [-4.5458e-01,  1.1213e+00,  9.7006e-01,  ..., -5.7186e-01,\n",
       "           -1.9486e+00, -2.0615e-01],\n",
       "          [ 1.5127e-01, -8.0968e-02,  7.6019e-01,  ..., -3.1151e-01,\n",
       "           -4.6569e-01,  1.5109e+00]],\n",
       "\n",
       "         [[ 5.0656e-01, -1.8723e-01,  1.1168e+00,  ...,  1.4520e-01,\n",
       "           -9.9497e-02,  1.3501e+00],\n",
       "          [-1.4959e-01,  6.2839e-01, -4.7595e-01,  ..., -1.1653e+00,\n",
       "            2.2147e-01,  9.8456e-01],\n",
       "          [-9.1812e-02,  4.7731e-01, -1.8614e-01,  ..., -4.6174e-01,\n",
       "           -1.8948e-01, -2.5073e-01],\n",
       "          ...,\n",
       "          [ 1.1945e+00, -4.6081e-01, -3.9102e-01,  ...,  1.3100e+00,\n",
       "           -2.9095e+00, -8.4351e-01],\n",
       "          [-6.1439e-01, -6.0521e-01, -8.5175e-01,  ..., -9.9492e-01,\n",
       "           -1.4043e+00, -7.0371e-02],\n",
       "          [ 9.6556e-01, -1.2648e+00, -1.4068e+00,  ..., -5.7586e-01,\n",
       "           -8.3920e-01, -4.3804e-01]],\n",
       "\n",
       "         [[ 9.2939e-01,  1.3165e+00,  8.2899e-02,  ..., -3.4440e-01,\n",
       "           -1.2624e+00, -4.7049e-01],\n",
       "          [-1.1829e-01,  5.1037e-01,  1.1442e+00,  ..., -2.2341e-01,\n",
       "            3.5904e-01,  1.5960e-01],\n",
       "          [-1.8158e+00, -9.1262e-01,  3.7814e-01,  ...,  4.9532e-01,\n",
       "            3.6154e-01, -3.2019e-02],\n",
       "          ...,\n",
       "          [-6.4912e-01,  3.9054e-01,  5.6639e-01,  ...,  2.9083e-01,\n",
       "           -1.2253e+00,  1.0327e+00],\n",
       "          [-5.2646e-01,  1.6807e+00,  8.4887e-01,  ...,  1.1148e+00,\n",
       "           -5.0434e-01, -3.3776e-01],\n",
       "          [ 4.7718e-01, -7.0248e-01, -1.9158e-01,  ..., -2.4316e+00,\n",
       "           -1.2301e+00,  1.0904e+00]],\n",
       "\n",
       "         ...,\n",
       "\n",
       "         [[-5.6781e-01, -4.3583e-01,  1.6295e-01,  ..., -5.7170e-01,\n",
       "            1.0532e-01, -1.8491e+00],\n",
       "          [ 7.6635e-01,  9.4446e-01, -5.2078e-01,  ..., -5.1352e-02,\n",
       "           -1.2941e+00,  1.8814e+00],\n",
       "          [-1.9263e+00, -6.6656e-01,  1.8482e-01,  ..., -3.1166e-01,\n",
       "            1.0239e+00,  8.5495e-01],\n",
       "          ...,\n",
       "          [ 1.0754e+00,  7.1184e-01, -1.2484e-02,  ...,  5.2650e-04,\n",
       "            1.5790e+00,  9.2996e-01],\n",
       "          [ 1.7995e+00,  4.0500e-01,  1.2192e+00,  ..., -2.3405e+00,\n",
       "           -1.5280e-01, -2.1891e-03],\n",
       "          [ 1.5587e+00, -5.2709e-01, -1.0879e+00,  ..., -1.8425e+00,\n",
       "           -1.4566e+00, -8.1812e-01]],\n",
       "\n",
       "         [[-6.7434e-01, -7.3664e-01, -2.8764e+00,  ...,  1.1491e+00,\n",
       "            1.3505e+00,  2.0738e+00],\n",
       "          [-2.7859e-01,  4.0255e-01,  6.4169e-01,  ...,  6.1473e-01,\n",
       "           -6.8774e-01,  1.6841e+00],\n",
       "          [ 2.0739e+00, -3.7311e-02,  1.8619e+00,  ...,  4.9335e-01,\n",
       "           -4.4206e-01, -1.0483e+00],\n",
       "          ...,\n",
       "          [ 9.6532e-01,  1.7003e-01, -2.8166e-01,  ...,  2.9087e-01,\n",
       "            2.0965e+00, -8.4453e-01],\n",
       "          [ 5.8590e-01,  1.3627e+00,  1.0976e+00,  ..., -1.3773e+00,\n",
       "            1.5284e+00,  6.2584e-01],\n",
       "          [-9.7102e-01, -4.2816e-01, -3.2688e-01,  ..., -6.2581e-01,\n",
       "            2.5468e-02, -1.2739e+00]],\n",
       "\n",
       "         [[-7.6930e-01, -5.9218e-01,  5.9271e-01,  ..., -7.8669e-01,\n",
       "           -2.5997e-01, -1.7529e-01],\n",
       "          [-1.7111e+00, -1.1230e+00, -3.1969e-01,  ..., -1.3053e+00,\n",
       "            6.3269e-01, -4.2465e-01],\n",
       "          [-1.7491e+00,  2.1417e+00, -1.2124e+00,  ...,  7.4525e-02,\n",
       "            5.9481e-01, -6.7207e-01],\n",
       "          ...,\n",
       "          [-2.6399e-01,  1.2295e+00,  1.9463e+00,  ..., -1.6234e+00,\n",
       "           -1.0100e+00, -2.5921e-01],\n",
       "          [-9.0727e-01,  7.0321e-01, -5.2049e-02,  ..., -2.0468e+00,\n",
       "           -3.3020e-01, -1.4049e+00],\n",
       "          [ 1.3609e-01,  1.9624e+00, -1.0932e-01,  ...,  1.7662e-01,\n",
       "           -5.5393e-01,  1.6337e+00]]]])"
      ]
     },
     "execution_count": 89,
     "metadata": {},
     "output_type": "execute_result"
    }
   ],
   "source": [
    "input"
   ]
  },
  {
   "cell_type": "code",
   "execution_count": 91,
   "metadata": {},
   "outputs": [
    {
     "data": {
      "text/plain": [
       "tensor([[[-4.3566e-01, -1.1920e+00,  4.5311e-01,  ..., -5.8033e-02,\n",
       "          -1.3105e+00,  1.0425e+00],\n",
       "         [ 1.3800e+00, -8.6652e-01,  7.6536e-01,  ..., -1.7274e-01,\n",
       "           4.2595e-01, -5.9750e-01],\n",
       "         [ 1.1824e+00,  5.8274e-01,  1.8138e+00,  ..., -1.7031e+00,\n",
       "          -1.0004e+00, -5.6267e-02],\n",
       "         ...,\n",
       "         [-1.0465e-01, -7.0150e-01, -9.6694e-01,  ...,  8.8712e-01,\n",
       "          -5.2279e-01,  5.7661e-01],\n",
       "         [ 2.0852e-01,  9.0612e-01, -1.3937e-02,  ..., -1.8415e+00,\n",
       "           9.2284e-01, -1.4254e+00],\n",
       "         [ 9.3439e-02,  2.5655e-01,  3.0068e-02,  ..., -8.5392e-01,\n",
       "          -6.9665e-01,  6.1748e-01]],\n",
       "\n",
       "        [[ 1.4478e-01,  9.1604e-01,  6.0250e-01,  ..., -7.0077e-01,\n",
       "          -1.6857e-01, -1.0752e-01],\n",
       "         [ 6.5405e-01, -4.1792e-01, -3.8833e-01,  ...,  1.4104e+00,\n",
       "          -5.6232e-01, -8.9570e-01],\n",
       "         [-1.4413e+00,  4.2025e-02,  1.4221e-01,  ...,  1.3811e-01,\n",
       "           2.7101e-01,  1.5342e-01],\n",
       "         ...,\n",
       "         [ 4.0694e-01, -1.6365e-01, -3.6595e-01,  ...,  1.8911e+00,\n",
       "          -3.7356e-01,  1.0361e+00],\n",
       "         [-1.3765e+00,  1.0564e+00,  1.7148e+00,  ..., -4.2452e-01,\n",
       "          -1.0832e-01,  3.2177e-02],\n",
       "         [-8.8311e-01, -2.8337e-01,  3.0558e-01,  ...,  1.6226e+00,\n",
       "           9.4067e-01,  1.7862e+00]],\n",
       "\n",
       "        [[ 1.4873e+00,  1.9493e+00,  1.4122e+00,  ..., -6.3986e-02,\n",
       "           6.0838e-01,  1.6181e-01],\n",
       "         [ 2.4670e-02,  8.4816e-01,  5.4919e-01,  ..., -8.1898e-01,\n",
       "          -6.6724e-01,  9.1822e-01],\n",
       "         [ 2.9349e+00,  1.4640e-01,  1.2832e+00,  ...,  1.0378e+00,\n",
       "          -1.1323e+00,  1.5705e+00],\n",
       "         ...,\n",
       "         [-8.0843e-01,  1.3746e-01, -8.6251e-02,  ..., -2.2160e+00,\n",
       "          -6.6660e-01,  6.4075e-01],\n",
       "         [ 2.0877e+00, -1.4555e+00,  1.8636e+00,  ...,  7.8009e-01,\n",
       "           1.3079e+00, -1.2004e+00],\n",
       "         [ 1.9320e-01,  1.0951e+00, -9.5636e-02,  ...,  7.6964e-01,\n",
       "          -2.6948e-01,  7.0072e-02]],\n",
       "\n",
       "        ...,\n",
       "\n",
       "        [[-5.6781e-01, -4.3583e-01,  1.6295e-01,  ..., -5.7170e-01,\n",
       "           1.0532e-01, -1.8491e+00],\n",
       "         [ 7.6635e-01,  9.4446e-01, -5.2078e-01,  ..., -5.1352e-02,\n",
       "          -1.2941e+00,  1.8814e+00],\n",
       "         [-1.9263e+00, -6.6656e-01,  1.8482e-01,  ..., -3.1166e-01,\n",
       "           1.0239e+00,  8.5495e-01],\n",
       "         ...,\n",
       "         [ 1.0754e+00,  7.1184e-01, -1.2484e-02,  ...,  5.2650e-04,\n",
       "           1.5790e+00,  9.2996e-01],\n",
       "         [ 1.7995e+00,  4.0500e-01,  1.2192e+00,  ..., -2.3405e+00,\n",
       "          -1.5280e-01, -2.1891e-03],\n",
       "         [ 1.5587e+00, -5.2709e-01, -1.0879e+00,  ..., -1.8425e+00,\n",
       "          -1.4566e+00, -8.1812e-01]],\n",
       "\n",
       "        [[-6.7434e-01, -7.3664e-01, -2.8764e+00,  ...,  1.1491e+00,\n",
       "           1.3505e+00,  2.0738e+00],\n",
       "         [-2.7859e-01,  4.0255e-01,  6.4169e-01,  ...,  6.1473e-01,\n",
       "          -6.8774e-01,  1.6841e+00],\n",
       "         [ 2.0739e+00, -3.7311e-02,  1.8619e+00,  ...,  4.9335e-01,\n",
       "          -4.4206e-01, -1.0483e+00],\n",
       "         ...,\n",
       "         [ 9.6532e-01,  1.7003e-01, -2.8166e-01,  ...,  2.9087e-01,\n",
       "           2.0965e+00, -8.4453e-01],\n",
       "         [ 5.8590e-01,  1.3627e+00,  1.0976e+00,  ..., -1.3773e+00,\n",
       "           1.5284e+00,  6.2584e-01],\n",
       "         [-9.7102e-01, -4.2816e-01, -3.2688e-01,  ..., -6.2581e-01,\n",
       "           2.5468e-02, -1.2739e+00]],\n",
       "\n",
       "        [[-7.6930e-01, -5.9218e-01,  5.9271e-01,  ..., -7.8669e-01,\n",
       "          -2.5997e-01, -1.7529e-01],\n",
       "         [-1.7111e+00, -1.1230e+00, -3.1969e-01,  ..., -1.3053e+00,\n",
       "           6.3269e-01, -4.2465e-01],\n",
       "         [-1.7491e+00,  2.1417e+00, -1.2124e+00,  ...,  7.4525e-02,\n",
       "           5.9481e-01, -6.7207e-01],\n",
       "         ...,\n",
       "         [-2.6399e-01,  1.2295e+00,  1.9463e+00,  ..., -1.6234e+00,\n",
       "          -1.0100e+00, -2.5921e-01],\n",
       "         [-9.0727e-01,  7.0321e-01, -5.2049e-02,  ..., -2.0468e+00,\n",
       "          -3.3020e-01, -1.4049e+00],\n",
       "         [ 1.3609e-01,  1.9624e+00, -1.0932e-01,  ...,  1.7662e-01,\n",
       "          -5.5393e-01,  1.6337e+00]]])"
      ]
     },
     "execution_count": 91,
     "metadata": {},
     "output_type": "execute_result"
    }
   ],
   "source": [
    "input.reshape(-1, input.shape[-2], input.shape[-1])"
   ]
  }
 ],
 "metadata": {
  "kernelspec": {
   "display_name": "phla",
   "language": "python",
   "name": "python3"
  },
  "language_info": {
   "codemirror_mode": {
    "name": "ipython",
    "version": 3
   },
   "file_extension": ".py",
   "mimetype": "text/x-python",
   "name": "python",
   "nbconvert_exporter": "python",
   "pygments_lexer": "ipython3",
   "version": "3.8.13"
  },
  "orig_nbformat": 4,
  "vscode": {
   "interpreter": {
    "hash": "b0469df6e709a2df7221cf6a41b4e84b201802bdff0592e7cbfef445384a2896"
   }
  }
 },
 "nbformat": 4,
 "nbformat_minor": 2
}
