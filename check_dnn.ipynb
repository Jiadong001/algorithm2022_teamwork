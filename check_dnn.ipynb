{
 "cells": [
  {
   "attachments": {},
   "cell_type": "markdown",
   "metadata": {},
   "source": [
    "### 1. Simplest Deep Neural Network"
   ]
  },
  {
   "cell_type": "code",
   "execution_count": 1,
   "metadata": {},
   "outputs": [],
   "source": [
    "import torch\n",
    "import torch.nn as nn\n",
    "\n",
    "class DNN1(nn.Module):\n",
    "    def __init__(self, input_size: int, num_labels: int):\n",
    "        super().__init__()\n",
    "        self.classifier = nn.Sequential(\n",
    "                                        nn.Linear(input_size, 1024), nn.ReLU(True),\n",
    "                                        nn.Linear(1024, 1024), nn.ReLU(True),\n",
    "                                        nn.Linear(1024, num_labels),\n",
    "                                        )\n",
    "    def forward(self, input):\n",
    "        outputs = self.classifier(input)\n",
    "        return outputs"
   ]
  },
  {
   "cell_type": "code",
   "execution_count": 2,
   "metadata": {},
   "outputs": [
    {
     "name": "stdout",
     "output_type": "stream",
     "text": [
      "dev feature size: (379, 6487)\n"
     ]
    }
   ],
   "source": [
    "import pandas as pd\n",
    "datapath = \"/data/lujd/algorithm2022/audioset/\"\n",
    "dev_df = pd.read_csv(datapath+\"dev.csv\", sep=\"\\t\")\n",
    "\n",
    "# dev set\n",
    "import numpy as np\n",
    "from Extract_feature import extract_mfcc\n",
    "\n",
    "n_mels = 26\n",
    "feature_option = \"mfcc\"\n",
    "dev_files = list(dev_df.filename)\n",
    "dev_labels = list(dev_df.scene_label)\n",
    "dev_features = []\n",
    "for filename in dev_files:\n",
    "    wav_file_path = datapath+filename\n",
    "    mfcc_feature = extract_mfcc(wav_file_path, n_mels=n_mels, option=feature_option)\n",
    "    dev_features.append(mfcc_feature.reshape(1,-1))             # [1, frames*n_features] (flatten)\n",
    "dev_features = np.concatenate(dev_features, axis=0)\n",
    "print(f\"dev feature size: {dev_features.shape}\")"
   ]
  },
  {
   "cell_type": "code",
   "execution_count": 3,
   "metadata": {},
   "outputs": [
    {
     "name": "stdout",
     "output_type": "stream",
     "text": [
      "0 128\n",
      "output size: torch.Size([128, 10])\n",
      "128 256\n",
      "output size: torch.Size([128, 10])\n",
      "256 379\n",
      "output size: torch.Size([123, 10])\n"
     ]
    }
   ],
   "source": [
    "unique_labels = ['airport', 'bus', 'metro', 'metro_station',\n",
    "                'park', 'public_square', 'shopping_mall',\n",
    "                'street_pedestrian', 'street_traffic', 'tram']\n",
    "\n",
    "device = torch.device(\"cuda:0\" if torch.cuda.is_available() else \"cpu\")\n",
    "model = DNN1(dev_features.shape[1], len(unique_labels)).to(device)\n",
    "model.eval()\n",
    "\n",
    "batch_size = 128\n",
    "start_pos, end_pos = 0, 0\n",
    "while end_pos < len(dev_features):\n",
    "    end_pos = end_pos+batch_size if (end_pos+batch_size)<len(dev_features) else len(dev_features)\n",
    "    input = torch.Tensor(dev_features[start_pos:end_pos]).to(device)\n",
    "    print(start_pos, end_pos)\n",
    "    output = model(input)\n",
    "    start_pos = end_pos\n",
    "    print(f\"output size: {output.shape}\")"
   ]
  },
  {
   "cell_type": "code",
   "execution_count": 4,
   "metadata": {},
   "outputs": [
    {
     "data": {
      "text/plain": [
       "tensor([[-0.1643,  0.3229, -0.0079, -0.1673, -0.0643, -0.1362,  0.0104, -0.0590,\n",
       "         -0.0394,  0.2377],\n",
       "        [-0.0589,  0.1437, -0.0288, -0.1114, -0.0114, -0.0361, -0.0391, -0.0539,\n",
       "         -0.0017,  0.1393],\n",
       "        [-0.0793,  0.1457, -0.0448, -0.1063,  0.0037, -0.0875, -0.0102, -0.0737,\n",
       "         -0.0023,  0.1311]], device='cuda:0', grad_fn=<SliceBackward>)"
      ]
     },
     "execution_count": 4,
     "metadata": {},
     "output_type": "execute_result"
    }
   ],
   "source": [
    "output[:3]"
   ]
  }
 ],
 "metadata": {
  "kernelspec": {
   "display_name": "phla",
   "language": "python",
   "name": "python3"
  },
  "language_info": {
   "codemirror_mode": {
    "name": "ipython",
    "version": 3
   },
   "file_extension": ".py",
   "mimetype": "text/x-python",
   "name": "python",
   "nbconvert_exporter": "python",
   "pygments_lexer": "ipython3",
   "version": "3.8.13"
  },
  "orig_nbformat": 4,
  "vscode": {
   "interpreter": {
    "hash": "b0469df6e709a2df7221cf6a41b4e84b201802bdff0592e7cbfef445384a2896"
   }
  }
 },
 "nbformat": 4,
 "nbformat_minor": 2
}
