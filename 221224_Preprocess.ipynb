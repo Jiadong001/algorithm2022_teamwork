{
 "cells": [
  {
   "cell_type": "code",
   "execution_count": 1,
   "metadata": {},
   "outputs": [],
   "source": [
    "import pandas as pd\n",
    "datapath = \"audioset/\"\n",
    "train_df = pd.read_csv(datapath+\"train.csv\", sep=\"\\t\")\n",
    "dev_df = pd.read_csv(datapath+\"dev.csv\", sep=\"\\t\")\n",
    "eval_df = pd.read_csv(datapath+\"eval.csv\", sep=\"\\t\")"
   ]
  },
  {
   "cell_type": "code",
   "execution_count": 25,
   "metadata": {},
   "outputs": [
    {
     "data": {
      "text/html": [
       "<div>\n",
       "<style scoped>\n",
       "    .dataframe tbody tr th:only-of-type {\n",
       "        vertical-align: middle;\n",
       "    }\n",
       "\n",
       "    .dataframe tbody tr th {\n",
       "        vertical-align: top;\n",
       "    }\n",
       "\n",
       "    .dataframe thead th {\n",
       "        text-align: right;\n",
       "    }\n",
       "</style>\n",
       "<table border=\"1\" class=\"dataframe\">\n",
       "  <thead>\n",
       "    <tr style=\"text-align: right;\">\n",
       "      <th></th>\n",
       "      <th>filename</th>\n",
       "      <th>scene_label</th>\n",
       "    </tr>\n",
       "  </thead>\n",
       "  <tbody>\n",
       "    <tr>\n",
       "      <th>0</th>\n",
       "      <td>dev/airport-lisbon-1000-41312-a.wav</td>\n",
       "      <td>airport</td>\n",
       "    </tr>\n",
       "    <tr>\n",
       "      <th>1</th>\n",
       "      <td>dev/airport-lisbon-1000-41323-a.wav</td>\n",
       "      <td>airport</td>\n",
       "    </tr>\n",
       "    <tr>\n",
       "      <th>2</th>\n",
       "      <td>dev/airport-lisbon-1122-41394-a.wav</td>\n",
       "      <td>airport</td>\n",
       "    </tr>\n",
       "    <tr>\n",
       "      <th>3</th>\n",
       "      <td>dev/airport-lisbon-1114-41409-a.wav</td>\n",
       "      <td>airport</td>\n",
       "    </tr>\n",
       "    <tr>\n",
       "      <th>4</th>\n",
       "      <td>dev/airport-prague-1069-40978-a.wav</td>\n",
       "      <td>airport</td>\n",
       "    </tr>\n",
       "  </tbody>\n",
       "</table>\n",
       "</div>"
      ],
      "text/plain": [
       "                              filename scene_label\n",
       "0  dev/airport-lisbon-1000-41312-a.wav     airport\n",
       "1  dev/airport-lisbon-1000-41323-a.wav     airport\n",
       "2  dev/airport-lisbon-1122-41394-a.wav     airport\n",
       "3  dev/airport-lisbon-1114-41409-a.wav     airport\n",
       "4  dev/airport-prague-1069-40978-a.wav     airport"
      ]
     },
     "execution_count": 25,
     "metadata": {},
     "output_type": "execute_result"
    }
   ],
   "source": [
    "dev_df.head()"
   ]
  },
  {
   "cell_type": "code",
   "execution_count": 2,
   "metadata": {},
   "outputs": [],
   "source": [
    "file_list = list(dev_df.filename)\n",
    "label_list = list(dev_df.scene_label)"
   ]
  },
  {
   "cell_type": "code",
   "execution_count": 3,
   "metadata": {},
   "outputs": [],
   "source": [
    "from Extract_feature import extract_mfcc\n",
    "feature_list = []\n",
    "for filename in file_list:\n",
    "    wav_file_path = datapath+filename\n",
    "    mfcc_feature = extract_mfcc(wav_file_path, option=\"fbanks\")\n",
    "    feature_list.append(mfcc_feature)           # dev: 17s"
   ]
  },
  {
   "cell_type": "code",
   "execution_count": 4,
   "metadata": {},
   "outputs": [
    {
     "data": {
      "text/plain": [
       "(499, 26)"
      ]
     },
     "execution_count": 4,
     "metadata": {},
     "output_type": "execute_result"
    }
   ],
   "source": [
    "feature_list[1].shape"
   ]
  },
  {
   "cell_type": "code",
   "execution_count": 9,
   "metadata": {},
   "outputs": [],
   "source": [
    "wav0_feature = feature_list[1]"
   ]
  },
  {
   "cell_type": "code",
   "execution_count": 11,
   "metadata": {},
   "outputs": [
    {
     "data": {
      "text/plain": [
       "array([[ 0.48511033,  0.39850428,  0.6371938 , ..., -0.75727791,\n",
       "        -0.93305286, -1.08134898],\n",
       "       [ 0.37283944,  0.30500768,  0.40041704, ..., -0.76556033,\n",
       "        -0.8548776 , -0.96588157],\n",
       "       [ 0.32927345,  0.26694104,  0.28341197, ..., -0.7846863 ,\n",
       "        -0.93070274, -1.00495668],\n",
       "       ...,\n",
       "       [ 0.15812107,  0.20399878,  0.26828782, ..., -0.82023812,\n",
       "        -1.02665997, -1.09487666],\n",
       "       [ 0.30973284,  0.18837069,  0.03434392, ..., -0.6862292 ,\n",
       "        -0.91447668, -1.05280664],\n",
       "       [ 0.37761239,  0.44850579,  0.17752808, ..., -0.6754242 ,\n",
       "        -0.86746738, -0.93432526]])"
      ]
     },
     "execution_count": 11,
     "metadata": {},
     "output_type": "execute_result"
    }
   ],
   "source": [
    "wav0_feature"
   ]
  },
  {
   "cell_type": "code",
   "execution_count": 15,
   "metadata": {},
   "outputs": [
    {
     "data": {
      "text/plain": [
       "array([ 0.48511033,  0.39850428,  0.6371938 ,  0.42808497,  0.26575998,\n",
       "        0.19421591,  0.13600567,  0.11473331,  0.08688659,  0.09836886,\n",
       "       -0.03113776,  0.04360556,  0.1933422 ,  0.0148299 , -0.28232775,\n",
       "       -0.36112402, -0.51184785, -0.62078813, -0.91989912, -0.70234364,\n",
       "       -0.54192293, -0.5485156 , -0.65183053, -0.75727791, -0.93305286,\n",
       "       -1.08134898,  0.37283944,  0.30500768,  0.40041704,  0.23974215])"
      ]
     },
     "execution_count": 15,
     "metadata": {},
     "output_type": "execute_result"
    }
   ],
   "source": [
    "wav0_feature.flatten()[0:30]"
   ]
  },
  {
   "cell_type": "code",
   "execution_count": 18,
   "metadata": {},
   "outputs": [
    {
     "data": {
      "text/plain": [
       "array([[ 0.48511033,  0.39850428,  0.6371938 ,  0.42808497,  0.26575998,\n",
       "         0.19421591,  0.13600567,  0.11473331,  0.08688659,  0.09836886,\n",
       "        -0.03113776,  0.04360556,  0.1933422 ,  0.0148299 , -0.28232775,\n",
       "        -0.36112402, -0.51184785, -0.62078813, -0.91989912, -0.70234364,\n",
       "        -0.54192293, -0.5485156 , -0.65183053, -0.75727791, -0.93305286,\n",
       "        -1.08134898,  0.37283944,  0.30500768,  0.40041704,  0.23974215]])"
      ]
     },
     "execution_count": 18,
     "metadata": {},
     "output_type": "execute_result"
    }
   ],
   "source": [
    "wav0_feature = wav0_feature.reshape(1,-1)\n",
    "wav0_feature[:,:30]"
   ]
  },
  {
   "cell_type": "code",
   "execution_count": 19,
   "metadata": {},
   "outputs": [
    {
     "data": {
      "text/plain": [
       "{'airport',\n",
       " 'bus',\n",
       " 'metro',\n",
       " 'metro_station',\n",
       " 'park',\n",
       " 'public_square',\n",
       " 'shopping_mall',\n",
       " 'street_pedestrian',\n",
       " 'street_traffic',\n",
       " 'tram'}"
      ]
     },
     "execution_count": 19,
     "metadata": {},
     "output_type": "execute_result"
    }
   ],
   "source": [
    "set(label_list)"
   ]
  },
  {
   "cell_type": "code",
   "execution_count": 28,
   "metadata": {},
   "outputs": [
    {
     "data": {
      "text/plain": [
       "296"
      ]
     },
     "execution_count": 28,
     "metadata": {},
     "output_type": "execute_result"
    }
   ],
   "source": [
    "target_df = train_df[train_df.scene_label=='metro']\n",
    "len(target_df)"
   ]
  },
  {
   "cell_type": "code",
   "execution_count": 29,
   "metadata": {},
   "outputs": [
    {
     "data": {
      "text/html": [
       "<div>\n",
       "<style scoped>\n",
       "    .dataframe tbody tr th:only-of-type {\n",
       "        vertical-align: middle;\n",
       "    }\n",
       "\n",
       "    .dataframe tbody tr th {\n",
       "        vertical-align: top;\n",
       "    }\n",
       "\n",
       "    .dataframe thead th {\n",
       "        text-align: right;\n",
       "    }\n",
       "</style>\n",
       "<table border=\"1\" class=\"dataframe\">\n",
       "  <thead>\n",
       "    <tr style=\"text-align: right;\">\n",
       "      <th></th>\n",
       "      <th>filename</th>\n",
       "      <th>scene_label</th>\n",
       "    </tr>\n",
       "  </thead>\n",
       "  <tbody>\n",
       "    <tr>\n",
       "      <th>599</th>\n",
       "      <td>train/metro-prague-1016-40020-a.wav</td>\n",
       "      <td>metro</td>\n",
       "    </tr>\n",
       "    <tr>\n",
       "      <th>600</th>\n",
       "      <td>train/metro-prague-1022-40026-a.wav</td>\n",
       "      <td>metro</td>\n",
       "    </tr>\n",
       "    <tr>\n",
       "      <th>601</th>\n",
       "      <td>train/metro-prague-1026-40030-a.wav</td>\n",
       "      <td>metro</td>\n",
       "    </tr>\n",
       "    <tr>\n",
       "      <th>602</th>\n",
       "      <td>train/metro-prague-1054-40076-a.wav</td>\n",
       "      <td>metro</td>\n",
       "    </tr>\n",
       "    <tr>\n",
       "      <th>603</th>\n",
       "      <td>train/metro-prague-1026-40088-a.wav</td>\n",
       "      <td>metro</td>\n",
       "    </tr>\n",
       "    <tr>\n",
       "      <th>...</th>\n",
       "      <td>...</td>\n",
       "      <td>...</td>\n",
       "    </tr>\n",
       "    <tr>\n",
       "      <th>890</th>\n",
       "      <td>train/metro-milan-1142-41083-a.wav</td>\n",
       "      <td>metro</td>\n",
       "    </tr>\n",
       "    <tr>\n",
       "      <th>891</th>\n",
       "      <td>train/metro-milan-1142-41093-a.wav</td>\n",
       "      <td>metro</td>\n",
       "    </tr>\n",
       "    <tr>\n",
       "      <th>892</th>\n",
       "      <td>train/metro-milan-1025-41132-a.wav</td>\n",
       "      <td>metro</td>\n",
       "    </tr>\n",
       "    <tr>\n",
       "      <th>893</th>\n",
       "      <td>train/metro-milan-1025-41135-a.wav</td>\n",
       "      <td>metro</td>\n",
       "    </tr>\n",
       "    <tr>\n",
       "      <th>894</th>\n",
       "      <td>train/metro-milan-1062-41144-a.wav</td>\n",
       "      <td>metro</td>\n",
       "    </tr>\n",
       "  </tbody>\n",
       "</table>\n",
       "<p>296 rows × 2 columns</p>\n",
       "</div>"
      ],
      "text/plain": [
       "                                filename scene_label\n",
       "599  train/metro-prague-1016-40020-a.wav       metro\n",
       "600  train/metro-prague-1022-40026-a.wav       metro\n",
       "601  train/metro-prague-1026-40030-a.wav       metro\n",
       "602  train/metro-prague-1054-40076-a.wav       metro\n",
       "603  train/metro-prague-1026-40088-a.wav       metro\n",
       "..                                   ...         ...\n",
       "890   train/metro-milan-1142-41083-a.wav       metro\n",
       "891   train/metro-milan-1142-41093-a.wav       metro\n",
       "892   train/metro-milan-1025-41132-a.wav       metro\n",
       "893   train/metro-milan-1025-41135-a.wav       metro\n",
       "894   train/metro-milan-1062-41144-a.wav       metro\n",
       "\n",
       "[296 rows x 2 columns]"
      ]
     },
     "execution_count": 29,
     "metadata": {},
     "output_type": "execute_result"
    }
   ],
   "source": [
    "target_df"
   ]
  },
  {
   "cell_type": "code",
   "execution_count": 26,
   "metadata": {},
   "outputs": [
    {
     "name": "stdout",
     "output_type": "stream",
     "text": [
      "3008\n"
     ]
    }
   ],
   "source": [
    "from Extract_feature import extract_mfcc\n",
    "\n",
    "labels = ['airport', 'bus', 'metro', 'metro_station',\n",
    "          'park', 'public_square', 'shopping_mall',\n",
    "          'street_pedestrian', 'street_traffic', 'tram']\n",
    "sum_num=0\n",
    "for c in labels:\n",
    "    target_df = train_df[train_df.scene_label==c]\n",
    "    sum_num+=len(target_df)\n",
    "print(sum_num)"
   ]
  },
  {
   "cell_type": "code",
   "execution_count": 30,
   "metadata": {},
   "outputs": [
    {
     "name": "stdout",
     "output_type": "stream",
     "text": [
      "(300, 6487)\n",
      "(299, 6487)\n",
      "(296, 6487)\n",
      "(296, 6487)\n",
      "(312, 6487)\n",
      "(312, 6487)\n",
      "(296, 6487)\n",
      "(296, 6487)\n",
      "(307, 6487)\n",
      "(294, 6487)\n"
     ]
    }
   ],
   "source": [
    "import numpy as np\n",
    "# prepare data for each class, corresponding to GMM\n",
    "for c in labels:\n",
    "    target_df = train_df[train_df.scene_label==c]\n",
    "    file_list = list(target_df.filename)\n",
    "    feature_list = []\n",
    "    for filename in file_list:\n",
    "        wav_file_path = datapath+filename\n",
    "        mfcc_feature = extract_mfcc(wav_file_path, option=\"mfcc\")\n",
    "        feature_list.append(mfcc_feature.reshape(1,-1))         # [1, frames*n_features]\n",
    "    feature_list = np.concatenate(feature_list, axis=0)\n",
    "    print(feature_list.shape)\n",
    "# 80s"
   ]
  },
  {
   "cell_type": "code",
   "execution_count": 116,
   "metadata": {},
   "outputs": [
    {
     "name": "stdout",
     "output_type": "stream",
     "text": [
      "(40, 6487)\n"
     ]
    }
   ],
   "source": [
    "import numpy as np\n",
    "# prepare data for each class, corresponding to GMM\n",
    "labels = ['airport', 'bus', 'metro', 'metro_station',\n",
    "          'park', 'public_square', 'shopping_mall',\n",
    "          'street_pedestrian', 'street_traffic', 'tram']\n",
    "target_df = dev_df[dev_df.scene_label==labels[1]]\n",
    "file_list = list(target_df.filename)\n",
    "feature_list = []\n",
    "for filename in file_list:\n",
    "    wav_file_path = datapath+filename\n",
    "    mfcc_feature = extract_mfcc(wav_file_path, option=\"mfcc\")\n",
    "    feature_list.append(mfcc_feature.reshape(1,-1))         # [1, frames*n_features]\n",
    "feature_list = np.concatenate(feature_list, axis=0)\n",
    "print(feature_list.shape)\n",
    "# 10s"
   ]
  },
  {
   "attachments": {},
   "cell_type": "markdown",
   "metadata": {},
   "source": [
    "Kmeans"
   ]
  },
  {
   "cell_type": "code",
   "execution_count": 34,
   "metadata": {},
   "outputs": [
    {
     "name": "stdout",
     "output_type": "stream",
     "text": [
      "(379, 6487)\n"
     ]
    }
   ],
   "source": [
    "from sklearn.cluster import KMeans\n",
    "\n",
    "file_list2 = list(dev_df.filename)\n",
    "label_list2 = list(dev_df.scene_label)\n",
    "\n",
    "feature_list2 = []\n",
    "for filename in file_list2:\n",
    "    wav_file_path = datapath+filename\n",
    "    mfcc_feature = extract_mfcc(wav_file_path, option=\"mfcc\")\n",
    "    feature_list2.append(mfcc_feature.reshape(1,-1))         # [1, frames*n_features]\n",
    "feature_list2 = np.concatenate(feature_list2, axis=0)\n",
    "print(feature_list2.shape)"
   ]
  },
  {
   "cell_type": "code",
   "execution_count": 72,
   "metadata": {},
   "outputs": [
    {
     "name": "stderr",
     "output_type": "stream",
     "text": [
      "e:\\Programming_Language\\Python\\anaconda\\ANACONDA3_2021_11\\envs\\pytorch_170\\lib\\site-packages\\sklearn\\cluster\\_kmeans.py:1332: UserWarning: KMeans is known to have a memory leak on Windows with MKL, when there are less chunks than available threads. You can avoid it by setting the environment variable OMP_NUM_THREADS=2.\n",
      "  warnings.warn(\n"
     ]
    },
    {
     "data": {
      "text/html": [
       "<style>#sk-container-id-15 {color: black;background-color: white;}#sk-container-id-15 pre{padding: 0;}#sk-container-id-15 div.sk-toggleable {background-color: white;}#sk-container-id-15 label.sk-toggleable__label {cursor: pointer;display: block;width: 100%;margin-bottom: 0;padding: 0.3em;box-sizing: border-box;text-align: center;}#sk-container-id-15 label.sk-toggleable__label-arrow:before {content: \"▸\";float: left;margin-right: 0.25em;color: #696969;}#sk-container-id-15 label.sk-toggleable__label-arrow:hover:before {color: black;}#sk-container-id-15 div.sk-estimator:hover label.sk-toggleable__label-arrow:before {color: black;}#sk-container-id-15 div.sk-toggleable__content {max-height: 0;max-width: 0;overflow: hidden;text-align: left;background-color: #f0f8ff;}#sk-container-id-15 div.sk-toggleable__content pre {margin: 0.2em;color: black;border-radius: 0.25em;background-color: #f0f8ff;}#sk-container-id-15 input.sk-toggleable__control:checked~div.sk-toggleable__content {max-height: 200px;max-width: 100%;overflow: auto;}#sk-container-id-15 input.sk-toggleable__control:checked~label.sk-toggleable__label-arrow:before {content: \"▾\";}#sk-container-id-15 div.sk-estimator input.sk-toggleable__control:checked~label.sk-toggleable__label {background-color: #d4ebff;}#sk-container-id-15 div.sk-label input.sk-toggleable__control:checked~label.sk-toggleable__label {background-color: #d4ebff;}#sk-container-id-15 input.sk-hidden--visually {border: 0;clip: rect(1px 1px 1px 1px);clip: rect(1px, 1px, 1px, 1px);height: 1px;margin: -1px;overflow: hidden;padding: 0;position: absolute;width: 1px;}#sk-container-id-15 div.sk-estimator {font-family: monospace;background-color: #f0f8ff;border: 1px dotted black;border-radius: 0.25em;box-sizing: border-box;margin-bottom: 0.5em;}#sk-container-id-15 div.sk-estimator:hover {background-color: #d4ebff;}#sk-container-id-15 div.sk-parallel-item::after {content: \"\";width: 100%;border-bottom: 1px solid gray;flex-grow: 1;}#sk-container-id-15 div.sk-label:hover label.sk-toggleable__label {background-color: #d4ebff;}#sk-container-id-15 div.sk-serial::before {content: \"\";position: absolute;border-left: 1px solid gray;box-sizing: border-box;top: 0;bottom: 0;left: 50%;z-index: 0;}#sk-container-id-15 div.sk-serial {display: flex;flex-direction: column;align-items: center;background-color: white;padding-right: 0.2em;padding-left: 0.2em;position: relative;}#sk-container-id-15 div.sk-item {position: relative;z-index: 1;}#sk-container-id-15 div.sk-parallel {display: flex;align-items: stretch;justify-content: center;background-color: white;position: relative;}#sk-container-id-15 div.sk-item::before, #sk-container-id-15 div.sk-parallel-item::before {content: \"\";position: absolute;border-left: 1px solid gray;box-sizing: border-box;top: 0;bottom: 0;left: 50%;z-index: -1;}#sk-container-id-15 div.sk-parallel-item {display: flex;flex-direction: column;z-index: 1;position: relative;background-color: white;}#sk-container-id-15 div.sk-parallel-item:first-child::after {align-self: flex-end;width: 50%;}#sk-container-id-15 div.sk-parallel-item:last-child::after {align-self: flex-start;width: 50%;}#sk-container-id-15 div.sk-parallel-item:only-child::after {width: 0;}#sk-container-id-15 div.sk-dashed-wrapped {border: 1px dashed gray;margin: 0 0.4em 0.5em 0.4em;box-sizing: border-box;padding-bottom: 0.4em;background-color: white;}#sk-container-id-15 div.sk-label label {font-family: monospace;font-weight: bold;display: inline-block;line-height: 1.2em;}#sk-container-id-15 div.sk-label-container {text-align: center;}#sk-container-id-15 div.sk-container {/* jupyter's `normalize.less` sets `[hidden] { display: none; }` but bootstrap.min.css set `[hidden] { display: none !important; }` so we also need the `!important` here to be able to override the default hidden behavior on the sphinx rendered scikit-learn.org. See: https://github.com/scikit-learn/scikit-learn/issues/21755 */display: inline-block !important;position: relative;}#sk-container-id-15 div.sk-text-repr-fallback {display: none;}</style><div id=\"sk-container-id-15\" class=\"sk-top-container\"><div class=\"sk-text-repr-fallback\"><pre>KMeans(max_iter=8, n_clusters=10, random_state=0)</pre><b>In a Jupyter environment, please rerun this cell to show the HTML representation or trust the notebook. <br />On GitHub, the HTML representation is unable to render, please try loading this page with nbviewer.org.</b></div><div class=\"sk-container\" hidden><div class=\"sk-item\"><div class=\"sk-estimator sk-toggleable\"><input class=\"sk-toggleable__control sk-hidden--visually\" id=\"sk-estimator-id-15\" type=\"checkbox\" checked><label for=\"sk-estimator-id-15\" class=\"sk-toggleable__label sk-toggleable__label-arrow\">KMeans</label><div class=\"sk-toggleable__content\"><pre>KMeans(max_iter=8, n_clusters=10, random_state=0)</pre></div></div></div></div></div>"
      ],
      "text/plain": [
       "KMeans(max_iter=8, n_clusters=10, random_state=0)"
      ]
     },
     "execution_count": 72,
     "metadata": {},
     "output_type": "execute_result"
    }
   ],
   "source": [
    "model_km = KMeans(n_clusters=10, max_iter=100, random_state=0)\n",
    "model_km.fit(feature_list2)"
   ]
  },
  {
   "cell_type": "code",
   "execution_count": 57,
   "metadata": {},
   "outputs": [
    {
     "data": {
      "text/plain": [
       "(10, 6487)"
      ]
     },
     "execution_count": 57,
     "metadata": {},
     "output_type": "execute_result"
    }
   ],
   "source": [
    "model_km.cluster_centers_.shape"
   ]
  },
  {
   "cell_type": "code",
   "execution_count": 82,
   "metadata": {},
   "outputs": [
    {
     "data": {
      "text/plain": [
       "Counter({5: 20, 3: 19, 7: 53, 9: 48, 0: 45, 4: 63, 6: 45, 1: 27, 2: 23, 8: 36})"
      ]
     },
     "execution_count": 82,
     "metadata": {},
     "output_type": "execute_result"
    }
   ],
   "source": [
    "from collections import Counter\n",
    "Counter(model_km.labels_)"
   ]
  },
  {
   "cell_type": "code",
   "execution_count": 79,
   "metadata": {},
   "outputs": [
    {
     "data": {
      "text/plain": [
       "Counter({9: 7, 1: 1, 4: 7, 7: 2, 6: 8, 0: 1, 8: 9, 2: 5})"
      ]
     },
     "execution_count": 79,
     "metadata": {},
     "output_type": "execute_result"
    }
   ],
   "source": [
    "Counter(model_km.labels_[37:37+40])"
   ]
  },
  {
   "cell_type": "code",
   "execution_count": 80,
   "metadata": {},
   "outputs": [
    {
     "name": "stdout",
     "output_type": "stream",
     "text": [
      "Counter({9: 11, 6: 9, 0: 4, 7: 3, 4: 3, 2: 2, 8: 2, 5: 1, 3: 1, 1: 1})\n",
      "Counter({8: 9, 6: 8, 9: 7, 4: 7, 2: 5, 7: 2, 1: 1, 0: 1})\n",
      "Counter({0: 11, 5: 8, 6: 5, 4: 3, 7: 3, 9: 3, 3: 2, 2: 1, 1: 1})\n",
      "Counter({7: 8, 0: 8, 4: 5, 1: 4, 9: 4, 3: 3, 5: 2, 6: 2, 8: 1})\n",
      "Counter({8: 12, 2: 11, 4: 10, 0: 3, 1: 1, 6: 1, 9: 1})\n",
      "Counter({4: 8, 1: 8, 9: 5, 0: 3, 6: 3, 5: 3, 7: 3, 8: 3, 3: 2, 2: 1})\n",
      "Counter({7: 15, 4: 6, 6: 5, 1: 4, 5: 3, 0: 2, 9: 1})\n",
      "Counter({4: 11, 7: 8, 9: 8, 6: 7, 8: 2, 0: 1, 1: 1})\n",
      "Counter({3: 11, 7: 9, 0: 7, 5: 3, 6: 3, 1: 3, 4: 2, 8: 1})\n",
      "Counter({9: 8, 4: 8, 8: 6, 0: 5, 1: 3, 2: 3, 7: 2, 6: 2})\n"
     ]
    }
   ],
   "source": [
    "start, end = 0, 0\n",
    "for c in labels:\n",
    "    target_df = dev_df[dev_df.scene_label==c]\n",
    "    end += len(target_df)\n",
    "    print(Counter(model_km.labels_[start:end]))\n",
    "    start = end"
   ]
  },
  {
   "cell_type": "code",
   "execution_count": 55,
   "metadata": {},
   "outputs": [
    {
     "data": {
      "text/plain": [
       "array([5, 3, 7, 7, 9, 9, 0, 4, 6, 6, 9, 9, 1, 2, 0, 9, 6, 9, 4, 6, 6, 9,\n",
       "       6, 9, 6, 9, 6, 2, 8, 8])"
      ]
     },
     "execution_count": 55,
     "metadata": {},
     "output_type": "execute_result"
    }
   ],
   "source": [
    "model_km.labels_[:30]"
   ]
  },
  {
   "cell_type": "code",
   "execution_count": null,
   "metadata": {},
   "outputs": [],
   "source": [
    "model_km = KMeans(n_clusters=10, max_iter=100, random_state=0)\n",
    "model_km.fit(feature_list2)"
   ]
  },
  {
   "cell_type": "code",
   "execution_count": 114,
   "metadata": {},
   "outputs": [
    {
     "name": "stderr",
     "output_type": "stream",
     "text": [
      "e:\\Programming_Language\\Python\\anaconda\\ANACONDA3_2021_11\\envs\\pytorch_170\\lib\\site-packages\\sklearn\\cluster\\_kmeans.py:1332: UserWarning: KMeans is known to have a memory leak on Windows with MKL, when there are less chunks than available threads. You can avoid it by setting the environment variable OMP_NUM_THREADS=1.\n",
      "  warnings.warn(\n",
      "e:\\Programming_Language\\Python\\anaconda\\ANACONDA3_2021_11\\envs\\pytorch_170\\lib\\site-packages\\sklearn\\cluster\\_kmeans.py:1332: UserWarning: KMeans is known to have a memory leak on Windows with MKL, when there are less chunks than available threads. You can avoid it by setting the environment variable OMP_NUM_THREADS=1.\n",
      "  warnings.warn(\n",
      "e:\\Programming_Language\\Python\\anaconda\\ANACONDA3_2021_11\\envs\\pytorch_170\\lib\\site-packages\\sklearn\\cluster\\_kmeans.py:1332: UserWarning: KMeans is known to have a memory leak on Windows with MKL, when there are less chunks than available threads. You can avoid it by setting the environment variable OMP_NUM_THREADS=1.\n",
      "  warnings.warn(\n"
     ]
    },
    {
     "data": {
      "text/html": [
       "<style>#sk-container-id-24 {color: black;background-color: white;}#sk-container-id-24 pre{padding: 0;}#sk-container-id-24 div.sk-toggleable {background-color: white;}#sk-container-id-24 label.sk-toggleable__label {cursor: pointer;display: block;width: 100%;margin-bottom: 0;padding: 0.3em;box-sizing: border-box;text-align: center;}#sk-container-id-24 label.sk-toggleable__label-arrow:before {content: \"▸\";float: left;margin-right: 0.25em;color: #696969;}#sk-container-id-24 label.sk-toggleable__label-arrow:hover:before {color: black;}#sk-container-id-24 div.sk-estimator:hover label.sk-toggleable__label-arrow:before {color: black;}#sk-container-id-24 div.sk-toggleable__content {max-height: 0;max-width: 0;overflow: hidden;text-align: left;background-color: #f0f8ff;}#sk-container-id-24 div.sk-toggleable__content pre {margin: 0.2em;color: black;border-radius: 0.25em;background-color: #f0f8ff;}#sk-container-id-24 input.sk-toggleable__control:checked~div.sk-toggleable__content {max-height: 200px;max-width: 100%;overflow: auto;}#sk-container-id-24 input.sk-toggleable__control:checked~label.sk-toggleable__label-arrow:before {content: \"▾\";}#sk-container-id-24 div.sk-estimator input.sk-toggleable__control:checked~label.sk-toggleable__label {background-color: #d4ebff;}#sk-container-id-24 div.sk-label input.sk-toggleable__control:checked~label.sk-toggleable__label {background-color: #d4ebff;}#sk-container-id-24 input.sk-hidden--visually {border: 0;clip: rect(1px 1px 1px 1px);clip: rect(1px, 1px, 1px, 1px);height: 1px;margin: -1px;overflow: hidden;padding: 0;position: absolute;width: 1px;}#sk-container-id-24 div.sk-estimator {font-family: monospace;background-color: #f0f8ff;border: 1px dotted black;border-radius: 0.25em;box-sizing: border-box;margin-bottom: 0.5em;}#sk-container-id-24 div.sk-estimator:hover {background-color: #d4ebff;}#sk-container-id-24 div.sk-parallel-item::after {content: \"\";width: 100%;border-bottom: 1px solid gray;flex-grow: 1;}#sk-container-id-24 div.sk-label:hover label.sk-toggleable__label {background-color: #d4ebff;}#sk-container-id-24 div.sk-serial::before {content: \"\";position: absolute;border-left: 1px solid gray;box-sizing: border-box;top: 0;bottom: 0;left: 50%;z-index: 0;}#sk-container-id-24 div.sk-serial {display: flex;flex-direction: column;align-items: center;background-color: white;padding-right: 0.2em;padding-left: 0.2em;position: relative;}#sk-container-id-24 div.sk-item {position: relative;z-index: 1;}#sk-container-id-24 div.sk-parallel {display: flex;align-items: stretch;justify-content: center;background-color: white;position: relative;}#sk-container-id-24 div.sk-item::before, #sk-container-id-24 div.sk-parallel-item::before {content: \"\";position: absolute;border-left: 1px solid gray;box-sizing: border-box;top: 0;bottom: 0;left: 50%;z-index: -1;}#sk-container-id-24 div.sk-parallel-item {display: flex;flex-direction: column;z-index: 1;position: relative;background-color: white;}#sk-container-id-24 div.sk-parallel-item:first-child::after {align-self: flex-end;width: 50%;}#sk-container-id-24 div.sk-parallel-item:last-child::after {align-self: flex-start;width: 50%;}#sk-container-id-24 div.sk-parallel-item:only-child::after {width: 0;}#sk-container-id-24 div.sk-dashed-wrapped {border: 1px dashed gray;margin: 0 0.4em 0.5em 0.4em;box-sizing: border-box;padding-bottom: 0.4em;background-color: white;}#sk-container-id-24 div.sk-label label {font-family: monospace;font-weight: bold;display: inline-block;line-height: 1.2em;}#sk-container-id-24 div.sk-label-container {text-align: center;}#sk-container-id-24 div.sk-container {/* jupyter's `normalize.less` sets `[hidden] { display: none; }` but bootstrap.min.css set `[hidden] { display: none !important; }` so we also need the `!important` here to be able to override the default hidden behavior on the sphinx rendered scikit-learn.org. See: https://github.com/scikit-learn/scikit-learn/issues/21755 */display: inline-block !important;position: relative;}#sk-container-id-24 div.sk-text-repr-fallback {display: none;}</style><div id=\"sk-container-id-24\" class=\"sk-top-container\"><div class=\"sk-text-repr-fallback\"><pre>GaussianMixture(covariance_type=&#x27;diag&#x27;, n_components=4, n_init=3,\n",
       "                random_state=0)</pre><b>In a Jupyter environment, please rerun this cell to show the HTML representation or trust the notebook. <br />On GitHub, the HTML representation is unable to render, please try loading this page with nbviewer.org.</b></div><div class=\"sk-container\" hidden><div class=\"sk-item\"><div class=\"sk-estimator sk-toggleable\"><input class=\"sk-toggleable__control sk-hidden--visually\" id=\"sk-estimator-id-24\" type=\"checkbox\" checked><label for=\"sk-estimator-id-24\" class=\"sk-toggleable__label sk-toggleable__label-arrow\">GaussianMixture</label><div class=\"sk-toggleable__content\"><pre>GaussianMixture(covariance_type=&#x27;diag&#x27;, n_components=4, n_init=3,\n",
       "                random_state=0)</pre></div></div></div></div></div>"
      ],
      "text/plain": [
       "GaussianMixture(covariance_type='diag', n_components=4, n_init=3,\n",
       "                random_state=0)"
      ]
     },
     "execution_count": 114,
     "metadata": {},
     "output_type": "execute_result"
    }
   ],
   "source": [
    "import numpy as np\n",
    "from sklearn.mixture import GaussianMixture\n",
    "gmm = GaussianMixture(n_components=4, max_iter=100, n_init=3, tol=1e-3,\n",
    "                        covariance_type='diag', init_params=\"kmeans\", random_state=0)\n",
    "gmm.fit(feature_list)"
   ]
  },
  {
   "cell_type": "code",
   "execution_count": 93,
   "metadata": {},
   "outputs": [
    {
     "data": {
      "text/plain": [
       "array([ 5.32794999e+02,  1.62780513e+03,  3.15230981e+02,  1.25591652e+01,\n",
       "        3.19337590e+03,  2.65292686e+03,  9.88253447e+02,  3.17798726e+03,\n",
       "        1.38447167e+03,  1.92427704e+03,  8.61382467e+02, -3.74409423e+02,\n",
       "        1.64103780e+02,  1.26220855e+03,  3.88458433e+04,  1.71267677e+01,\n",
       "        3.49877776e+03,  1.84201064e+03,  1.88959868e+03,  2.96626776e+03,\n",
       "       -1.04237378e+02, -3.11394915e+03,  9.34829890e+01,  1.26732850e+03,\n",
       "       -3.27186523e+02,  2.00209263e+03,  3.55090068e+03,  3.00873864e+02,\n",
       "        2.78900548e+02,  3.29500827e+03,  1.39145694e+03,  2.27078002e+03,\n",
       "        6.27621488e+02,  1.99198121e+02,  2.02189797e+03,  1.06286573e+03,\n",
       "        1.23409626e+03])"
      ]
     },
     "execution_count": 93,
     "metadata": {},
     "output_type": "execute_result"
    }
   ],
   "source": [
    "gmm.score_samples(feature_list)     # diag"
   ]
  },
  {
   "cell_type": "code",
   "execution_count": 117,
   "metadata": {},
   "outputs": [
    {
     "data": {
      "text/plain": [
       "array([  -260.64910166,  -2416.64705399,  -3618.62331995,  -5452.99321695,\n",
       "        -2531.92593425,  -2472.78313564,  -2456.10495518,  -1414.05722195,\n",
       "         -222.61008912,  -1128.69884498,   -698.15872574,   1052.41195214,\n",
       "        -4011.95618982,  -2210.35396385,  -3615.91767248,  -6000.8715427 ,\n",
       "        -8820.72420835, -11007.47882881, -14194.02299791, -13048.20043298,\n",
       "        -5090.3120214 ,  -4598.44024807,  -3370.20222072,  -4934.30863766,\n",
       "        -3822.17143657,  -3371.04056275,  -2085.31879945,  -3998.58694596,\n",
       "        -8656.64656366,  -7051.99101229,  -7162.31110995,  -8839.68265636,\n",
       "        -3938.63302175,  -2085.13337172,  -2583.61083444,  -3750.34290608,\n",
       "        -3913.70594591,  -3301.63850557,  -2889.42102516,  -2897.27804954])"
      ]
     },
     "execution_count": 117,
     "metadata": {},
     "output_type": "execute_result"
    }
   ],
   "source": [
    "gmm.score_samples(feature_list)     # diag"
   ]
  },
  {
   "cell_type": "code",
   "execution_count": 113,
   "metadata": {},
   "outputs": [
    {
     "data": {
      "text/plain": [
       "array([-3.70668936e+08, -5.05518193e+08, -2.22132518e+08, -1.83398790e+08,\n",
       "       -2.32698660e+08, -2.12200226e+08, -2.69168171e+08, -2.48161124e+08,\n",
       "       -5.73360852e+08, -2.07134394e+08, -5.05350309e+08, -2.37989197e+08,\n",
       "       -4.20301152e+08, -2.73833877e+08, -2.26384377e+08, -2.62606722e+08,\n",
       "       -4.97260918e+08, -3.43513719e+08, -2.60299297e+08, -2.76206377e+08,\n",
       "       -2.97192167e+08, -2.76350811e+08, -2.28203676e+08, -2.13915802e+08,\n",
       "       -2.93681582e+08, -1.98260077e+08, -2.80487282e+08, -4.98356430e+08,\n",
       "       -4.59960572e+08, -3.47080106e+08, -2.38439313e+08, -2.87311377e+08,\n",
       "       -5.90868227e+08, -2.55206735e+08, -4.55887645e+08, -4.96737087e+08,\n",
       "       -2.27070653e+08])"
      ]
     },
     "execution_count": 113,
     "metadata": {},
     "output_type": "execute_result"
    }
   ],
   "source": [
    "gmm.score_samples(feature_list)     # full"
   ]
  },
  {
   "cell_type": "code",
   "execution_count": 110,
   "metadata": {},
   "outputs": [
    {
     "data": {
      "text/plain": [
       "2"
      ]
     },
     "execution_count": 110,
     "metadata": {},
     "output_type": "execute_result"
    }
   ],
   "source": [
    "gmm.n_iter_"
   ]
  },
  {
   "cell_type": "code",
   "execution_count": 111,
   "metadata": {},
   "outputs": [
    {
     "data": {
      "text/plain": [
       "(4, 6487, 6487)"
      ]
     },
     "execution_count": 111,
     "metadata": {},
     "output_type": "execute_result"
    }
   ],
   "source": [
    "gmm.covariances_.shape      # diag"
   ]
  },
  {
   "attachments": {},
   "cell_type": "markdown",
   "metadata": {},
   "source": [
    "----"
   ]
  },
  {
   "cell_type": "code",
   "execution_count": null,
   "metadata": {},
   "outputs": [],
   "source": [
    "# train\n",
    "from sklearn.cluster import KMeans\n",
    "\n",
    "train_epochs = 1\n",
    "model_km = KMeans(n_clusters=10, max_iter=50, random_state=0)\n",
    "for _ in range(train_epochs):\n",
    "    model_km = model_km.fit(train_features)\n",
    "    print(model_km.labels_[:10])"
   ]
  }
 ],
 "metadata": {
  "kernelspec": {
   "display_name": "pytorch_170",
   "language": "python",
   "name": "python3"
  },
  "language_info": {
   "codemirror_mode": {
    "name": "ipython",
    "version": 3
   },
   "file_extension": ".py",
   "mimetype": "text/x-python",
   "name": "python",
   "nbconvert_exporter": "python",
   "pygments_lexer": "ipython3",
   "version": "3.8.13 (default, Mar 28 2022, 06:59:08) [MSC v.1916 64 bit (AMD64)]"
  },
  "orig_nbformat": 4,
  "vscode": {
   "interpreter": {
    "hash": "bf337d3a884c8d69202f4cee681b5acd02391ec4c3aff572d6b7c6d6c2584a59"
   }
  }
 },
 "nbformat": 4,
 "nbformat_minor": 2
}
