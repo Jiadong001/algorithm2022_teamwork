{
 "cells": [
  {
   "cell_type": "code",
   "execution_count": 1,
   "metadata": {},
   "outputs": [
    {
     "name": "stdout",
     "output_type": "stream",
     "text": [
      "(3008, 10, 637)\n",
      "(379, 10, 637)\n",
      "(330, 10, 637)\n",
      "train:\t3008, 12\n",
      "dev:\t379, 2\n",
      "eval:\t330, 2\n",
      "Data preparing done\n"
     ]
    }
   ],
   "source": [
    "import torch\n",
    "from train_dnn_seg import prepare_dataloader\n",
    "\n",
    "configs = {\n",
    "    \"window_duration\": 0.04,\n",
    "    \"window_shift\": 0.02,\n",
    "    \"n_frames\": 499,\n",
    "    \"n_mels\": 26,\n",
    "    \"n_feature\": 13,\n",
    "    \"feature_type\": \"mfcc\",\n",
    "    \"learing_rate\": 0.001,\n",
    "    \"batch_size\": 256,\n",
    "    \"p_dropout\": 0,\n",
    "    \"model_type\": \"dnn\"\n",
    "}\n",
    "device = torch.device(\"cuda:4\" if torch.cuda.is_available() else \"cpu\")\n",
    "\n",
    "train_loader, dev_loader, eval_loader = prepare_dataloader(configs)\n",
    "print(\"Data preparing done\")"
   ]
  },
  {
   "cell_type": "code",
   "execution_count": 2,
   "metadata": {},
   "outputs": [
    {
     "name": "stdout",
     "output_type": "stream",
     "text": [
      "torch.Size([256, 10, 637]) torch.Size([256])\n"
     ]
    }
   ],
   "source": [
    "for data, label in dev_loader:\n",
    "    print(data.shape, label.shape)\n",
    "    break"
   ]
  },
  {
   "cell_type": "code",
   "execution_count": 5,
   "metadata": {},
   "outputs": [
    {
     "data": {
      "text/plain": [
       "torch.Size([2560])"
      ]
     },
     "execution_count": 5,
     "metadata": {},
     "output_type": "execute_result"
    }
   ],
   "source": [
    "label.repeat((10,1)).permute(1,0).reshape(-1).shape"
   ]
  },
  {
   "cell_type": "code",
   "execution_count": 8,
   "metadata": {},
   "outputs": [
    {
     "data": {
      "text/plain": [
       "tensor([[-0.9505,  2.3522, -0.1384,  ...,  0.0026, -0.1589,  0.0130],\n",
       "        [-1.4084,  2.1306, -0.1412,  ...,  0.1491, -0.0123,  0.0696],\n",
       "        [-1.1721,  1.4720,  0.3123,  ...,  0.0593,  0.0577,  0.0440]],\n",
       "       dtype=torch.float64)"
      ]
     },
     "execution_count": 8,
     "metadata": {},
     "output_type": "execute_result"
    }
   ],
   "source": [
    "data[1,:3]"
   ]
  },
  {
   "cell_type": "code",
   "execution_count": 10,
   "metadata": {},
   "outputs": [
    {
     "data": {
      "text/plain": [
       "tensor([[-0.9505,  2.3522, -0.1384,  ...,  0.0026, -0.1589,  0.0130],\n",
       "        [-1.4084,  2.1306, -0.1412,  ...,  0.1491, -0.0123,  0.0696],\n",
       "        [-1.1721,  1.4720,  0.3123,  ...,  0.0593,  0.0577,  0.0440]])"
      ]
     },
     "execution_count": 10,
     "metadata": {},
     "output_type": "execute_result"
    }
   ],
   "source": [
    "data.float().reshape(-1,data.shape[-1])[10:10+3]"
   ]
  }
 ],
 "metadata": {
  "kernelspec": {
   "display_name": "phla",
   "language": "python",
   "name": "python3"
  },
  "language_info": {
   "codemirror_mode": {
    "name": "ipython",
    "version": 3
   },
   "file_extension": ".py",
   "mimetype": "text/x-python",
   "name": "python",
   "nbconvert_exporter": "python",
   "pygments_lexer": "ipython3",
   "version": "3.8.13 (default, Mar 28 2022, 11:38:47) \n[GCC 7.5.0]"
  },
  "orig_nbformat": 4,
  "vscode": {
   "interpreter": {
    "hash": "b0469df6e709a2df7221cf6a41b4e84b201802bdff0592e7cbfef445384a2896"
   }
  }
 },
 "nbformat": 4,
 "nbformat_minor": 2
}
