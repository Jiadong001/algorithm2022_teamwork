{
 "cells": [
  {
   "cell_type": "code",
   "execution_count": 1,
   "metadata": {},
   "outputs": [],
   "source": [
    "from scipy import signal\n",
    "import numpy as np\n",
    "import librosa"
   ]
  },
  {
   "attachments": {},
   "cell_type": "markdown",
   "metadata": {},
   "source": [
    "#### 1. Extract signals from files"
   ]
  },
  {
   "cell_type": "code",
   "execution_count": 8,
   "metadata": {},
   "outputs": [
    {
     "data": {
      "text/plain": [
       "(array([-0.08497941, -0.09747314, -0.09184897]), (441000,), 44100)"
      ]
     },
     "execution_count": 8,
     "metadata": {},
     "output_type": "execute_result"
    }
   ],
   "source": [
    "import soundfile as sf\n",
    "\n",
    "wav_file_path = 'audioset/train/airport-lisbon-1000-40000-a.wav' \n",
    "wav_data, wav_fs = sf.read(wav_file_path)\n",
    "wav_data[:3], wav_data.shape, wav_fs   # 10s, single channel"
   ]
  },
  {
   "cell_type": "code",
   "execution_count": 17,
   "metadata": {},
   "outputs": [
    {
     "data": {
      "text/plain": [
       "(array([-0.08497941, -0.09747314, -0.09184897]), (441000,), 44100)"
      ]
     },
     "execution_count": 17,
     "metadata": {},
     "output_type": "execute_result"
    }
   ],
   "source": [
    "import wavio\n",
    "\n",
    "wav_info = wavio.read(wav_file_path)\n",
    "wav_data2 = wav_info.data.astype(float) / np.power(2, wav_info.sampwidth*8-1)\n",
    "wav_data2 = np.asarray(wav_data2).squeeze(1)\n",
    "wav_fs2 = wav_info.rate\n",
    "wav_data2[:3], wav_data2.shape, wav_fs2"
   ]
  },
  {
   "attachments": {},
   "cell_type": "markdown",
   "metadata": {},
   "source": [
    "#### 2. Extract features from signals"
   ]
  },
  {
   "cell_type": "code",
   "execution_count": 56,
   "metadata": {},
   "outputs": [
    {
     "data": {
      "text/plain": [
       "((883,), (499,), (883, 499))"
      ]
     },
     "execution_count": 56,
     "metadata": {},
     "output_type": "execute_result"
    }
   ],
   "source": [
    "window_duration = 0.04\n",
    "window_shift = 0.02\n",
    "window_length = int(window_duration*wav_fs)\n",
    "window_overlap = int((window_duration-window_shift)*wav_fs)\n",
    "# spectrogram\n",
    "[f,t,X] = signal.spectral.spectrogram(\n",
    "            wav_data, window='hamming',\n",
    "            nperseg=window_length, noverlap=window_overlap, nfft=window_length,\n",
    "            detrend=False, return_onesided=True, mode='magnitude')\n",
    "f.shape, t.shape, X.shape       # X:[f.dim, t.dim(frames)]"
   ]
  },
  {
   "cell_type": "code",
   "execution_count": 34,
   "metadata": {},
   "outputs": [
    {
     "data": {
      "text/plain": [
       "(26, 883)"
      ]
     },
     "execution_count": 34,
     "metadata": {},
     "output_type": "execute_result"
    }
   ],
   "source": [
    "# mel filter banks\n",
    "n_mels = 26\n",
    "melW = librosa.filters.mel(\n",
    "        sr=wav_fs, n_fft=window_length,\n",
    "        n_mels=n_mels, fmin=0., fmax=wav_fs/2)\n",
    "melW.shape                      # melW:[n_mels, f.dim]"
   ]
  },
  {
   "cell_type": "code",
   "execution_count": 40,
   "metadata": {},
   "outputs": [
    {
     "data": {
      "text/plain": [
       "array([0.        , 0.00113935, 0.0022787 , 0.00341804, 0.00455739,\n",
       "       0.00569674, 0.0066656 , 0.00552626, 0.00438691, 0.00324756,\n",
       "       0.00210821, 0.00096886, 0.        , 0.        , 0.        ,\n",
       "       0.        , 0.        , 0.        , 0.        , 0.        ],\n",
       "      dtype=float32)"
      ]
     },
     "execution_count": 40,
     "metadata": {},
     "output_type": "execute_result"
    }
   ],
   "source": [
    "melW[0,:20]"
   ]
  },
  {
   "cell_type": "code",
   "execution_count": 44,
   "metadata": {},
   "outputs": [
    {
     "data": {
      "text/plain": [
       "array([0.        , 0.17092949, 0.34185898, 0.5127885 , 0.68371797,\n",
       "       0.85464746, 1.        , 0.8290705 , 0.65814096, 0.4872115 ,\n",
       "       0.316282  , 0.14535251, 0.        , 0.        , 0.        ,\n",
       "       0.        , 0.        , 0.        , 0.        , 0.        ],\n",
       "      dtype=float32)"
      ]
     },
     "execution_count": 44,
     "metadata": {},
     "output_type": "execute_result"
    }
   ],
   "source": [
    "melW /= np.max(melW,axis=-1)[:,None]    # normalization, [:,None]: 1dim->2dim\n",
    "melW[0,:20]"
   ]
  },
  {
   "cell_type": "code",
   "execution_count": 45,
   "metadata": {},
   "outputs": [
    {
     "data": {
      "text/plain": [
       "(26, 499)"
      ]
     },
     "execution_count": 45,
     "metadata": {},
     "output_type": "execute_result"
    }
   ],
   "source": [
    "# filtering\n",
    "melX = np.dot(melW, X)          # melX:[n_mels, t.dim(frames)]\n",
    "melX.shape"
   ]
  },
  {
   "cell_type": "code",
   "execution_count": 47,
   "metadata": {},
   "outputs": [],
   "source": [
    "# cut stft to 400\n",
    "stftX = X[0:400]"
   ]
  },
  {
   "cell_type": "code",
   "execution_count": 75,
   "metadata": {},
   "outputs": [],
   "source": [
    "f2,t2,zxx = signal.stft(\n",
    "                wav_data, window='hamming',\n",
    "                nperseg=window_length, noverlap=window_overlap, nfft=window_length,\n",
    "                detrend=False,return_onesided=True)\n",
    "stftX2 = np.abs(zxx)                     # the dimension of final feature:200 or 400"
   ]
  },
  {
   "cell_type": "code",
   "execution_count": 78,
   "metadata": {},
   "outputs": [
    {
     "data": {
      "text/plain": [
       "(883, 501)"
      ]
     },
     "execution_count": 78,
     "metadata": {},
     "output_type": "execute_result"
    }
   ],
   "source": [
    "stftX2.shape"
   ]
  },
  {
   "cell_type": "code",
   "execution_count": 77,
   "metadata": {},
   "outputs": [
    {
     "data": {
      "text/plain": [
       "array([0.17631703, 0.39032633, 0.62441752, 0.6423795 , 0.34250796,\n",
       "       0.10943047, 0.11875023, 0.45517339, 0.36079344, 0.51178501])"
      ]
     },
     "execution_count": 77,
     "metadata": {},
     "output_type": "execute_result"
    }
   ],
   "source": [
    "stftX[:10,0]"
   ]
  },
  {
   "cell_type": "code",
   "execution_count": 81,
   "metadata": {},
   "outputs": [
    {
     "data": {
      "text/plain": [
       "array([0.17642805, 0.39057211, 0.6248107 , 0.642784  , 0.34272363,\n",
       "       0.10949938, 0.11882501, 0.45546001, 0.36102062, 0.51210727])"
      ]
     },
     "execution_count": 81,
     "metadata": {},
     "output_type": "execute_result"
    }
   ],
   "source": [
    "stftX2[:10,1]*36"
   ]
  },
  {
   "cell_type": "code",
   "execution_count": 82,
   "metadata": {},
   "outputs": [
    {
     "data": {
      "text/plain": [
       "array([[2.16861219, 2.63984489, 2.91289399, ..., 2.98063838, 3.53350432,\n",
       "        3.215227  ],\n",
       "       [1.92295319, 1.97248856, 1.76308336, ..., 1.69178101, 3.11441518,\n",
       "        3.45216024],\n",
       "       [2.40597872, 2.32051641, 2.62985598, ..., 1.89839503, 2.05477052,\n",
       "        3.09736428],\n",
       "       ...,\n",
       "       [0.17434594, 0.15688637, 0.35344306, ..., 0.12835427, 0.09454472,\n",
       "        0.10329606],\n",
       "       [0.10528685, 0.08091289, 0.22138715, ..., 0.08235832, 0.06762544,\n",
       "        0.06677239],\n",
       "       [0.07506163, 0.05373003, 0.18861271, ..., 0.06493378, 0.06393153,\n",
       "        0.05414197]])"
      ]
     },
     "execution_count": 82,
     "metadata": {},
     "output_type": "execute_result"
    }
   ],
   "source": [
    "melX"
   ]
  },
  {
   "cell_type": "code",
   "execution_count": 83,
   "metadata": {},
   "outputs": [
    {
     "data": {
      "text/plain": [
       "array([[2.16861219, 1.92295319, 2.40597872, ..., 0.17434594, 0.10528685,\n",
       "        0.07506163],\n",
       "       [2.63984489, 1.97248856, 2.32051641, ..., 0.15688637, 0.08091289,\n",
       "        0.05373003],\n",
       "       [2.91289399, 1.76308336, 2.62985598, ..., 0.35344306, 0.22138715,\n",
       "        0.18861271],\n",
       "       ...,\n",
       "       [2.98063838, 1.69178101, 1.89839503, ..., 0.12835427, 0.08235832,\n",
       "        0.06493378],\n",
       "       [3.53350432, 3.11441518, 2.05477052, ..., 0.09454472, 0.06762544,\n",
       "        0.06393153],\n",
       "       [3.215227  , 3.45216024, 3.09736428, ..., 0.10329606, 0.06677239,\n",
       "        0.05414197]])"
      ]
     },
     "execution_count": 83,
     "metadata": {},
     "output_type": "execute_result"
    }
   ],
   "source": [
    "np.swapaxes(melX,0,1)"
   ]
  },
  {
   "cell_type": "code",
   "execution_count": 90,
   "metadata": {},
   "outputs": [],
   "source": [
    "from scipy.fftpack import dct\n",
    "\n",
    "n_remain = 13\n",
    "fbanks = np.swapaxes(melX,0,1)\n",
    "mfcc = dct(np.log10(fbanks), type=2, axis=1, norm='ortho')[:, :n_remain]"
   ]
  },
  {
   "cell_type": "code",
   "execution_count": 93,
   "metadata": {},
   "outputs": [
    {
     "data": {
      "text/plain": [
       "array([-1.26782557,  2.0172743 , -0.06742619,  0.26595663, -0.06648767,\n",
       "        0.14682215, -0.29875233,  0.22213856, -0.18849633, -0.08055461,\n",
       "        0.05189451,  0.07799852,  0.00247447])"
      ]
     },
     "execution_count": 93,
     "metadata": {},
     "output_type": "execute_result"
    }
   ],
   "source": [
    "mfcc[0]"
   ]
  },
  {
   "cell_type": "code",
   "execution_count": 91,
   "metadata": {},
   "outputs": [
    {
     "data": {
      "text/plain": [
       "(499, 13)"
      ]
     },
     "execution_count": 91,
     "metadata": {},
     "output_type": "execute_result"
    }
   ],
   "source": [
    "mfcc.shape"
   ]
  },
  {
   "cell_type": "code",
   "execution_count": 92,
   "metadata": {},
   "outputs": [],
   "source": [
    "from Extract_feature import extract_mfcc\n",
    "\n",
    "wav_file_path = 'audioset/train/airport-lisbon-1000-40000-a.wav' \n",
    "result = extract_mfcc(wav_file_path)"
   ]
  },
  {
   "cell_type": "code",
   "execution_count": 96,
   "metadata": {},
   "outputs": [
    {
     "data": {
      "text/plain": [
       "array([-1.26782557,  2.0172743 , -0.06742619,  0.26595663, -0.06648767,\n",
       "        0.14682215, -0.29875233,  0.22213856, -0.18849633, -0.08055461,\n",
       "        0.05189451,  0.07799852,  0.00247447])"
      ]
     },
     "execution_count": 96,
     "metadata": {},
     "output_type": "execute_result"
    }
   ],
   "source": [
    "result[0]"
   ]
  }
 ],
 "metadata": {
  "kernelspec": {
   "display_name": "phla",
   "language": "python",
   "name": "python3"
  },
  "language_info": {
   "codemirror_mode": {
    "name": "ipython",
    "version": 3
   },
   "file_extension": ".py",
   "mimetype": "text/x-python",
   "name": "python",
   "nbconvert_exporter": "python",
   "pygments_lexer": "ipython3",
   "version": "3.8.13 (default, Mar 28 2022, 11:38:47) \n[GCC 7.5.0]"
  },
  "orig_nbformat": 4,
  "vscode": {
   "interpreter": {
    "hash": "b0469df6e709a2df7221cf6a41b4e84b201802bdff0592e7cbfef445384a2896"
   }
  }
 },
 "nbformat": 4,
 "nbformat_minor": 2
}
