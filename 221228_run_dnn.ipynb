{
 "cells": [
  {
   "cell_type": "code",
   "execution_count": 1,
   "metadata": {},
   "outputs": [
    {
     "name": "stdout",
     "output_type": "stream",
     "text": [
      "(3008, 6487)\n",
      "(379, 6487)\n",
      "(330, 6487)\n",
      "train:\t3008, 12\n",
      "dev:\t379, 2\n",
      "eval:\t330, 2\n",
      "Data preparing done\n"
     ]
    }
   ],
   "source": [
    "import torch\n",
    "from train_dnn import prepare_dataloader\n",
    "\n",
    "configs = {\n",
    "    \"window_duration\": 0.04,\n",
    "    \"window_shift\": 0.02,\n",
    "    \"n_frames\": 499,\n",
    "    \"n_mels\": 26,\n",
    "    \"n_feature\": 13,\n",
    "    \"feature_type\": \"mfcc\",\n",
    "    \"learing_rate\": 0.001,\n",
    "    \"batch_size\": 256,\n",
    "    \"p_dropout\": 0,\n",
    "    \"model_type\": \"dnn\"\n",
    "}\n",
    "device = torch.device(\"cuda:4\" if torch.cuda.is_available() else \"cpu\")\n",
    "\n",
    "train_loader, dev_loader, eval_loader = prepare_dataloader(configs)\n",
    "print(\"Data preparing done\")"
   ]
  },
  {
   "cell_type": "code",
   "execution_count": 2,
   "metadata": {},
   "outputs": [
    {
     "name": "stdout",
     "output_type": "stream",
     "text": [
      "model preparing done\n",
      "Epoch-1: train loss=2.0415, dev accurary=0.4301 | Model saving...\n",
      "Epoch-2: train loss=1.7894, dev accurary=0.4433 | Model saving...\n",
      "Epoch-3: train loss=1.5502, dev accurary=0.4934 | Model saving...\n",
      "Epoch-4: train loss=1.4960, dev accurary=0.5119 | Model saving...\n",
      "Epoch-5: train loss=1.4695, dev accurary=0.4908 \n",
      "Epoch-6: train loss=1.3870, dev accurary=0.5224 | Model saving...\n",
      "Epoch-7: train loss=1.3603, dev accurary=0.5356 | Model saving...\n",
      "Epoch-8: train loss=1.2640, dev accurary=0.5383 | Model saving...\n",
      "Epoch-9: train loss=1.2897, dev accurary=0.5699 | Model saving...\n",
      "Epoch-10: train loss=1.2091, dev accurary=0.5673 \n",
      "Epoch-11: train loss=1.1526, dev accurary=0.5778 | Model saving...\n",
      "Epoch-12: train loss=1.1273, dev accurary=0.5778 \n",
      "Epoch-13: train loss=1.1082, dev accurary=0.5778 \n",
      "Epoch-14: train loss=1.0989, dev accurary=0.5884 | Model saving...\n",
      "Epoch-15: train loss=1.0431, dev accurary=0.5910 | Model saving...\n",
      "Epoch-16: train loss=1.0300, dev accurary=0.5831 \n",
      "Epoch-17: train loss=1.0323, dev accurary=0.5858 \n",
      "Epoch-18: train loss=0.9692, dev accurary=0.5937 | Model saving...\n",
      "Epoch-19: train loss=0.9242, dev accurary=0.6095 | Model saving...\n",
      "Epoch-20: train loss=0.9438, dev accurary=0.6121 | Model saving...\n",
      "Epoch-21: train loss=0.8520, dev accurary=0.6042 \n",
      "Epoch-22: train loss=1.0802, dev accurary=0.6570 | Model saving...\n",
      "Epoch-23: train loss=0.8663, dev accurary=0.6332 \n",
      "Epoch-24: train loss=0.8077, dev accurary=0.6385 \n",
      "Epoch-25: train loss=0.8161, dev accurary=0.6438 \n",
      "EARLY STOP TRIGGERED\n"
     ]
    }
   ],
   "source": [
    "from train_dnn import train\n",
    "from dnn_model import DNN1\n",
    "\n",
    "model = DNN1(configs[\"n_frames\"]*configs[\"n_feature\"], 10, p=configs[\"p_dropout\"]).to(device)\n",
    "print(\"model preparing done\")\n",
    "\n",
    "configs[\"learing_rate\"] = 0.0005\n",
    "modelpath = \"/data/lujd/algorithm2022/model/origin/dnn1/\"\n",
    "(train_loss_list, train_acc_list,\n",
    "    dev_loss_list, dev_acc_list) = train(\n",
    "                                        model, train_loader, dev_loader,\n",
    "                                        configs, device, modelpath, early_stop=3)"
   ]
  },
  {
   "cell_type": "code",
   "execution_count": 3,
   "metadata": {},
   "outputs": [
    {
     "name": "stdout",
     "output_type": "stream",
     "text": [
      "1-test accurary: segs=0.4030\n",
      "2-test accurary: segs=0.4242\n",
      "3-test accurary: segs=0.4424\n",
      "4-test accurary: segs=0.4788\n",
      "5-test accurary: segs=0.4364\n",
      "6-test accurary: segs=0.4424\n",
      "7-test accurary: segs=0.4606\n",
      "8-test accurary: segs=0.5000\n",
      "9-test accurary: segs=0.5212\n",
      "10-test accurary: segs=0.4727\n",
      "11-test accurary: segs=0.4667\n",
      "12-test accurary: segs=0.4636\n",
      "13-test accurary: segs=0.4818\n",
      "14-test accurary: segs=0.4727\n",
      "15-test accurary: segs=0.4788\n",
      "16-test accurary: segs=0.4303\n",
      "17-test accurary: segs=0.4667\n",
      "18-test accurary: segs=0.4636\n",
      "19-test accurary: segs=0.4879\n",
      "20-test accurary: segs=0.4455\n",
      "21-test accurary: segs=0.4788\n",
      "22-test accurary: segs=0.4424\n",
      "23-test accurary: segs=0.4485\n",
      "24-test accurary: segs=0.4848\n",
      "25-test accurary: segs=0.4515\n"
     ]
    }
   ],
   "source": [
    "from train_dnn import eval_step\n",
    "from dnn_model import DNN1\n",
    "\n",
    "epochs = len(train_loss_list)\n",
    "test_device = torch.device(\"cuda:6\" if torch.cuda.is_available() else \"cpu\")\n",
    "for e in range(epochs):\n",
    "    test_model = DNN1(configs[\"n_frames\"]*configs[\"n_feature\"], 10, p=configs[\"p_dropout\"]).to(test_device)\n",
    "    modelname = \"model_lr{}_B{}_p{}_ep{}.pkl\".format(configs[\"learing_rate\"], configs[\"batch_size\"], configs[\"p_dropout\"], e+1)\n",
    "    test_model.load_state_dict(torch.load(modelpath+modelname), strict = True)\n",
    "\n",
    "    eval_loss, eval_acc, true_label_list, pre_label_list = eval_step(test_model, eval_loader, configs, test_device)\n",
    "    print(\"{}-test accurary: segs={:.4f}\".format(e+1,eval_acc))"
   ]
  },
  {
   "cell_type": "code",
   "execution_count": 4,
   "metadata": {},
   "outputs": [
    {
     "name": "stdout",
     "output_type": "stream",
     "text": [
      "model preparing done\n",
      "Epoch-1: train loss=2.7925, dev accurary=0.2929 | Model saving...\n",
      "Epoch-2: train loss=1.9285, dev accurary=0.4354 | Model saving...\n",
      "Epoch-3: train loss=1.6683, dev accurary=0.4881 | Model saving...\n",
      "Epoch-4: train loss=1.6904, dev accurary=0.4591 \n",
      "Epoch-5: train loss=1.6252, dev accurary=0.5040 | Model saving...\n",
      "Epoch-6: train loss=1.5333, dev accurary=0.5172 | Model saving...\n",
      "Epoch-7: train loss=1.4997, dev accurary=0.5119 \n",
      "Epoch-8: train loss=1.4149, dev accurary=0.5409 | Model saving...\n",
      "Epoch-9: train loss=1.3926, dev accurary=0.5383 \n",
      "Epoch-10: train loss=1.2942, dev accurary=0.5488 | Model saving...\n",
      "Epoch-11: train loss=1.2987, dev accurary=0.5383 \n",
      "Epoch-12: train loss=1.2023, dev accurary=0.5646 | Model saving...\n",
      "Epoch-13: train loss=1.1567, dev accurary=0.5858 | Model saving...\n",
      "Epoch-14: train loss=1.2006, dev accurary=0.5145 \n",
      "Epoch-15: train loss=1.1196, dev accurary=0.5699 \n",
      "Epoch-16: train loss=1.1313, dev accurary=0.5726 \n",
      "EARLY STOP TRIGGERED\n"
     ]
    }
   ],
   "source": [
    "from train_dnn import train\n",
    "from dnn_model import DNN2\n",
    "\n",
    "model = DNN2(configs[\"n_frames\"]*configs[\"n_feature\"], 10, p=configs[\"p_dropout\"]).to(device)\n",
    "print(\"model preparing done\")\n",
    "\n",
    "configs[\"learing_rate\"] = 0.0005\n",
    "modelpath = \"/data/lujd/algorithm2022/model/origin/dnn2/\"\n",
    "(train_loss_list, train_acc_list,\n",
    "    dev_loss_list, dev_acc_list) = train(\n",
    "                                        model, train_loader, dev_loader,\n",
    "                                        configs, device, modelpath, early_stop=3)"
   ]
  },
  {
   "cell_type": "code",
   "execution_count": 5,
   "metadata": {},
   "outputs": [
    {
     "name": "stdout",
     "output_type": "stream",
     "text": [
      "1-test accurary: segs=0.2848\n",
      "2-test accurary: segs=0.4273\n",
      "3-test accurary: segs=0.4848\n",
      "4-test accurary: segs=0.4606\n",
      "5-test accurary: segs=0.4545\n",
      "6-test accurary: segs=0.4879\n",
      "7-test accurary: segs=0.4576\n",
      "8-test accurary: segs=0.4606\n",
      "9-test accurary: segs=0.4848\n",
      "10-test accurary: segs=0.4970\n",
      "11-test accurary: segs=0.4727\n",
      "12-test accurary: segs=0.5030\n",
      "13-test accurary: segs=0.4879\n",
      "14-test accurary: segs=0.4152\n",
      "15-test accurary: segs=0.4606\n",
      "16-test accurary: segs=0.4848\n"
     ]
    }
   ],
   "source": [
    "from train_dnn import eval_step\n",
    "from dnn_model import DNN2\n",
    "\n",
    "epochs = len(train_loss_list)\n",
    "test_device = torch.device(\"cuda:6\" if torch.cuda.is_available() else \"cpu\")\n",
    "for e in range(epochs):\n",
    "    test_model = DNN2(configs[\"n_frames\"]*configs[\"n_feature\"], 10, p=configs[\"p_dropout\"]).to(test_device)\n",
    "    modelname = \"model_lr{}_B{}_p{}_ep{}.pkl\".format(configs[\"learing_rate\"], configs[\"batch_size\"], configs[\"p_dropout\"], e+1)\n",
    "    test_model.load_state_dict(torch.load(modelpath+modelname), strict = True)\n",
    "\n",
    "    eval_loss, eval_acc, true_label_list, pre_label_list = eval_step(test_model, eval_loader, configs, test_device)\n",
    "    print(\"{}-test accurary: segs={:.4f}\".format(e+1,eval_acc))"
   ]
  },
  {
   "cell_type": "code",
   "execution_count": 10,
   "metadata": {},
   "outputs": [
    {
     "name": "stdout",
     "output_type": "stream",
     "text": [
      "model preparing done\n",
      "Epoch-1: train loss=1.3674, dev accurary=0.3694 | Model saving...\n",
      "Epoch-2: train loss=0.9939, dev accurary=0.5303 | Model saving...\n",
      "Epoch-3: train loss=0.7189, dev accurary=0.6306 | Model saving...\n",
      "Epoch-4: train loss=0.4810, dev accurary=0.6359 | Model saving...\n",
      "Epoch-5: train loss=0.2753, dev accurary=0.6359 \n",
      "Epoch-6: train loss=0.2286, dev accurary=0.6702 | Model saving...\n",
      "Epoch-7: train loss=0.1076, dev accurary=0.6781 | Model saving...\n",
      "Epoch-8: train loss=0.0881, dev accurary=0.6464 \n",
      "Epoch-9: train loss=0.0956, dev accurary=0.6570 \n",
      "Epoch-10: train loss=0.0829, dev accurary=0.6253 \n",
      "EARLY STOP TRIGGERED\n"
     ]
    }
   ],
   "source": [
    "from train_dnn import train\n",
    "from dnn_model import DNN3\n",
    "\n",
    "model = DNN3(configs[\"n_frames\"]*configs[\"n_feature\"], 10, p=configs[\"p_dropout\"]).to(device)\n",
    "print(\"model preparing done\")\n",
    "\n",
    "configs[\"learing_rate\"] = 0.001\n",
    "modelpath = \"/data/lujd/algorithm2022/model/origin/dnn3/\"\n",
    "(train_loss_list, train_acc_list,\n",
    "    dev_loss_list, dev_acc_list) = train(\n",
    "                                        model, train_loader, dev_loader,\n",
    "                                        configs, device, modelpath, early_stop=3)"
   ]
  },
  {
   "cell_type": "code",
   "execution_count": 11,
   "metadata": {},
   "outputs": [
    {
     "name": "stdout",
     "output_type": "stream",
     "text": [
      "1-test accurary: segs=0.3394\n",
      "2-test accurary: segs=0.4182\n",
      "3-test accurary: segs=0.5091\n",
      "4-test accurary: segs=0.4576\n",
      "5-test accurary: segs=0.4545\n",
      "6-test accurary: segs=0.5212\n",
      "7-test accurary: segs=0.4667\n",
      "8-test accurary: segs=0.4515\n",
      "9-test accurary: segs=0.5030\n",
      "10-test accurary: segs=0.4636\n"
     ]
    }
   ],
   "source": [
    "from train_dnn import eval_step\n",
    "from dnn_model import DNN3\n",
    "\n",
    "epochs = len(train_loss_list)\n",
    "test_device = torch.device(\"cuda:6\" if torch.cuda.is_available() else \"cpu\")\n",
    "for e in range(epochs):\n",
    "    test_model = DNN3(configs[\"n_frames\"]*configs[\"n_feature\"], 10, p=configs[\"p_dropout\"]).to(test_device)\n",
    "    modelname = \"model_lr{}_B{}_p{}_ep{}.pkl\".format(configs[\"learing_rate\"], configs[\"batch_size\"], configs[\"p_dropout\"], e+1)\n",
    "    test_model.load_state_dict(torch.load(modelpath+modelname), strict = True)\n",
    "\n",
    "    eval_loss, eval_acc, true_label_list, pre_label_list = eval_step(test_model, eval_loader, configs, test_device)\n",
    "    print(\"{}-test accurary: segs={:.4f}\".format(e+1,eval_acc))"
   ]
  },
  {
   "cell_type": "code",
   "execution_count": 20,
   "metadata": {},
   "outputs": [
    {
     "name": "stdout",
     "output_type": "stream",
     "text": [
      "model preparing done\n",
      "Epoch-1: train loss=1.4260, dev accurary=0.4037 | Model saving...\n",
      "Epoch-2: train loss=1.0008, dev accurary=0.5726 | Model saving...\n",
      "Epoch-3: train loss=0.6825, dev accurary=0.6596 | Model saving...\n",
      "Epoch-4: train loss=0.4211, dev accurary=0.6385 \n",
      "Epoch-5: train loss=0.3204, dev accurary=0.6623 | Model saving...\n",
      "Epoch-6: train loss=0.1622, dev accurary=0.6596 \n",
      "Epoch-7: train loss=0.1441, dev accurary=0.6148 \n",
      "Epoch-8: train loss=0.1228, dev accurary=0.6174 \n",
      "EARLY STOP TRIGGERED\n"
     ]
    }
   ],
   "source": [
    "from train_dnn import train\n",
    "from dnn_model import DNN4\n",
    "\n",
    "configs[\"p_dropout\"] = 0\n",
    "model = DNN4(configs[\"n_frames\"]*configs[\"n_feature\"], 10, p=configs[\"p_dropout\"]).to(device)\n",
    "print(\"model preparing done\")\n",
    "\n",
    "configs[\"learing_rate\"] = 0.001\n",
    "modelpath = \"/data/lujd/algorithm2022/model/origin/dnn4/\"\n",
    "(train_loss_list, train_acc_list,\n",
    "    dev_loss_list, dev_acc_list) = train(\n",
    "                                        model, train_loader, dev_loader,\n",
    "                                        configs, device, modelpath, early_stop=3)"
   ]
  },
  {
   "cell_type": "code",
   "execution_count": 21,
   "metadata": {},
   "outputs": [
    {
     "name": "stdout",
     "output_type": "stream",
     "text": [
      "1-test accurary: segs=0.3939\n",
      "2-test accurary: segs=0.4636\n",
      "3-test accurary: segs=0.4667\n",
      "4-test accurary: segs=0.4758\n",
      "5-test accurary: segs=0.4848\n",
      "6-test accurary: segs=0.4606\n",
      "7-test accurary: segs=0.4667\n",
      "8-test accurary: segs=0.4364\n"
     ]
    }
   ],
   "source": [
    "from train_dnn import eval_step\n",
    "\n",
    "epochs = len(train_loss_list)\n",
    "test_device = torch.device(\"cuda:6\" if torch.cuda.is_available() else \"cpu\")\n",
    "for e in range(epochs):\n",
    "    test_model = DNN4(configs[\"n_frames\"]*configs[\"n_feature\"], 10, p=configs[\"p_dropout\"]).to(test_device)\n",
    "    modelname = \"model_lr{}_B{}_p{}_ep{}.pkl\".format(configs[\"learing_rate\"], configs[\"batch_size\"], configs[\"p_dropout\"], e+1)\n",
    "    test_model.load_state_dict(torch.load(modelpath+modelname), strict = True)\n",
    "\n",
    "    eval_loss, eval_acc, true_label_list, pre_label_list = eval_step(test_model, eval_loader, configs, test_device)\n",
    "    print(\"{}-test accurary: segs={:.4f}\".format(e+1,eval_acc))"
   ]
  }
 ],
 "metadata": {
  "kernelspec": {
   "display_name": "phla",
   "language": "python",
   "name": "python3"
  },
  "language_info": {
   "codemirror_mode": {
    "name": "ipython",
    "version": 3
   },
   "file_extension": ".py",
   "mimetype": "text/x-python",
   "name": "python",
   "nbconvert_exporter": "python",
   "pygments_lexer": "ipython3",
   "version": "3.8.13 (default, Mar 28 2022, 11:38:47) \n[GCC 7.5.0]"
  },
  "orig_nbformat": 4,
  "vscode": {
   "interpreter": {
    "hash": "b0469df6e709a2df7221cf6a41b4e84b201802bdff0592e7cbfef445384a2896"
   }
  }
 },
 "nbformat": 4,
 "nbformat_minor": 2
}
